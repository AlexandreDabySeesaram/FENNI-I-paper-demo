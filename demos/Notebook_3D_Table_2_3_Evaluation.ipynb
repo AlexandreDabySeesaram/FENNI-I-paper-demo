{
 "cells": [
  {
   "cell_type": "markdown",
   "metadata": {},
   "source": [
    "## 3D Case"
   ]
  },
  {
   "cell_type": "code",
   "execution_count": 1,
   "metadata": {},
   "outputs": [
    {
     "name": "stdout",
     "output_type": "stream",
     "text": [
      "* WARNING: could not load tikzplotlib\n"
     ]
    }
   ],
   "source": [
    "#%% Libraries import\n",
    "# import HiDeNN library\n",
    "import sys  \n",
    "# sys.path.append(\"../neurom/\")\n",
    "from neurom.HiDeNN_PDE import MeshNN, NeuROM, MeshNN_2D, MeshNN_1D, MeshNN_3D\n",
    "# Import pre-processing functions\n",
    "import neurom.src.Pre_processing as pre\n",
    "# Import torch librairies\n",
    "import torch\n",
    "import torch.nn as nn\n",
    "# Import mechanical functions\n",
    "from neurom.src.PDE_Library import Strain, Stress,VonMises_plain_strain\n",
    "# Import Training funcitons\n",
    "from neurom.src.Training import Training_2_3D_FEM\n",
    "#Import post processing libraries\n",
    "import neurom.Post.Plots as Pplot\n",
    "import time\n",
    "import os\n",
    "import torch._dynamo as dynamo\n",
    "mps_device = torch.device(\"mps\")\n",
    "from importlib import reload  # Python 3.4+\n",
    "import tomllib\n",
    "import numpy as numpy\n",
    "import argparse\n",
    "import meshio\n",
    "\n",
    "import matplotlib.pyplot as plt\n",
    "\n"
   ]
  },
  {
   "cell_type": "markdown",
   "metadata": {},
   "source": [
    "Load configuration file for 3D case"
   ]
  },
  {
   "cell_type": "code",
   "execution_count": 2,
   "metadata": {},
   "outputs": [],
   "source": [
    "Default_config_file = 'Configurations/config_3D_Cube_w_hole.toml'\n",
    "\n",
    "with open(Default_config_file, mode=\"rb\") as f:\n",
    "    config = tomllib.load(f)"
   ]
  },
  {
   "cell_type": "markdown",
   "metadata": {},
   "source": [
    "# Load evaluation data\n",
    "\n",
    "- sampling points \n",
    "- reference values of displacement and stress"
   ]
  },
  {
   "cell_type": "code",
   "execution_count": 3,
   "metadata": {},
   "outputs": [],
   "source": [
    "eval_coord_file = \"GroundTruth/Cube_eval_coordinates_0.05.npy\"\n",
    "num_displ_file = \"GroundTruth/Cube_hole_order_1_0.05_displacement.npy\"\n",
    "num_stress_file = \"GroundTruth/Cube_hole_order_1_0.05_stress.npy\"\n",
    "\n",
    "eval_coord =  torch.tensor(numpy.load(eval_coord_file), dtype=torch.float64, requires_grad=True)\n",
    "n_samples =   eval_coord.shape[0]\n",
    "\n",
    "eval_coord = eval_coord[0:n_samples,:]\n",
    "num_displ = torch.tensor(numpy.load(num_displ_file))[0:n_samples,:]\n",
    "num_stress = torch.tensor(numpy.load(num_stress_file))[0:n_samples,:]\n",
    "num_stress = torch.index_select(num_stress, 1, torch.LongTensor([0,4,8,1,5,2]))\n",
    "\n",
    "num_times = [0.062, 0.109, 0.682, 5.809, 101.365]\n",
    "\n",
    "\n",
    "# Ordering of stress componennts: \n",
    "\n",
    "# xx xy xz      0 1 2\n",
    "# yx yy yz      3 4 5\n",
    "# zx zy zz      6 7 8\n",
    "\n",
    "# nn stress 3D: XX, YY, ZZ, XY, YZ, XZ  ---> 0 : xx, 4:yy, 8: zz, 1: xy, 5: yz, 2: xz\n"
   ]
  },
  {
   "cell_type": "markdown",
   "metadata": {},
   "source": [
    "# Table 2 - Fixed mesh training\n",
    "\n",
    "- Initialize model based on mesh resolution\n",
    "- Load trained weights\n",
    "- Evaluate model on sampling points + compute stress"
   ]
  },
  {
   "cell_type": "code",
   "execution_count": 4,
   "metadata": {},
   "outputs": [
    {
     "name": "stdout",
     "output_type": "stream",
     "text": [
      "Experiment:  Experiment_1\n",
      "     Resolution :  1\n",
      "     Opimizer:  lbfgs\n",
      " \n",
      " \n",
      "   _   _            ____   ___  __  __ \n",
      "  | \\ | | ___ _   _|  _ \\ / _ \\|  \\/  |\n",
      "  |  \\| |/ _ \\ | | | |_) | | | | |\\/| |\n",
      "  | |\\  |  __/ |_| |  _ <| |_| | |  | |\n",
      "  |_| \\_|\\___|\\__,_|_| \\_\\ ___/|_|  |_|\n",
      "\n",
      "                  2024.09.18\n",
      "*************** Mesh Geometry  ****************\n",
      "\n",
      "Info    : Running '/opt/homebrew/Caskroom/miniconda/base/envs/neurom_1/bin/gmsh Geometries/Cube_hole.geo -3 -order 1 -o Geometries/Cube_hole_order_1_1.msh -clmax 1' [Gmsh 4.13.1, 1 node, max. 1 thread]\n",
      "Info    : Started on Thu Apr 10 10:28:54 2025\n",
      "Info    : Reading 'Geometries/Cube_hole.geo'...\n",
      "Info    : Done reading 'Geometries/Cube_hole.geo'                                                                         \n",
      "Info    : Meshing 1D...\n",
      "Info    : [  0%] Meshing curve 1 (Line)\n",
      "Info    : [ 10%] Meshing curve 2 (Line)\n",
      "Info    : [ 10%] Meshing curve 3 (Line)\n",
      "Info    : [ 20%] Meshing curve 4 (Line)\n",
      "Info    : [ 20%] Meshing curve 5 (Circle)\n",
      "Info    : [ 30%] Meshing curve 6 (Line)\n",
      "Info    : [ 30%] Meshing curve 7 (Line)\n",
      "Info    : [ 40%] Meshing curve 8 (Line)\n",
      "Info    : [ 40%] Meshing curve 9 (Circle)\n",
      "Info    : [ 50%] Meshing curve 10 (Line)\n",
      "Info    : [ 50%] Meshing curve 11 (Line)\n",
      "Info    : [ 60%] Meshing curve 12 (Circle)\n",
      "Info    : [ 60%] Meshing curve 13 (Line)\n",
      "Info    : [ 70%] Meshing curve 14 (Line)\n",
      "Info    : [ 70%] Meshing curve 15 (Circle)\n",
      "Info    : [ 80%] Meshing curve 16 (Line)\n",
      "Info    : [ 80%] Meshing curve 17 (Circle)\n",
      "Info    : [ 90%] Meshing curve 18 (Circle)\n",
      "Info    : [ 90%] Meshing curve 19 (Circle)\n",
      "Info    : [100%] Meshing curve 20 (Circle)\n",
      "Info    : [100%] Meshing curve 21 (Circle)\n",
      "Info    : Done meshing 1D (Wall 0.000931792s, CPU 0.000837s)\n",
      "Info    : Meshing 2D...\n",
      "Info    : [  0%] Meshing surface 1 (Plane, Frontal-Delaunay)\n",
      "Info    : [ 20%] Meshing surface 2 (Plane, Frontal-Delaunay)\n",
      "Info    : [ 30%] Meshing surface 3 (Plane, Frontal-Delaunay)\n",
      "Info    : [ 50%] Meshing surface 4 (Plane, Frontal-Delaunay)\n",
      "Info    : [ 60%] Meshing surface 5 (Plane, Frontal-Delaunay)\n",
      "Info    : [ 80%] Meshing surface 6 (Sphere, Frontal-Delaunay)\n",
      "Info    : [ 90%] Meshing surface 7 (Plane, Frontal-Delaunay)\n",
      "Info    : Done meshing 2D (Wall 0.0410948s, CPU 0.292754s)\n",
      "Info    : Meshing 3D...\n",
      "Info    : 3D Meshing 1 volume with 1 connected component\n",
      "Info    : Tetrahedrizing 796 nodes...\n",
      "Info    : Done tetrahedrizing 804 nodes (Wall 0.00415917s, CPU 0.037129s)\n",
      "Info    : Reconstructing mesh...\n",
      "Info    :  - Creating surface mesh\n",
      "Info    :  - Identifying boundary edges\n",
      "Info    :  - Recovering boundary\n",
      "Info    : Done reconstructing mesh (Wall 0.0119103s, CPU 0.088762s)\n",
      "Info    : Found volume 1\n",
      "Info    : It. 0 - 0 nodes created - worst tet radius 1.05298 (nodes removed 0 0)\n",
      "Info    : 3D refinement terminated (801 nodes total):\n",
      "Info    :  - 0 Delaunay cavities modified for star shapeness\n",
      "Info    :  - 0 nodes could not be inserted\n",
      "Info    :  - 2111 tetrahedra created in 0.000166871 sec. (12650516 tets/s)\n",
      "Info    : 0 node relocations\n",
      "Info    : Done meshing 3D (Wall 0.0233308s, CPU 0.151377s)\n",
      "Info    : Optimizing mesh...\n",
      "Info    : Optimizing volume 1\n",
      "Info    : Optimization starts (volume = 206.491) with worst = 0.0267452 / average = 0.735769:\n",
      "Info    : 0.00 < quality < 0.10 :        11 elements\n",
      "Info    : 0.10 < quality < 0.20 :        17 elements\n",
      "Info    : 0.20 < quality < 0.30 :        35 elements\n",
      "Info    : 0.30 < quality < 0.40 :        37 elements\n",
      "Info    : 0.40 < quality < 0.50 :        43 elements\n",
      "Info    : 0.50 < quality < 0.60 :       153 elements\n",
      "Info    : 0.60 < quality < 0.70 :       420 elements\n",
      "Info    : 0.70 < quality < 0.80 :       588 elements\n",
      "Info    : 0.80 < quality < 0.90 :       541 elements\n",
      "Info    : 0.90 < quality < 1.00 :       264 elements\n",
      "Info    : 60 edge swaps, 0 node relocations (volume = 206.491): worst = 0.30006 / average = 0.752826 (Wall 0.0068203s, CPU 0.053902s)\n",
      "Info    : No ill-shaped tets in the mesh :-)\n",
      "Info    : 0.00 < quality < 0.10 :         0 elements\n",
      "Info    : 0.10 < quality < 0.20 :         0 elements\n",
      "Info    : 0.20 < quality < 0.30 :         0 elements\n",
      "Info    : 0.30 < quality < 0.40 :        34 elements\n",
      "Info    : 0.40 < quality < 0.50 :        41 elements\n",
      "Info    : 0.50 < quality < 0.60 :       157 elements\n",
      "Info    : 0.60 < quality < 0.70 :       425 elements\n",
      "Info    : 0.70 < quality < 0.80 :       592 elements\n",
      "Info    : 0.80 < quality < 0.90 :       545 elements\n",
      "Info    : 0.90 < quality < 1.00 :       261 elements\n",
      "Info    : Done optimizing mesh (Wall 0.00825846s, CPU 0.059503s)\n",
      "Info    : 801 nodes 3933 elements\n",
      "Info    : Writing 'Geometries/Cube_hole_order_1_1.msh'...\n",
      "Info    : Done writing 'Geometries/Cube_hole_order_1_1.msh'\n",
      "Info    : Stopped on Thu Apr 10 10:28:54 2025 (From start: Wall 0.12463s, CPU 1.18571s)\n",
      "\n",
      "************ MESH READING COMPLETE ************\n",
      "\n",
      " * Dimension of the problem: 3D\n",
      " * Elements type:            4-node tetrahedron\n",
      " * Number of Dofs:           2403\n",
      "\n"
     ]
    },
    {
     "data": {
      "text/html": [
       "<pre style=\"white-space:pre;overflow-x:auto;line-height:normal;font-family:Menlo,'DejaVu Sans Mono',consolas,'Courier New',monospace\"><span style=\"color: #808000; text-decoration-color: #808000; font-weight: bold\">Warning:</span><span style=\"color: #808000; text-decoration-color: #808000\"> DOLFIN XML is a legacy format. Consider using XDMF instead.</span>\n",
       "</pre>\n"
      ],
      "text/plain": [
       "\u001b[1;33mWarning:\u001b[0m\u001b[33m DOLFIN XML is a legacy format. Consider using XDMF instead.\u001b[0m\n"
      ]
     },
     "metadata": {},
     "output_type": "display_data"
    },
    {
     "name": "stdout",
     "output_type": "stream",
     "text": [
      "\n"
     ]
    },
    {
     "data": {
      "text/html": [
       "<pre style=\"white-space:pre;overflow-x:auto;line-height:normal;font-family:Menlo,'DejaVu Sans Mono',consolas,'Courier New',monospace\"><span style=\"color: #808000; text-decoration-color: #808000; font-weight: bold\">Warning:</span><span style=\"color: #808000; text-decoration-color: #808000\"> DOLFIN XML is a legacy format. Consider using XDMF instead.</span>\n",
       "</pre>\n"
      ],
      "text/plain": [
       "\u001b[1;33mWarning:\u001b[0m\u001b[33m DOLFIN XML is a legacy format. Consider using XDMF instead.\u001b[0m\n"
      ]
     },
     "metadata": {},
     "output_type": "display_data"
    },
    {
     "name": "stdout",
     "output_type": "stream",
     "text": [
      "     Opimizer:  adam\n",
      " \n",
      " \n",
      "   _   _            ____   ___  __  __ \n",
      "  | \\ | | ___ _   _|  _ \\ / _ \\|  \\/  |\n",
      "  |  \\| |/ _ \\ | | | |_) | | | | |\\/| |\n",
      "  | |\\  |  __/ |_| |  _ <| |_| | |  | |\n",
      "  |_| \\_|\\___|\\__,_|_| \\_\\ ___/|_|  |_|\n",
      "\n",
      "                  2024.09.18\n",
      "\n",
      "************ MESH READING COMPLETE ************\n",
      "\n",
      " * Dimension of the problem: 3D\n",
      " * Elements type:            4-node tetrahedron\n",
      " * Number of Dofs:           2403\n",
      "\n"
     ]
    },
    {
     "data": {
      "text/html": [
       "<pre style=\"white-space:pre;overflow-x:auto;line-height:normal;font-family:Menlo,'DejaVu Sans Mono',consolas,'Courier New',monospace\"><span style=\"color: #808000; text-decoration-color: #808000; font-weight: bold\">Warning:</span><span style=\"color: #808000; text-decoration-color: #808000\"> DOLFIN XML is a legacy format. Consider using XDMF instead.</span>\n",
       "</pre>\n"
      ],
      "text/plain": [
       "\u001b[1;33mWarning:\u001b[0m\u001b[33m DOLFIN XML is a legacy format. Consider using XDMF instead.\u001b[0m\n"
      ]
     },
     "metadata": {},
     "output_type": "display_data"
    },
    {
     "name": "stdout",
     "output_type": "stream",
     "text": [
      "\n"
     ]
    },
    {
     "data": {
      "text/html": [
       "<pre style=\"white-space:pre;overflow-x:auto;line-height:normal;font-family:Menlo,'DejaVu Sans Mono',consolas,'Courier New',monospace\"><span style=\"color: #808000; text-decoration-color: #808000; font-weight: bold\">Warning:</span><span style=\"color: #808000; text-decoration-color: #808000\"> DOLFIN XML is a legacy format. Consider using XDMF instead.</span>\n",
       "</pre>\n"
      ],
      "text/plain": [
       "\u001b[1;33mWarning:\u001b[0m\u001b[33m DOLFIN XML is a legacy format. Consider using XDMF instead.\u001b[0m\n"
      ]
     },
     "metadata": {},
     "output_type": "display_data"
    },
    {
     "name": "stdout",
     "output_type": "stream",
     "text": [
      "     Resolution :  0.5\n",
      "     Opimizer:  lbfgs\n",
      " \n",
      " \n",
      "   _   _            ____   ___  __  __ \n",
      "  | \\ | | ___ _   _|  _ \\ / _ \\|  \\/  |\n",
      "  |  \\| |/ _ \\ | | | |_) | | | | |\\/| |\n",
      "  | |\\  |  __/ |_| |  _ <| |_| | |  | |\n",
      "  |_| \\_|\\___|\\__,_|_| \\_\\ ___/|_|  |_|\n",
      "\n",
      "                  2024.09.18\n",
      "*************** Mesh Geometry  ****************\n",
      "\n",
      "Info    : Running '/opt/homebrew/Caskroom/miniconda/base/envs/neurom_1/bin/gmsh Geometries/Cube_hole.geo -3 -order 1 -o Geometries/Cube_hole_order_1_0.5.msh -clmax 0.5' [Gmsh 4.13.1, 1 node, max. 1 thread]\n",
      "Info    : Started on Thu Apr 10 10:30:29 2025\n",
      "Info    : Reading 'Geometries/Cube_hole.geo'...\n",
      "Info    : Done reading 'Geometries/Cube_hole.geo'                                                                         \n",
      "Info    : Meshing 1D...\n",
      "Info    : [  0%] Meshing curve 1 (Line)\n",
      "Info    : [ 10%] Meshing curve 2 (Line)\n",
      "Info    : [ 10%] Meshing curve 3 (Line)\n",
      "Info    : [ 20%] Meshing curve 4 (Line)\n",
      "Info    : [ 20%] Meshing curve 5 (Circle)\n",
      "Info    : [ 30%] Meshing curve 6 (Line)\n",
      "Info    : [ 30%] Meshing curve 7 (Line)\n",
      "Info    : [ 40%] Meshing curve 8 (Line)\n",
      "Info    : [ 40%] Meshing curve 9 (Circle)\n",
      "Info    : [ 50%] Meshing curve 10 (Line)\n",
      "Info    : [ 50%] Meshing curve 11 (Line)\n",
      "Info    : [ 60%] Meshing curve 12 (Circle)\n",
      "Info    : [ 60%] Meshing curve 13 (Line)\n",
      "Info    : [ 70%] Meshing curve 14 (Line)\n",
      "Info    : [ 70%] Meshing curve 15 (Circle)\n",
      "Info    : [ 80%] Meshing curve 16 (Line)\n",
      "Info    : [ 80%] Meshing curve 17 (Circle)\n",
      "Info    : [ 90%] Meshing curve 18 (Circle)\n",
      "Info    : [ 90%] Meshing curve 19 (Circle)\n",
      "Info    : [100%] Meshing curve 20 (Circle)\n",
      "Info    : [100%] Meshing curve 21 (Circle)\n",
      "Info    : Done meshing 1D (Wall 0.00205796s, CPU 0.006445s)\n",
      "Info    : Meshing 2D...\n",
      "Info    : [  0%] Meshing surface 1 (Plane, Frontal-Delaunay)\n",
      "Info    : [ 20%] Meshing surface 2 (Plane, Frontal-Delaunay)\n",
      "Info    : [ 30%] Meshing surface 3 (Plane, Frontal-Delaunay)\n",
      "Info    : [ 50%] Meshing surface 4 (Plane, Frontal-Delaunay)\n",
      "Info    : [ 60%] Meshing surface 5 (Plane, Frontal-Delaunay)\n",
      "Info    : [ 80%] Meshing surface 6 (Sphere, Frontal-Delaunay)\n",
      "Info    : [ 90%] Meshing surface 7 (Plane, Frontal-Delaunay)\n",
      "Info    : Done meshing 2D (Wall 0.146648s, CPU 0.961683s)\n",
      "Info    : Meshing 3D...\n",
      "Info    : 3D Meshing 1 volume with 1 connected component\n",
      "Info    : Tetrahedrizing 3042 nodes...\n",
      "Info    : Done tetrahedrizing 3050 nodes (Wall 0.0170335s, CPU 0.016545s)\n",
      "Info    : Reconstructing mesh...\n",
      "Info    :  - Creating surface mesh\n",
      "Info    :  - Identifying boundary edges\n",
      "Info    :  - Recovering boundary\n",
      "Info    : Done reconstructing mesh (Wall 0.0392037s, CPU 0.03771s)\n",
      "Info    : Found volume 1\n",
      "Info    : It. 0 - 0 nodes created - worst tet radius 2.08396 (nodes removed 0 0)\n",
      "Info    : 3D refinement terminated (3337 nodes total):\n",
      "Info    :  - 0 Delaunay cavities modified for star shapeness\n",
      "Info    :  - 0 nodes could not be inserted\n",
      "Info    :  - 10667 tetrahedra created in 0.00932983 sec. (1143321 tets/s)\n",
      "Info    : 0 node relocations\n",
      "Info    : Done meshing 3D (Wall 0.102081s, CPU 0.098644s)\n",
      "Info    : Optimizing mesh...\n",
      "Info    : Optimizing volume 1\n",
      "Info    : Optimization starts (volume = 203.193) with worst = 0.000534018 / average = 0.727865:\n",
      "Info    : 0.00 < quality < 0.10 :        60 elements\n",
      "Info    : 0.10 < quality < 0.20 :       129 elements\n",
      "Info    : 0.20 < quality < 0.30 :       174 elements\n",
      "Info    : 0.30 < quality < 0.40 :       219 elements\n",
      "Info    : 0.40 < quality < 0.50 :       351 elements\n",
      "Info    : 0.50 < quality < 0.60 :       704 elements\n",
      "Info    : 0.60 < quality < 0.70 :      2088 elements\n",
      "Info    : 0.70 < quality < 0.80 :      3142 elements\n",
      "Info    : 0.80 < quality < 0.90 :      2535 elements\n",
      "Info    : 0.90 < quality < 1.00 :      1264 elements\n",
      "Info    : 347 edge swaps, 5 node relocations (volume = 203.193): worst = 0.177785 / average = 0.746647 (Wall 0.00313583s, CPU 0.003117s)\n",
      "Info    : 358 edge swaps, 5 node relocations (volume = 203.193): worst = 0.202545 / average = 0.746837 (Wall 0.00358155s, CPU 0.003562s)\n",
      "Info    : 359 edge swaps, 5 node relocations (volume = 203.193): worst = 0.214019 / average = 0.746899 (Wall 0.00390988s, CPU 0.003889s)\n",
      "Info    : No ill-shaped tets in the mesh :-)\n",
      "Info    : 0.00 < quality < 0.10 :         0 elements\n",
      "Info    : 0.10 < quality < 0.20 :         0 elements\n",
      "Info    : 0.20 < quality < 0.30 :         3 elements\n",
      "Info    : 0.30 < quality < 0.40 :       214 elements\n",
      "Info    : 0.40 < quality < 0.50 :       326 elements\n",
      "Info    : 0.50 < quality < 0.60 :       759 elements\n",
      "Info    : 0.60 < quality < 0.70 :      2084 elements\n",
      "Info    : 0.70 < quality < 0.80 :      3136 elements\n",
      "Info    : 0.80 < quality < 0.90 :      2578 elements\n",
      "Info    : 0.90 < quality < 1.00 :      1253 elements\n",
      "Info    : Done optimizing mesh (Wall 0.00902713s, CPU 0.008768s)\n",
      "Info    : 3337 nodes 16971 elements\n",
      "Info    : Writing 'Geometries/Cube_hole_order_1_0.5.msh'...\n",
      "Info    : Done writing 'Geometries/Cube_hole_order_1_0.5.msh'\n",
      "Info    : Stopped on Thu Apr 10 10:30:30 2025 (From start: Wall 0.381042s, CPU 2.09611s)\n",
      "\n",
      "************ MESH READING COMPLETE ************\n",
      "\n",
      " * Dimension of the problem: 3D\n",
      " * Elements type:            4-node tetrahedron\n",
      " * Number of Dofs:           10011\n",
      "\n"
     ]
    },
    {
     "data": {
      "text/html": [
       "<pre style=\"white-space:pre;overflow-x:auto;line-height:normal;font-family:Menlo,'DejaVu Sans Mono',consolas,'Courier New',monospace\"><span style=\"color: #808000; text-decoration-color: #808000; font-weight: bold\">Warning:</span><span style=\"color: #808000; text-decoration-color: #808000\"> DOLFIN XML is a legacy format. Consider using XDMF instead.</span>\n",
       "</pre>\n"
      ],
      "text/plain": [
       "\u001b[1;33mWarning:\u001b[0m\u001b[33m DOLFIN XML is a legacy format. Consider using XDMF instead.\u001b[0m\n"
      ]
     },
     "metadata": {},
     "output_type": "display_data"
    },
    {
     "name": "stdout",
     "output_type": "stream",
     "text": [
      "\n"
     ]
    },
    {
     "data": {
      "text/html": [
       "<pre style=\"white-space:pre;overflow-x:auto;line-height:normal;font-family:Menlo,'DejaVu Sans Mono',consolas,'Courier New',monospace\"><span style=\"color: #808000; text-decoration-color: #808000; font-weight: bold\">Warning:</span><span style=\"color: #808000; text-decoration-color: #808000\"> DOLFIN XML is a legacy format. Consider using XDMF instead.</span>\n",
       "</pre>\n"
      ],
      "text/plain": [
       "\u001b[1;33mWarning:\u001b[0m\u001b[33m DOLFIN XML is a legacy format. Consider using XDMF instead.\u001b[0m\n"
      ]
     },
     "metadata": {},
     "output_type": "display_data"
    },
    {
     "name": "stdout",
     "output_type": "stream",
     "text": [
      "     Opimizer:  adam\n",
      " \n",
      " \n",
      "   _   _            ____   ___  __  __ \n",
      "  | \\ | | ___ _   _|  _ \\ / _ \\|  \\/  |\n",
      "  |  \\| |/ _ \\ | | | |_) | | | | |\\/| |\n",
      "  | |\\  |  __/ |_| |  _ <| |_| | |  | |\n",
      "  |_| \\_|\\___|\\__,_|_| \\_\\ ___/|_|  |_|\n",
      "\n",
      "                  2024.09.18\n",
      "\n",
      "************ MESH READING COMPLETE ************\n",
      "\n",
      " * Dimension of the problem: 3D\n",
      " * Elements type:            4-node tetrahedron\n",
      " * Number of Dofs:           10011\n",
      "\n"
     ]
    },
    {
     "data": {
      "text/html": [
       "<pre style=\"white-space:pre;overflow-x:auto;line-height:normal;font-family:Menlo,'DejaVu Sans Mono',consolas,'Courier New',monospace\"><span style=\"color: #808000; text-decoration-color: #808000; font-weight: bold\">Warning:</span><span style=\"color: #808000; text-decoration-color: #808000\"> DOLFIN XML is a legacy format. Consider using XDMF instead.</span>\n",
       "</pre>\n"
      ],
      "text/plain": [
       "\u001b[1;33mWarning:\u001b[0m\u001b[33m DOLFIN XML is a legacy format. Consider using XDMF instead.\u001b[0m\n"
      ]
     },
     "metadata": {},
     "output_type": "display_data"
    },
    {
     "name": "stdout",
     "output_type": "stream",
     "text": [
      "\n"
     ]
    },
    {
     "data": {
      "text/html": [
       "<pre style=\"white-space:pre;overflow-x:auto;line-height:normal;font-family:Menlo,'DejaVu Sans Mono',consolas,'Courier New',monospace\"><span style=\"color: #808000; text-decoration-color: #808000; font-weight: bold\">Warning:</span><span style=\"color: #808000; text-decoration-color: #808000\"> DOLFIN XML is a legacy format. Consider using XDMF instead.</span>\n",
       "</pre>\n"
      ],
      "text/plain": [
       "\u001b[1;33mWarning:\u001b[0m\u001b[33m DOLFIN XML is a legacy format. Consider using XDMF instead.\u001b[0m\n"
      ]
     },
     "metadata": {},
     "output_type": "display_data"
    },
    {
     "name": "stdout",
     "output_type": "stream",
     "text": [
      "     Resolution :  0.25\n",
      "     Opimizer:  lbfgs\n",
      " \n",
      " \n",
      "   _   _            ____   ___  __  __ \n",
      "  | \\ | | ___ _   _|  _ \\ / _ \\|  \\/  |\n",
      "  |  \\| |/ _ \\ | | | |_) | | | | |\\/| |\n",
      "  | |\\  |  __/ |_| |  _ <| |_| | |  | |\n",
      "  |_| \\_|\\___|\\__,_|_| \\_\\ ___/|_|  |_|\n",
      "\n",
      "                  2024.09.18\n",
      "*************** Mesh Geometry  ****************\n",
      "\n",
      "Info    : Running '/opt/homebrew/Caskroom/miniconda/base/envs/neurom_1/bin/gmsh Geometries/Cube_hole.geo -3 -order 1 -o Geometries/Cube_hole_order_1_0.25.msh -clmax 0.25' [Gmsh 4.13.1, 1 node, max. 1 thread]\n",
      "Info    : Started on Thu Apr 10 10:32:13 2025\n",
      "Info    : Reading 'Geometries/Cube_hole.geo'...\n",
      "Info    : Done reading 'Geometries/Cube_hole.geo'                                                                         \n",
      "Info    : Meshing 1D...\n",
      "Info    : [  0%] Meshing curve 1 (Line)\n",
      "Info    : [ 10%] Meshing curve 2 (Line)\n",
      "Info    : [ 10%] Meshing curve 3 (Line)\n",
      "Info    : [ 20%] Meshing curve 4 (Line)\n",
      "Info    : [ 20%] Meshing curve 5 (Circle)\n",
      "Info    : [ 30%] Meshing curve 6 (Line)\n",
      "Info    : [ 30%] Meshing curve 7 (Line)\n",
      "Info    : [ 40%] Meshing curve 8 (Line)\n",
      "Info    : [ 40%] Meshing curve 9 (Circle)\n",
      "Info    : [ 50%] Meshing curve 10 (Line)\n",
      "Info    : [ 50%] Meshing curve 11 (Line)\n",
      "Info    : [ 60%] Meshing curve 12 (Circle)\n",
      "Info    : [ 60%] Meshing curve 13 (Line)\n",
      "Info    : [ 70%] Meshing curve 14 (Line)\n",
      "Info    : [ 70%] Meshing curve 15 (Circle)\n",
      "Info    : [ 80%] Meshing curve 16 (Line)\n",
      "Info    : [ 80%] Meshing curve 17 (Circle)\n",
      "Info    : [ 90%] Meshing curve 18 (Circle)\n",
      "Info    : [ 90%] Meshing curve 19 (Circle)\n",
      "Info    : [100%] Meshing curve 20 (Circle)\n",
      "Info    : [100%] Meshing curve 21 (Circle)\n",
      "Info    : Done meshing 1D (Wall 0.002078s, CPU 0.014676s)\n",
      "Info    : Meshing 2D...\n",
      "Info    : [  0%] Meshing surface 1 (Plane, Frontal-Delaunay)\n",
      "Info    : [ 20%] Meshing surface 2 (Plane, Frontal-Delaunay)\n",
      "Info    : [ 30%] Meshing surface 3 (Plane, Frontal-Delaunay)\n",
      "Info    : [ 50%] Meshing surface 4 (Plane, Frontal-Delaunay)\n",
      "Info    : [ 60%] Meshing surface 5 (Plane, Frontal-Delaunay)\n",
      "Info    : [ 80%] Meshing surface 6 (Sphere, Frontal-Delaunay)\n",
      "Info    : [ 90%] Meshing surface 7 (Plane, Frontal-Delaunay)\n",
      "Info    : Done meshing 2D (Wall 0.455683s, CPU 1.23738s)\n",
      "Info    : Meshing 3D...\n",
      "Info    : 3D Meshing 1 volume with 1 connected component\n",
      "Info    : Tetrahedrizing 12036 nodes...\n",
      "Info    : Done tetrahedrizing 12044 nodes (Wall 0.0745707s, CPU 0.073241s)\n",
      "Info    : Reconstructing mesh...\n",
      "Info    :  - Creating surface mesh\n",
      "Info    :  - Identifying boundary edges\n",
      "Info    :  - Recovering boundary\n",
      "Info    : Done reconstructing mesh (Wall 0.191093s, CPU 0.184653s)\n",
      "Info    : Found volume 1\n",
      "Info    : It. 0 - 0 nodes created - worst tet radius 3.92056 (nodes removed 0 0)\n",
      "Info    : It. 500 - 500 nodes created - worst tet radius 1.77202 (nodes removed 0 0)\n",
      "Info    : It. 1000 - 1000 nodes created - worst tet radius 1.50849 (nodes removed 0 0)\n",
      "Info    : It. 1500 - 1500 nodes created - worst tet radius 1.37773 (nodes removed 0 0)\n",
      "Info    : It. 2000 - 2000 nodes created - worst tet radius 1.28304 (nodes removed 0 0)\n",
      "Info    : It. 2500 - 2500 nodes created - worst tet radius 1.20752 (nodes removed 0 0)\n",
      "Info    : It. 3000 - 3000 nodes created - worst tet radius 1.15304 (nodes removed 0 0)\n",
      "Info    : It. 3500 - 3500 nodes created - worst tet radius 1.11085 (nodes removed 0 0)\n",
      "Info    : It. 4000 - 4000 nodes created - worst tet radius 1.07642 (nodes removed 0 0)\n",
      "Info    : It. 4500 - 4500 nodes created - worst tet radius 1.04586 (nodes removed 0 0)\n",
      "Info    : It. 5000 - 5000 nodes created - worst tet radius 1.0181 (nodes removed 0 0)\n",
      "Info    : 3D refinement terminated (17379 nodes total):\n",
      "Info    :  - 0 Delaunay cavities modified for star shapeness\n",
      "Info    :  - 0 nodes could not be inserted\n",
      "Info    :  - 70275 tetrahedra created in 0.224269 sec. (313350 tets/s)\n",
      "Info    : 0 node relocations\n",
      "Info    : Done meshing 3D (Wall 0.73685s, CPU 0.705082s)\n",
      "Info    : Optimizing mesh...\n",
      "Info    : Optimizing volume 1\n",
      "Info    : Optimization starts (volume = 202.322) with worst = 0.00813149 / average = 0.761481:\n",
      "Info    : 0.00 < quality < 0.10 :       214 elements\n",
      "Info    : 0.10 < quality < 0.20 :       566 elements\n",
      "Info    : 0.20 < quality < 0.30 :       933 elements\n",
      "Info    : 0.30 < quality < 0.40 :      1322 elements\n",
      "Info    : 0.40 < quality < 0.50 :      1910 elements\n",
      "Info    : 0.50 < quality < 0.60 :      3417 elements\n",
      "Info    : 0.60 < quality < 0.70 :      9138 elements\n",
      "Info    : 0.70 < quality < 0.80 :     19088 elements\n",
      "Info    : 0.80 < quality < 0.90 :     23079 elements\n",
      "Info    : 0.90 < quality < 1.00 :     10606 elements\n",
      "Info    : 1690 edge swaps, 45 node relocations (volume = 202.322): worst = 0.0956775 / average = 0.775892 (Wall 0.0190724s, CPU 0.018976s)\n",
      "Info    : 1728 edge swaps, 46 node relocations (volume = 202.322): worst = 0.193912 / average = 0.775989 (Wall 0.0217862s, CPU 0.021679s)\n",
      "Info    : 1732 edge swaps, 46 node relocations (volume = 202.322): worst = 0.200458 / average = 0.776001 (Wall 0.0238747s, CPU 0.023754s)\n",
      "Info    : 1733 edge swaps, 46 node relocations (volume = 202.322): worst = 0.200458 / average = 0.776009 (Wall 0.0258809s, CPU 0.02575s)\n",
      "Info    : No ill-shaped tets in the mesh :-)\n",
      "Info    : 0.00 < quality < 0.10 :         0 elements\n",
      "Info    : 0.10 < quality < 0.20 :         0 elements\n",
      "Info    : 0.20 < quality < 0.30 :         8 elements\n",
      "Info    : 0.30 < quality < 0.40 :      1323 elements\n",
      "Info    : 0.40 < quality < 0.50 :      1811 elements\n",
      "Info    : 0.50 < quality < 0.60 :      3439 elements\n",
      "Info    : 0.60 < quality < 0.70 :      9185 elements\n",
      "Info    : 0.70 < quality < 0.80 :     19104 elements\n",
      "Info    : 0.80 < quality < 0.90 :     23310 elements\n",
      "Info    : 0.90 < quality < 1.00 :     10594 elements\n",
      "Info    : Done optimizing mesh (Wall 0.0656736s, CPU 0.063737s)\n",
      "Info    : 17379 nodes 93883 elements\n",
      "Info    : Writing 'Geometries/Cube_hole_order_1_0.25.msh'...\n",
      "Info    : Done writing 'Geometries/Cube_hole_order_1_0.25.msh'\n",
      "Info    : Stopped on Thu Apr 10 10:32:15 2025 (From start: Wall 1.4444s, CPU 3.02565s)\n",
      "\n",
      "************ MESH READING COMPLETE ************\n",
      "\n",
      " * Dimension of the problem: 3D\n",
      " * Elements type:            4-node tetrahedron\n",
      " * Number of Dofs:           52137\n",
      "\n"
     ]
    },
    {
     "data": {
      "text/html": [
       "<pre style=\"white-space:pre;overflow-x:auto;line-height:normal;font-family:Menlo,'DejaVu Sans Mono',consolas,'Courier New',monospace\"><span style=\"color: #808000; text-decoration-color: #808000; font-weight: bold\">Warning:</span><span style=\"color: #808000; text-decoration-color: #808000\"> DOLFIN XML is a legacy format. Consider using XDMF instead.</span>\n",
       "</pre>\n"
      ],
      "text/plain": [
       "\u001b[1;33mWarning:\u001b[0m\u001b[33m DOLFIN XML is a legacy format. Consider using XDMF instead.\u001b[0m\n"
      ]
     },
     "metadata": {},
     "output_type": "display_data"
    },
    {
     "name": "stdout",
     "output_type": "stream",
     "text": [
      "\n"
     ]
    },
    {
     "data": {
      "text/html": [
       "<pre style=\"white-space:pre;overflow-x:auto;line-height:normal;font-family:Menlo,'DejaVu Sans Mono',consolas,'Courier New',monospace\"><span style=\"color: #808000; text-decoration-color: #808000; font-weight: bold\">Warning:</span><span style=\"color: #808000; text-decoration-color: #808000\"> DOLFIN XML is a legacy format. Consider using XDMF instead.</span>\n",
       "</pre>\n"
      ],
      "text/plain": [
       "\u001b[1;33mWarning:\u001b[0m\u001b[33m DOLFIN XML is a legacy format. Consider using XDMF instead.\u001b[0m\n"
      ]
     },
     "metadata": {},
     "output_type": "display_data"
    },
    {
     "name": "stdout",
     "output_type": "stream",
     "text": [
      "     Opimizer:  adam\n",
      " \n",
      " \n",
      "   _   _            ____   ___  __  __ \n",
      "  | \\ | | ___ _   _|  _ \\ / _ \\|  \\/  |\n",
      "  |  \\| |/ _ \\ | | | |_) | | | | |\\/| |\n",
      "  | |\\  |  __/ |_| |  _ <| |_| | |  | |\n",
      "  |_| \\_|\\___|\\__,_|_| \\_\\ ___/|_|  |_|\n",
      "\n",
      "                  2024.09.18\n",
      "\n",
      "************ MESH READING COMPLETE ************\n",
      "\n",
      " * Dimension of the problem: 3D\n",
      " * Elements type:            4-node tetrahedron\n",
      " * Number of Dofs:           52137\n",
      "\n"
     ]
    },
    {
     "data": {
      "text/html": [
       "<pre style=\"white-space:pre;overflow-x:auto;line-height:normal;font-family:Menlo,'DejaVu Sans Mono',consolas,'Courier New',monospace\"><span style=\"color: #808000; text-decoration-color: #808000; font-weight: bold\">Warning:</span><span style=\"color: #808000; text-decoration-color: #808000\"> DOLFIN XML is a legacy format. Consider using XDMF instead.</span>\n",
       "</pre>\n"
      ],
      "text/plain": [
       "\u001b[1;33mWarning:\u001b[0m\u001b[33m DOLFIN XML is a legacy format. Consider using XDMF instead.\u001b[0m\n"
      ]
     },
     "metadata": {},
     "output_type": "display_data"
    },
    {
     "name": "stdout",
     "output_type": "stream",
     "text": [
      "\n"
     ]
    },
    {
     "data": {
      "text/html": [
       "<pre style=\"white-space:pre;overflow-x:auto;line-height:normal;font-family:Menlo,'DejaVu Sans Mono',consolas,'Courier New',monospace\"><span style=\"color: #808000; text-decoration-color: #808000; font-weight: bold\">Warning:</span><span style=\"color: #808000; text-decoration-color: #808000\"> DOLFIN XML is a legacy format. Consider using XDMF instead.</span>\n",
       "</pre>\n"
      ],
      "text/plain": [
       "\u001b[1;33mWarning:\u001b[0m\u001b[33m DOLFIN XML is a legacy format. Consider using XDMF instead.\u001b[0m\n"
      ]
     },
     "metadata": {},
     "output_type": "display_data"
    },
    {
     "name": "stdout",
     "output_type": "stream",
     "text": [
      "     Resolution :  0.125\n",
      "     Opimizer:  lbfgs\n",
      " \n",
      " \n",
      "   _   _            ____   ___  __  __ \n",
      "  | \\ | | ___ _   _|  _ \\ / _ \\|  \\/  |\n",
      "  |  \\| |/ _ \\ | | | |_) | | | | |\\/| |\n",
      "  | |\\  |  __/ |_| |  _ <| |_| | |  | |\n",
      "  |_| \\_|\\___|\\__,_|_| \\_\\ ___/|_|  |_|\n",
      "\n",
      "                  2024.09.18\n",
      "*************** Mesh Geometry  ****************\n",
      "\n",
      "Info    : Running '/opt/homebrew/Caskroom/miniconda/base/envs/neurom_1/bin/gmsh Geometries/Cube_hole.geo -3 -order 1 -o Geometries/Cube_hole_order_1_0.125.msh -clmax 0.125' [Gmsh 4.13.1, 1 node, max. 1 thread]\n",
      "Info    : Started on Thu Apr 10 10:34:02 2025\n",
      "Info    : Reading 'Geometries/Cube_hole.geo'...\n",
      "Info    : Done reading 'Geometries/Cube_hole.geo'                                                                         \n",
      "Info    : Meshing 1D...\n",
      "Info    : [  0%] Meshing curve 1 (Line)\n",
      "Info    : [ 10%] Meshing curve 2 (Line)\n",
      "Info    : [ 10%] Meshing curve 3 (Line)\n",
      "Info    : [ 20%] Meshing curve 4 (Line)\n",
      "Info    : [ 20%] Meshing curve 5 (Circle)\n",
      "Info    : [ 30%] Meshing curve 6 (Line)\n",
      "Info    : [ 30%] Meshing curve 7 (Line)\n",
      "Info    : [ 40%] Meshing curve 8 (Line)\n",
      "Info    : [ 40%] Meshing curve 9 (Circle)\n",
      "Info    : [ 50%] Meshing curve 10 (Line)\n",
      "Info    : [ 50%] Meshing curve 11 (Line)\n",
      "Info    : [ 60%] Meshing curve 12 (Circle)\n",
      "Info    : [ 60%] Meshing curve 13 (Line)\n",
      "Info    : [ 70%] Meshing curve 14 (Line)\n",
      "Info    : [ 70%] Meshing curve 15 (Circle)\n",
      "Info    : [ 80%] Meshing curve 16 (Line)\n",
      "Info    : [ 80%] Meshing curve 17 (Circle)\n",
      "Info    : [ 90%] Meshing curve 18 (Circle)\n",
      "Info    : [ 90%] Meshing curve 19 (Circle)\n",
      "Info    : [100%] Meshing curve 20 (Circle)\n",
      "Info    : [100%] Meshing curve 21 (Circle)\n",
      "Info    : Done meshing 1D (Wall 0.00127096s, CPU 0.004872s)\n",
      "Info    : Meshing 2D...\n",
      "Info    : [  0%] Meshing surface 1 (Plane, Frontal-Delaunay)\n",
      "Info    : [ 20%] Meshing surface 2 (Plane, Frontal-Delaunay)\n",
      "Info    : [ 30%] Meshing surface 3 (Plane, Frontal-Delaunay)\n",
      "Info    : [ 50%] Meshing surface 4 (Plane, Frontal-Delaunay)\n",
      "Info    : [ 60%] Meshing surface 5 (Plane, Frontal-Delaunay)\n",
      "Info    : [ 80%] Meshing surface 6 (Sphere, Frontal-Delaunay)\n",
      "Info    : [ 90%] Meshing surface 7 (Plane, Frontal-Delaunay)\n",
      "Info    : Done meshing 2D (Wall 1.66978s, CPU 2.45317s)\n",
      "Info    : Meshing 3D...\n",
      "Info    : 3D Meshing 1 volume with 1 connected component\n",
      "Info    : Tetrahedrizing 47063 nodes...\n",
      "Info    : Done tetrahedrizing 47071 nodes (Wall 0.345159s, CPU 0.340143s)\n",
      "Info    : Reconstructing mesh...\n",
      "Info    :  - Creating surface mesh\n",
      "Info    :  - Identifying boundary edges\n",
      "Info    :  - Recovering boundary\n",
      "Info    : Done reconstructing mesh (Wall 1.09654s, CPU 1.07219s)\n",
      "Info    : Found volume 1\n",
      "Info    : It. 0 - 0 nodes created - worst tet radius 7.81261 (nodes removed 0 0)\n",
      "Info    : It. 500 - 500 nodes created - worst tet radius 3.56115 (nodes removed 0 0)\n",
      "Info    : It. 1000 - 1000 nodes created - worst tet radius 2.98443 (nodes removed 0 0)\n",
      "Info    : It. 1500 - 1500 nodes created - worst tet radius 2.735 (nodes removed 0 0)\n",
      "Info    : It. 2000 - 2000 nodes created - worst tet radius 2.55948 (nodes removed 0 0)\n",
      "Info    : It. 2500 - 2500 nodes created - worst tet radius 2.38232 (nodes removed 0 0)\n",
      "Info    : It. 3000 - 3000 nodes created - worst tet radius 2.27891 (nodes removed 0 0)\n",
      "Info    : It. 3500 - 3500 nodes created - worst tet radius 2.19927 (nodes removed 0 0)\n",
      "Info    : It. 4000 - 4000 nodes created - worst tet radius 2.12663 (nodes removed 0 0)\n",
      "Info    : It. 4500 - 4500 nodes created - worst tet radius 2.05846 (nodes removed 0 0)\n",
      "Info    : It. 5000 - 5000 nodes created - worst tet radius 2.00483 (nodes removed 0 0)\n",
      "Info    : It. 5500 - 5500 nodes created - worst tet radius 1.95772 (nodes removed 0 0)\n",
      "Info    : It. 6000 - 6000 nodes created - worst tet radius 1.90984 (nodes removed 0 0)\n",
      "Info    : It. 6500 - 6500 nodes created - worst tet radius 1.86562 (nodes removed 0 0)\n",
      "Info    : It. 7000 - 7000 nodes created - worst tet radius 1.82497 (nodes removed 0 0)\n",
      "Info    : It. 7500 - 7500 nodes created - worst tet radius 1.7905 (nodes removed 0 0)\n",
      "Info    : It. 8000 - 8000 nodes created - worst tet radius 1.75705 (nodes removed 0 0)\n",
      "Info    : It. 8500 - 8500 nodes created - worst tet radius 1.72707 (nodes removed 0 0)\n",
      "Info    : It. 9000 - 9000 nodes created - worst tet radius 1.69785 (nodes removed 0 0)\n",
      "Info    : It. 9500 - 9500 nodes created - worst tet radius 1.67305 (nodes removed 0 0)\n",
      "Info    : It. 10000 - 10000 nodes created - worst tet radius 1.65142 (nodes removed 0 0)\n",
      "Info    : It. 10500 - 10500 nodes created - worst tet radius 1.63115 (nodes removed 0 0)\n",
      "Info    : It. 11000 - 11000 nodes created - worst tet radius 1.61083 (nodes removed 0 0)\n",
      "Info    : It. 11500 - 11500 nodes created - worst tet radius 1.59012 (nodes removed 0 0)\n",
      "Info    : It. 12000 - 12000 nodes created - worst tet radius 1.57098 (nodes removed 0 0)\n",
      "Info    : It. 12500 - 12500 nodes created - worst tet radius 1.5532 (nodes removed 0 0)\n",
      "Info    : It. 13000 - 13000 nodes created - worst tet radius 1.53643 (nodes removed 0 0)\n",
      "Info    : It. 13500 - 13500 nodes created - worst tet radius 1.52053 (nodes removed 0 0)\n",
      "Info    : It. 14000 - 14000 nodes created - worst tet radius 1.50455 (nodes removed 0 0)\n",
      "Info    : It. 14500 - 14500 nodes created - worst tet radius 1.49026 (nodes removed 0 0)\n",
      "Info    : It. 15000 - 15000 nodes created - worst tet radius 1.47557 (nodes removed 0 0)\n",
      "Info    : It. 15500 - 15500 nodes created - worst tet radius 1.46201 (nodes removed 0 0)\n",
      "Info    : It. 16000 - 16000 nodes created - worst tet radius 1.44819 (nodes removed 0 0)\n",
      "Info    : It. 16500 - 16500 nodes created - worst tet radius 1.4344 (nodes removed 0 0)\n",
      "Info    : It. 17000 - 17000 nodes created - worst tet radius 1.42252 (nodes removed 0 0)\n",
      "Info    : It. 17500 - 17500 nodes created - worst tet radius 1.41062 (nodes removed 0 0)\n",
      "Info    : It. 18000 - 18000 nodes created - worst tet radius 1.39828 (nodes removed 0 0)\n",
      "Info    : It. 18500 - 18500 nodes created - worst tet radius 1.38701 (nodes removed 0 0)\n",
      "Info    : It. 19000 - 19000 nodes created - worst tet radius 1.37626 (nodes removed 0 0)\n",
      "Info    : It. 19500 - 19500 nodes created - worst tet radius 1.3655 (nodes removed 0 0)\n",
      "Info    : It. 20000 - 20000 nodes created - worst tet radius 1.35562 (nodes removed 0 0)\n",
      "Info    : It. 20500 - 20500 nodes created - worst tet radius 1.34608 (nodes removed 0 0)\n",
      "Info    : It. 21000 - 21000 nodes created - worst tet radius 1.33616 (nodes removed 0 0)\n",
      "Info    : It. 21500 - 21500 nodes created - worst tet radius 1.32669 (nodes removed 0 0)\n",
      "Info    : It. 22000 - 22000 nodes created - worst tet radius 1.31817 (nodes removed 0 0)\n",
      "Info    : It. 22500 - 22500 nodes created - worst tet radius 1.30891 (nodes removed 0 0)\n",
      "Info    : It. 23000 - 23000 nodes created - worst tet radius 1.30081 (nodes removed 0 0)\n",
      "Info    : It. 23500 - 23500 nodes created - worst tet radius 1.29305 (nodes removed 0 0)\n",
      "Info    : It. 24000 - 24000 nodes created - worst tet radius 1.28507 (nodes removed 0 0)\n",
      "Info    : It. 24500 - 24500 nodes created - worst tet radius 1.27741 (nodes removed 0 0)\n",
      "Info    : It. 25000 - 25000 nodes created - worst tet radius 1.27032 (nodes removed 0 0)\n",
      "Info    : It. 25500 - 25500 nodes created - worst tet radius 1.26331 (nodes removed 0 0)\n",
      "Info    : It. 26000 - 26000 nodes created - worst tet radius 1.25594 (nodes removed 0 0)\n",
      "Info    : It. 26500 - 26500 nodes created - worst tet radius 1.24939 (nodes removed 0 0)\n",
      "Info    : It. 27000 - 27000 nodes created - worst tet radius 1.24328 (nodes removed 0 0)\n",
      "Info    : It. 27500 - 27500 nodes created - worst tet radius 1.23666 (nodes removed 0 0)\n",
      "Info    : It. 28000 - 28000 nodes created - worst tet radius 1.23075 (nodes removed 0 0)\n",
      "Info    : It. 28500 - 28500 nodes created - worst tet radius 1.22463 (nodes removed 0 0)\n",
      "Info    : It. 29000 - 29000 nodes created - worst tet radius 1.21796 (nodes removed 0 0)\n",
      "Info    : It. 29500 - 29500 nodes created - worst tet radius 1.21175 (nodes removed 0 0)\n",
      "Info    : It. 30000 - 30000 nodes created - worst tet radius 1.20606 (nodes removed 0 0)\n",
      "Info    : It. 30500 - 30500 nodes created - worst tet radius 1.20034 (nodes removed 0 0)\n",
      "Info    : It. 31000 - 31000 nodes created - worst tet radius 1.19442 (nodes removed 0 0)\n",
      "Info    : It. 31500 - 31500 nodes created - worst tet radius 1.18904 (nodes removed 0 0)\n",
      "Info    : It. 32000 - 32000 nodes created - worst tet radius 1.18356 (nodes removed 0 0)\n",
      "Info    : It. 32500 - 32500 nodes created - worst tet radius 1.17796 (nodes removed 0 0)\n",
      "Info    : It. 33000 - 33000 nodes created - worst tet radius 1.17248 (nodes removed 0 0)\n",
      "Info    : It. 33500 - 33500 nodes created - worst tet radius 1.16783 (nodes removed 0 0)\n",
      "Info    : It. 34000 - 34000 nodes created - worst tet radius 1.16215 (nodes removed 0 0)\n",
      "Info    : It. 34500 - 34500 nodes created - worst tet radius 1.15739 (nodes removed 0 0)\n",
      "Info    : It. 35000 - 35000 nodes created - worst tet radius 1.15233 (nodes removed 0 0)\n",
      "Info    : It. 35500 - 35500 nodes created - worst tet radius 1.14719 (nodes removed 0 0)\n",
      "Info    : It. 36000 - 36000 nodes created - worst tet radius 1.14222 (nodes removed 0 0)\n",
      "Info    : It. 36500 - 36500 nodes created - worst tet radius 1.13753 (nodes removed 0 0)\n",
      "Info    : It. 37000 - 37000 nodes created - worst tet radius 1.13289 (nodes removed 0 0)\n",
      "Info    : It. 37500 - 37500 nodes created - worst tet radius 1.12867 (nodes removed 0 0)\n",
      "Info    : It. 38000 - 38000 nodes created - worst tet radius 1.12427 (nodes removed 0 0)\n",
      "Info    : It. 38500 - 38500 nodes created - worst tet radius 1.11991 (nodes removed 0 0)\n",
      "Info    : It. 39000 - 39000 nodes created - worst tet radius 1.11584 (nodes removed 0 0)\n",
      "Info    : It. 39500 - 39500 nodes created - worst tet radius 1.11164 (nodes removed 0 0)\n",
      "Info    : It. 40000 - 40000 nodes created - worst tet radius 1.10762 (nodes removed 0 0)\n",
      "Info    : It. 40500 - 40500 nodes created - worst tet radius 1.10361 (nodes removed 0 0)\n",
      "Info    : It. 41000 - 41000 nodes created - worst tet radius 1.09951 (nodes removed 0 0)\n",
      "Info    : It. 41500 - 41500 nodes created - worst tet radius 1.09554 (nodes removed 0 0)\n",
      "Info    : It. 42000 - 42000 nodes created - worst tet radius 1.0918 (nodes removed 0 0)\n",
      "Info    : It. 42500 - 42500 nodes created - worst tet radius 1.08802 (nodes removed 0 0)\n",
      "Info    : It. 43000 - 43000 nodes created - worst tet radius 1.08414 (nodes removed 0 0)\n",
      "Info    : It. 43500 - 43500 nodes created - worst tet radius 1.08038 (nodes removed 0 0)\n",
      "Info    : It. 44000 - 44000 nodes created - worst tet radius 1.07694 (nodes removed 0 0)\n",
      "Info    : It. 44500 - 44500 nodes created - worst tet radius 1.07335 (nodes removed 0 0)\n",
      "Info    : It. 45000 - 45000 nodes created - worst tet radius 1.06984 (nodes removed 0 0)\n",
      "Info    : It. 45500 - 45500 nodes created - worst tet radius 1.06648 (nodes removed 0 0)\n",
      "Info    : It. 46000 - 46000 nodes created - worst tet radius 1.06341 (nodes removed 0 0)\n",
      "Info    : It. 46500 - 46500 nodes created - worst tet radius 1.05981 (nodes removed 0 0)\n",
      "Info    : It. 47000 - 47000 nodes created - worst tet radius 1.05646 (nodes removed 0 0)\n",
      "Info    : It. 47500 - 47500 nodes created - worst tet radius 1.05295 (nodes removed 0 0)\n",
      "Info    : It. 48000 - 48000 nodes created - worst tet radius 1.0496 (nodes removed 0 0)\n",
      "Info    : It. 48500 - 48500 nodes created - worst tet radius 1.04646 (nodes removed 0 0)\n",
      "Info    : It. 49000 - 49000 nodes created - worst tet radius 1.04318 (nodes removed 0 0)\n",
      "Info    : It. 49500 - 49500 nodes created - worst tet radius 1.03998 (nodes removed 0 0)\n",
      "Info    : It. 50000 - 50000 nodes created - worst tet radius 1.03688 (nodes removed 0 0)\n",
      "Info    : It. 50500 - 50500 nodes created - worst tet radius 1.03398 (nodes removed 0 0)\n",
      "Info    : It. 51000 - 51000 nodes created - worst tet radius 1.03089 (nodes removed 0 0)\n",
      "Info    : It. 51500 - 51500 nodes created - worst tet radius 1.02776 (nodes removed 0 0)\n",
      "Info    : It. 52000 - 52000 nodes created - worst tet radius 1.02478 (nodes removed 0 0)\n",
      "Info    : It. 52500 - 52500 nodes created - worst tet radius 1.02181 (nodes removed 0 0)\n",
      "Info    : It. 53000 - 53000 nodes created - worst tet radius 1.01916 (nodes removed 0 0)\n",
      "Info    : It. 53500 - 53500 nodes created - worst tet radius 1.01629 (nodes removed 0 0)\n",
      "Info    : It. 54000 - 54000 nodes created - worst tet radius 1.01357 (nodes removed 0 0)\n",
      "Info    : It. 54500 - 54500 nodes created - worst tet radius 1.01086 (nodes removed 0 0)\n",
      "Info    : It. 55000 - 55000 nodes created - worst tet radius 1.00813 (nodes removed 0 0)\n",
      "Info    : It. 55500 - 55500 nodes created - worst tet radius 1.00544 (nodes removed 0 0)\n",
      "Info    : It. 56000 - 56000 nodes created - worst tet radius 1.00282 (nodes removed 0 0)\n",
      "Info    : It. 56500 - 56500 nodes created - worst tet radius 1.00013 (nodes removed 0 0)\n",
      "Info    : 3D refinement terminated (103590 nodes total):\n",
      "Info    :  - 0 Delaunay cavities modified for star shapeness\n",
      "Info    :  - 0 nodes could not be inserted\n",
      "Info    :  - 505738 tetrahedra created in 2.99036 sec. (169122 tets/s)\n",
      "Info    : 0 node relocations\n",
      "Info    : Done meshing 3D (Wall 7.2002s, CPU 7.12114s)\n",
      "Info    : Optimizing mesh...\n",
      "Info    : Optimizing volume 1\n",
      "Info    : Optimization starts (volume = 202.108) with worst = 0.00290336 / average = 0.776563:\n",
      "Info    : 0.00 < quality < 0.10 :      1270 elements\n",
      "Info    : 0.10 < quality < 0.20 :      3405 elements\n",
      "Info    : 0.20 < quality < 0.30 :      5837 elements\n",
      "Info    : 0.30 < quality < 0.40 :      8791 elements\n",
      "Info    : 0.40 < quality < 0.50 :     13468 elements\n",
      "Info    : 0.50 < quality < 0.60 :     23204 elements\n",
      "Info    : 0.60 < quality < 0.70 :     52028 elements\n",
      "Info    : 0.70 < quality < 0.80 :    122509 elements\n",
      "Info    : 0.80 < quality < 0.90 :    184214 elements\n",
      "Info    : 0.90 < quality < 1.00 :     91007 elements\n",
      "Info    : 10397 edge swaps, 226 node relocations (volume = 202.108): worst = 0.0333759 / average = 0.789368 (Wall 0.174894s, CPU 0.174258s)\n",
      "Info    : 10511 edge swaps, 228 node relocations (volume = 202.108): worst = 0.071762 / average = 0.789422 (Wall 0.216672s, CPU 0.215944s)\n",
      "Info    : 10526 edge swaps, 229 node relocations (volume = 202.108): worst = 0.071762 / average = 0.789424 (Wall 0.257134s, CPU 0.25622s)\n",
      "Info    : No ill-shaped tets in the mesh :-)\n",
      "Info    : 0.00 < quality < 0.10 :         5 elements\n",
      "Info    : 0.10 < quality < 0.20 :         7 elements\n",
      "Info    : 0.20 < quality < 0.30 :        34 elements\n",
      "Info    : 0.30 < quality < 0.40 :      8737 elements\n",
      "Info    : 0.40 < quality < 0.50 :     12892 elements\n",
      "Info    : 0.50 < quality < 0.60 :     22529 elements\n",
      "Info    : 0.60 < quality < 0.70 :     52288 elements\n",
      "Info    : 0.70 < quality < 0.80 :    123520 elements\n",
      "Info    : 0.80 < quality < 0.90 :    185838 elements\n",
      "Info    : 0.90 < quality < 1.00 :     90551 elements\n",
      "Info    : Done optimizing mesh (Wall 0.674307s, CPU 0.65985s)\n",
      "Info    : 103590 nodes 592576 elements\n",
      "Info    : Writing 'Geometries/Cube_hole_order_1_0.125.msh'...\n",
      "Info    : Done writing 'Geometries/Cube_hole_order_1_0.125.msh'\n",
      "Info    : Stopped on Thu Apr 10 10:34:13 2025 (From start: Wall 10.3224s, CPU 11.8115s)\n",
      "\n",
      "************ MESH READING COMPLETE ************\n",
      "\n",
      " * Dimension of the problem: 3D\n",
      " * Elements type:            4-node tetrahedron\n",
      " * Number of Dofs:           310770\n",
      "\n"
     ]
    },
    {
     "data": {
      "text/html": [
       "<pre style=\"white-space:pre;overflow-x:auto;line-height:normal;font-family:Menlo,'DejaVu Sans Mono',consolas,'Courier New',monospace\"><span style=\"color: #808000; text-decoration-color: #808000; font-weight: bold\">Warning:</span><span style=\"color: #808000; text-decoration-color: #808000\"> DOLFIN XML is a legacy format. Consider using XDMF instead.</span>\n",
       "</pre>\n"
      ],
      "text/plain": [
       "\u001b[1;33mWarning:\u001b[0m\u001b[33m DOLFIN XML is a legacy format. Consider using XDMF instead.\u001b[0m\n"
      ]
     },
     "metadata": {},
     "output_type": "display_data"
    },
    {
     "name": "stdout",
     "output_type": "stream",
     "text": [
      "\n"
     ]
    },
    {
     "data": {
      "text/html": [
       "<pre style=\"white-space:pre;overflow-x:auto;line-height:normal;font-family:Menlo,'DejaVu Sans Mono',consolas,'Courier New',monospace\"><span style=\"color: #808000; text-decoration-color: #808000; font-weight: bold\">Warning:</span><span style=\"color: #808000; text-decoration-color: #808000\"> DOLFIN XML is a legacy format. Consider using XDMF instead.</span>\n",
       "</pre>\n"
      ],
      "text/plain": [
       "\u001b[1;33mWarning:\u001b[0m\u001b[33m DOLFIN XML is a legacy format. Consider using XDMF instead.\u001b[0m\n"
      ]
     },
     "metadata": {},
     "output_type": "display_data"
    },
    {
     "name": "stdout",
     "output_type": "stream",
     "text": [
      "     Opimizer:  adam\n",
      " \n",
      " \n",
      "   _   _            ____   ___  __  __ \n",
      "  | \\ | | ___ _   _|  _ \\ / _ \\|  \\/  |\n",
      "  |  \\| |/ _ \\ | | | |_) | | | | |\\/| |\n",
      "  | |\\  |  __/ |_| |  _ <| |_| | |  | |\n",
      "  |_| \\_|\\___|\\__,_|_| \\_\\ ___/|_|  |_|\n",
      "\n",
      "                  2024.09.18\n",
      "\n",
      "************ MESH READING COMPLETE ************\n",
      "\n",
      " * Dimension of the problem: 3D\n",
      " * Elements type:            4-node tetrahedron\n",
      " * Number of Dofs:           310770\n",
      "\n"
     ]
    },
    {
     "data": {
      "text/html": [
       "<pre style=\"white-space:pre;overflow-x:auto;line-height:normal;font-family:Menlo,'DejaVu Sans Mono',consolas,'Courier New',monospace\"><span style=\"color: #808000; text-decoration-color: #808000; font-weight: bold\">Warning:</span><span style=\"color: #808000; text-decoration-color: #808000\"> DOLFIN XML is a legacy format. Consider using XDMF instead.</span>\n",
       "</pre>\n"
      ],
      "text/plain": [
       "\u001b[1;33mWarning:\u001b[0m\u001b[33m DOLFIN XML is a legacy format. Consider using XDMF instead.\u001b[0m\n"
      ]
     },
     "metadata": {},
     "output_type": "display_data"
    },
    {
     "name": "stdout",
     "output_type": "stream",
     "text": [
      "\n"
     ]
    },
    {
     "data": {
      "text/html": [
       "<pre style=\"white-space:pre;overflow-x:auto;line-height:normal;font-family:Menlo,'DejaVu Sans Mono',consolas,'Courier New',monospace\"><span style=\"color: #808000; text-decoration-color: #808000; font-weight: bold\">Warning:</span><span style=\"color: #808000; text-decoration-color: #808000\"> DOLFIN XML is a legacy format. Consider using XDMF instead.</span>\n",
       "</pre>\n"
      ],
      "text/plain": [
       "\u001b[1;33mWarning:\u001b[0m\u001b[33m DOLFIN XML is a legacy format. Consider using XDMF instead.\u001b[0m\n"
      ]
     },
     "metadata": {},
     "output_type": "display_data"
    },
    {
     "name": "stdout",
     "output_type": "stream",
     "text": [
      "     Resolution :  0.0625\n",
      "     Opimizer:  lbfgs\n",
      " \n",
      " \n",
      "   _   _            ____   ___  __  __ \n",
      "  | \\ | | ___ _   _|  _ \\ / _ \\|  \\/  |\n",
      "  |  \\| |/ _ \\ | | | |_) | | | | |\\/| |\n",
      "  | |\\  |  __/ |_| |  _ <| |_| | |  | |\n",
      "  |_| \\_|\\___|\\__,_|_| \\_\\ ___/|_|  |_|\n",
      "\n",
      "                  2024.09.18\n",
      "*************** Mesh Geometry  ****************\n",
      "\n",
      "Info    : Running '/opt/homebrew/Caskroom/miniconda/base/envs/neurom_1/bin/gmsh Geometries/Cube_hole.geo -3 -order 1 -o Geometries/Cube_hole_order_1_0.062.msh -clmax 0.062' [Gmsh 4.13.1, 1 node, max. 1 thread]\n",
      "Info    : Started on Thu Apr 10 10:36:33 2025\n",
      "Info    : Reading 'Geometries/Cube_hole.geo'...\n",
      "Info    : Done reading 'Geometries/Cube_hole.geo'                                                                         \n",
      "Info    : Meshing 1D...\n",
      "Info    : [  0%] Meshing curve 1 (Line)\n",
      "Info    : [ 10%] Meshing curve 2 (Line)\n",
      "Info    : [ 10%] Meshing curve 3 (Line)\n",
      "Info    : [ 20%] Meshing curve 4 (Line)\n",
      "Info    : [ 20%] Meshing curve 5 (Circle)\n",
      "Info    : [ 30%] Meshing curve 6 (Line)\n",
      "Info    : [ 30%] Meshing curve 7 (Line)\n",
      "Info    : [ 40%] Meshing curve 8 (Line)\n",
      "Info    : [ 40%] Meshing curve 9 (Circle)\n",
      "Info    : [ 50%] Meshing curve 10 (Line)\n",
      "Info    : [ 50%] Meshing curve 11 (Line)\n",
      "Info    : [ 60%] Meshing curve 12 (Circle)\n",
      "Info    : [ 60%] Meshing curve 13 (Line)\n",
      "Info    : [ 70%] Meshing curve 14 (Line)\n",
      "Info    : [ 70%] Meshing curve 15 (Circle)\n",
      "Info    : [ 80%] Meshing curve 16 (Line)\n",
      "Info    : [ 80%] Meshing curve 17 (Circle)\n",
      "Info    : [ 90%] Meshing curve 18 (Circle)\n",
      "Info    : [ 90%] Meshing curve 19 (Circle)\n",
      "Info    : [100%] Meshing curve 20 (Circle)\n",
      "Info    : [100%] Meshing curve 21 (Circle)\n",
      "Info    : Done meshing 1D (Wall 0.00561796s, CPU 0.035932s)\n",
      "Info    : Meshing 2D...\n",
      "Info    : [  0%] Meshing surface 1 (Plane, Frontal-Delaunay)\n",
      "Info    : [ 20%] Meshing surface 2 (Plane, Frontal-Delaunay)\n",
      "Info    : [ 30%] Meshing surface 3 (Plane, Frontal-Delaunay)\n",
      "Info    : [ 50%] Meshing surface 4 (Plane, Frontal-Delaunay)\n",
      "Info    : [ 60%] Meshing surface 5 (Plane, Frontal-Delaunay)\n",
      "Info    : [ 80%] Meshing surface 6 (Sphere, Frontal-Delaunay)\n",
      "Info    : [ 90%] Meshing surface 7 (Plane, Frontal-Delaunay)\n",
      "Info    : Done meshing 2D (Wall 7.02338s, CPU 7.74154s)\n",
      "Info    : Meshing 3D...\n",
      "Info    : 3D Meshing 1 volume with 1 connected component\n",
      "Info    : Tetrahedrizing 190403 nodes...\n",
      "Info    : Done tetrahedrizing 190411 nodes (Wall 1.98574s, CPU 1.96414s)\n",
      "Info    : Reconstructing mesh...\n",
      "Info    :  - Creating surface mesh\n",
      "Info    :  - Identifying boundary edges\n",
      "Info    :  - Recovering boundary\n",
      "Info    : Done reconstructing mesh (Wall 6.72455s, CPU 6.62355s)\n",
      "Info    : Found volume 1\n",
      "Info    : It. 0 - 0 nodes created - worst tet radius 15.7723 (nodes removed 0 0)\n",
      "Info    : It. 500 - 500 nodes created - worst tet radius 7.1646 (nodes removed 0 0)\n",
      "Info    : It. 1000 - 1000 nodes created - worst tet radius 5.97817 (nodes removed 0 0)\n",
      "Info    : It. 1500 - 1500 nodes created - worst tet radius 5.53015 (nodes removed 0 0)\n",
      "Info    : It. 2000 - 2000 nodes created - worst tet radius 5.1419 (nodes removed 0 0)\n",
      "Info    : It. 2500 - 2500 nodes created - worst tet radius 4.82794 (nodes removed 0 0)\n",
      "Info    : It. 3000 - 3000 nodes created - worst tet radius 4.59927 (nodes removed 0 0)\n",
      "Info    : It. 3500 - 3500 nodes created - worst tet radius 4.43644 (nodes removed 0 0)\n",
      "Info    : It. 4000 - 4000 nodes created - worst tet radius 4.28288 (nodes removed 0 0)\n",
      "Info    : It. 4500 - 4500 nodes created - worst tet radius 4.13996 (nodes removed 0 0)\n",
      "Info    : It. 5000 - 5000 nodes created - worst tet radius 4.04078 (nodes removed 0 0)\n",
      "Info    : It. 5500 - 5500 nodes created - worst tet radius 3.94104 (nodes removed 0 0)\n",
      "Info    : It. 6000 - 6000 nodes created - worst tet radius 3.84023 (nodes removed 0 0)\n",
      "Info    : It. 6500 - 6500 nodes created - worst tet radius 3.75431 (nodes removed 0 0)\n",
      "Info    : It. 7000 - 7000 nodes created - worst tet radius 3.66307 (nodes removed 0 0)\n",
      "Info    : It. 7500 - 7500 nodes created - worst tet radius 3.58148 (nodes removed 0 0)\n",
      "Info    : It. 8000 - 8000 nodes created - worst tet radius 3.52414 (nodes removed 0 0)\n",
      "Info    : It. 8500 - 8500 nodes created - worst tet radius 3.45548 (nodes removed 0 0)\n",
      "Info    : It. 9000 - 9000 nodes created - worst tet radius 3.39996 (nodes removed 0 0)\n",
      "Info    : It. 9500 - 9500 nodes created - worst tet radius 3.35972 (nodes removed 0 0)\n",
      "Info    : It. 10000 - 10000 nodes created - worst tet radius 3.32073 (nodes removed 0 0)\n",
      "Info    : It. 10500 - 10500 nodes created - worst tet radius 3.27625 (nodes removed 0 0)\n",
      "Info    : It. 11000 - 11000 nodes created - worst tet radius 3.23596 (nodes removed 0 0)\n",
      "Info    : It. 11500 - 11500 nodes created - worst tet radius 3.19398 (nodes removed 0 0)\n",
      "Info    : It. 12000 - 12000 nodes created - worst tet radius 3.15494 (nodes removed 0 0)\n",
      "Info    : It. 12500 - 12500 nodes created - worst tet radius 3.12007 (nodes removed 0 0)\n",
      "Info    : It. 13000 - 13000 nodes created - worst tet radius 3.08579 (nodes removed 0 0)\n",
      "Info    : It. 13500 - 13500 nodes created - worst tet radius 3.05679 (nodes removed 0 0)\n",
      "Info    : It. 14000 - 14000 nodes created - worst tet radius 3.02499 (nodes removed 0 0)\n",
      "Info    : It. 14500 - 14500 nodes created - worst tet radius 2.9921 (nodes removed 0 0)\n",
      "Info    : It. 15000 - 15000 nodes created - worst tet radius 2.96298 (nodes removed 0 0)\n",
      "Info    : It. 15500 - 15500 nodes created - worst tet radius 2.9353 (nodes removed 0 0)\n",
      "Info    : It. 16000 - 16000 nodes created - worst tet radius 2.91032 (nodes removed 0 0)\n",
      "Info    : It. 16500 - 16500 nodes created - worst tet radius 2.88533 (nodes removed 0 0)\n",
      "Info    : It. 17000 - 17000 nodes created - worst tet radius 2.86065 (nodes removed 0 0)\n",
      "Info    : It. 17500 - 17500 nodes created - worst tet radius 2.83757 (nodes removed 0 0)\n",
      "Info    : It. 18000 - 18000 nodes created - worst tet radius 2.81617 (nodes removed 0 0)\n",
      "Info    : It. 18500 - 18500 nodes created - worst tet radius 2.79194 (nodes removed 0 0)\n",
      "Info    : It. 19000 - 19000 nodes created - worst tet radius 2.76938 (nodes removed 0 0)\n",
      "Info    : It. 19500 - 19500 nodes created - worst tet radius 2.74869 (nodes removed 0 0)\n",
      "Info    : It. 20000 - 20000 nodes created - worst tet radius 2.72784 (nodes removed 0 0)\n",
      "Info    : It. 20500 - 20500 nodes created - worst tet radius 2.7079 (nodes removed 0 0)\n",
      "Info    : It. 21000 - 21000 nodes created - worst tet radius 2.6904 (nodes removed 0 0)\n",
      "Info    : It. 21500 - 21500 nodes created - worst tet radius 2.67099 (nodes removed 0 0)\n",
      "Info    : It. 22000 - 22000 nodes created - worst tet radius 2.65187 (nodes removed 0 0)\n",
      "Info    : It. 22500 - 22500 nodes created - worst tet radius 2.63455 (nodes removed 0 0)\n",
      "Info    : It. 23000 - 23000 nodes created - worst tet radius 2.61783 (nodes removed 0 0)\n",
      "Info    : It. 23500 - 23500 nodes created - worst tet radius 2.60187 (nodes removed 0 0)\n",
      "Info    : It. 24000 - 24000 nodes created - worst tet radius 2.58614 (nodes removed 0 0)\n",
      "Info    : It. 24500 - 24500 nodes created - worst tet radius 2.57103 (nodes removed 0 0)\n",
      "Info    : It. 25000 - 25000 nodes created - worst tet radius 2.5544 (nodes removed 0 0)\n",
      "Info    : It. 25500 - 25500 nodes created - worst tet radius 2.53879 (nodes removed 0 0)\n",
      "Info    : It. 26000 - 26000 nodes created - worst tet radius 2.52369 (nodes removed 0 0)\n",
      "Info    : It. 26500 - 26500 nodes created - worst tet radius 2.51012 (nodes removed 0 0)\n",
      "Info    : It. 27000 - 27000 nodes created - worst tet radius 2.49622 (nodes removed 0 0)\n",
      "Info    : It. 27500 - 27500 nodes created - worst tet radius 2.4835 (nodes removed 0 0)\n",
      "Info    : It. 28000 - 28000 nodes created - worst tet radius 2.47038 (nodes removed 0 0)\n",
      "Info    : It. 28500 - 28500 nodes created - worst tet radius 2.45875 (nodes removed 0 0)\n",
      "Info    : It. 29000 - 29000 nodes created - worst tet radius 2.44611 (nodes removed 0 0)\n",
      "Info    : It. 29500 - 29500 nodes created - worst tet radius 2.43521 (nodes removed 0 0)\n",
      "Info    : It. 30000 - 30000 nodes created - worst tet radius 2.42276 (nodes removed 0 0)\n",
      "Info    : It. 30500 - 30500 nodes created - worst tet radius 2.40974 (nodes removed 0 0)\n",
      "Info    : It. 31000 - 31000 nodes created - worst tet radius 2.39796 (nodes removed 0 0)\n",
      "Info    : It. 31500 - 31500 nodes created - worst tet radius 2.38607 (nodes removed 0 0)\n",
      "Info    : It. 32000 - 32000 nodes created - worst tet radius 2.37413 (nodes removed 0 0)\n",
      "Info    : It. 32500 - 32500 nodes created - worst tet radius 2.36282 (nodes removed 0 0)\n",
      "Info    : It. 33000 - 33000 nodes created - worst tet radius 2.35104 (nodes removed 0 0)\n",
      "Info    : It. 33500 - 33500 nodes created - worst tet radius 2.33989 (nodes removed 0 0)\n",
      "Info    : It. 34000 - 34000 nodes created - worst tet radius 2.32839 (nodes removed 0 0)\n",
      "Info    : It. 34500 - 34500 nodes created - worst tet radius 2.3178 (nodes removed 0 0)\n",
      "Info    : It. 35000 - 35000 nodes created - worst tet radius 2.30838 (nodes removed 0 0)\n",
      "Info    : It. 35500 - 35500 nodes created - worst tet radius 2.29837 (nodes removed 0 0)\n",
      "Info    : It. 36000 - 36000 nodes created - worst tet radius 2.28881 (nodes removed 0 0)\n",
      "Info    : It. 36500 - 36500 nodes created - worst tet radius 2.27963 (nodes removed 0 0)\n",
      "Info    : It. 37000 - 37000 nodes created - worst tet radius 2.26967 (nodes removed 0 0)\n",
      "Info    : It. 37500 - 37500 nodes created - worst tet radius 2.26027 (nodes removed 0 0)\n",
      "Info    : It. 38000 - 38000 nodes created - worst tet radius 2.25152 (nodes removed 0 0)\n",
      "Info    : It. 38500 - 38500 nodes created - worst tet radius 2.24232 (nodes removed 0 0)\n",
      "Info    : It. 39000 - 39000 nodes created - worst tet radius 2.23365 (nodes removed 0 0)\n",
      "Info    : It. 39500 - 39500 nodes created - worst tet radius 2.22532 (nodes removed 0 0)\n",
      "Info    : It. 40000 - 40000 nodes created - worst tet radius 2.21711 (nodes removed 0 0)\n",
      "Info    : It. 40500 - 40500 nodes created - worst tet radius 2.20911 (nodes removed 0 0)\n",
      "Info    : It. 41000 - 41000 nodes created - worst tet radius 2.20051 (nodes removed 0 0)\n",
      "Info    : It. 41500 - 41500 nodes created - worst tet radius 2.19333 (nodes removed 0 0)\n",
      "Info    : It. 42000 - 42000 nodes created - worst tet radius 2.18576 (nodes removed 0 0)\n",
      "Info    : It. 42500 - 42500 nodes created - worst tet radius 2.17799 (nodes removed 0 0)\n",
      "Info    : It. 43000 - 43000 nodes created - worst tet radius 2.17077 (nodes removed 0 0)\n",
      "Info    : It. 43500 - 43500 nodes created - worst tet radius 2.16353 (nodes removed 0 0)\n",
      "Info    : It. 44000 - 44000 nodes created - worst tet radius 2.15662 (nodes removed 0 0)\n",
      "Info    : It. 44500 - 44500 nodes created - worst tet radius 2.14912 (nodes removed 0 0)\n",
      "Info    : It. 45000 - 45000 nodes created - worst tet radius 2.14217 (nodes removed 0 0)\n",
      "Info    : It. 45500 - 45500 nodes created - worst tet radius 2.13439 (nodes removed 0 0)\n",
      "Info    : It. 46000 - 46000 nodes created - worst tet radius 2.1272 (nodes removed 0 0)\n",
      "Info    : It. 46500 - 46500 nodes created - worst tet radius 2.12022 (nodes removed 0 0)\n",
      "Info    : It. 47000 - 47000 nodes created - worst tet radius 2.11364 (nodes removed 0 0)\n",
      "Info    : It. 47500 - 47500 nodes created - worst tet radius 2.10694 (nodes removed 0 0)\n",
      "Info    : It. 48000 - 48000 nodes created - worst tet radius 2.09945 (nodes removed 0 0)\n",
      "Info    : It. 48500 - 48500 nodes created - worst tet radius 2.09253 (nodes removed 0 0)\n",
      "Info    : It. 49000 - 49000 nodes created - worst tet radius 2.08558 (nodes removed 0 0)\n",
      "Info    : It. 49500 - 49500 nodes created - worst tet radius 2.07896 (nodes removed 0 0)\n",
      "Info    : It. 50000 - 50000 nodes created - worst tet radius 2.07297 (nodes removed 0 0)\n",
      "Info    : It. 50500 - 50500 nodes created - worst tet radius 2.06696 (nodes removed 0 0)\n",
      "Info    : It. 51000 - 51000 nodes created - worst tet radius 2.0608 (nodes removed 0 0)\n",
      "Info    : It. 51500 - 51500 nodes created - worst tet radius 2.05465 (nodes removed 0 0)\n",
      "Info    : It. 52000 - 52000 nodes created - worst tet radius 2.04869 (nodes removed 0 0)\n",
      "Info    : It. 52500 - 52500 nodes created - worst tet radius 2.0429 (nodes removed 0 0)\n",
      "Info    : It. 53000 - 53000 nodes created - worst tet radius 2.03754 (nodes removed 0 0)\n",
      "Info    : It. 53500 - 53500 nodes created - worst tet radius 2.03151 (nodes removed 0 0)\n",
      "Info    : It. 54000 - 54000 nodes created - worst tet radius 2.02553 (nodes removed 0 0)\n",
      "Info    : It. 54500 - 54500 nodes created - worst tet radius 2.02013 (nodes removed 0 0)\n",
      "Info    : It. 55000 - 55000 nodes created - worst tet radius 2.01489 (nodes removed 0 0)\n",
      "Info    : It. 55500 - 55500 nodes created - worst tet radius 2.00937 (nodes removed 0 0)\n",
      "Info    : It. 56000 - 56000 nodes created - worst tet radius 2.00419 (nodes removed 0 0)\n",
      "Info    : It. 56500 - 56500 nodes created - worst tet radius 1.99891 (nodes removed 0 0)\n",
      "Info    : It. 57000 - 57000 nodes created - worst tet radius 1.99361 (nodes removed 0 0)\n",
      "Info    : It. 57500 - 57500 nodes created - worst tet radius 1.9884 (nodes removed 0 0)\n",
      "Info    : It. 58000 - 58000 nodes created - worst tet radius 1.98292 (nodes removed 0 0)\n",
      "Info    : It. 58500 - 58500 nodes created - worst tet radius 1.97726 (nodes removed 0 0)\n",
      "Info    : It. 59000 - 59000 nodes created - worst tet radius 1.97172 (nodes removed 0 0)\n",
      "Info    : It. 59500 - 59500 nodes created - worst tet radius 1.96673 (nodes removed 0 0)\n",
      "Info    : It. 60000 - 60000 nodes created - worst tet radius 1.96155 (nodes removed 0 0)\n",
      "Info    : It. 60500 - 60500 nodes created - worst tet radius 1.95684 (nodes removed 0 0)\n",
      "Info    : It. 61000 - 61000 nodes created - worst tet radius 1.95215 (nodes removed 0 0)\n",
      "Info    : It. 61500 - 61500 nodes created - worst tet radius 1.94768 (nodes removed 0 0)\n",
      "Info    : It. 62000 - 62000 nodes created - worst tet radius 1.943 (nodes removed 0 0)\n",
      "Info    : It. 62500 - 62500 nodes created - worst tet radius 1.9383 (nodes removed 0 0)\n",
      "Info    : It. 63000 - 63000 nodes created - worst tet radius 1.93363 (nodes removed 0 0)\n",
      "Info    : It. 63500 - 63500 nodes created - worst tet radius 1.92939 (nodes removed 0 0)\n",
      "Info    : It. 64000 - 64000 nodes created - worst tet radius 1.92512 (nodes removed 0 0)\n",
      "Info    : It. 64500 - 64500 nodes created - worst tet radius 1.92087 (nodes removed 0 0)\n",
      "Info    : It. 65000 - 65000 nodes created - worst tet radius 1.91627 (nodes removed 0 0)\n",
      "Info    : It. 65500 - 65500 nodes created - worst tet radius 1.91179 (nodes removed 0 0)\n",
      "Info    : It. 66000 - 66000 nodes created - worst tet radius 1.9076 (nodes removed 0 0)\n",
      "Info    : It. 66500 - 66500 nodes created - worst tet radius 1.90335 (nodes removed 0 0)\n",
      "Info    : It. 67000 - 67000 nodes created - worst tet radius 1.89889 (nodes removed 0 0)\n",
      "Info    : It. 67500 - 67500 nodes created - worst tet radius 1.89455 (nodes removed 0 0)\n",
      "Info    : It. 68000 - 68000 nodes created - worst tet radius 1.89059 (nodes removed 0 0)\n",
      "Info    : It. 68500 - 68500 nodes created - worst tet radius 1.88664 (nodes removed 0 0)\n",
      "Info    : It. 69000 - 69000 nodes created - worst tet radius 1.88275 (nodes removed 0 0)\n",
      "Info    : It. 69500 - 69500 nodes created - worst tet radius 1.87858 (nodes removed 0 0)\n",
      "Info    : It. 70000 - 70000 nodes created - worst tet radius 1.87477 (nodes removed 0 0)\n",
      "Info    : It. 70500 - 70500 nodes created - worst tet radius 1.87097 (nodes removed 0 0)\n",
      "Info    : It. 71000 - 71000 nodes created - worst tet radius 1.86672 (nodes removed 0 0)\n",
      "Info    : It. 71500 - 71500 nodes created - worst tet radius 1.8628 (nodes removed 0 0)\n",
      "Info    : It. 72000 - 72000 nodes created - worst tet radius 1.85878 (nodes removed 0 0)\n",
      "Info    : It. 72500 - 72500 nodes created - worst tet radius 1.85509 (nodes removed 0 0)\n",
      "Info    : It. 73000 - 73000 nodes created - worst tet radius 1.85119 (nodes removed 0 0)\n",
      "Info    : It. 73500 - 73500 nodes created - worst tet radius 1.84719 (nodes removed 0 0)\n",
      "Info    : It. 74000 - 74000 nodes created - worst tet radius 1.84322 (nodes removed 0 0)\n",
      "Info    : It. 74500 - 74500 nodes created - worst tet radius 1.83926 (nodes removed 0 0)\n",
      "Info    : It. 75000 - 75000 nodes created - worst tet radius 1.83563 (nodes removed 0 0)\n",
      "Info    : It. 75500 - 75500 nodes created - worst tet radius 1.83193 (nodes removed 0 0)\n",
      "Info    : It. 76000 - 76000 nodes created - worst tet radius 1.82824 (nodes removed 0 0)\n",
      "Info    : It. 76500 - 76500 nodes created - worst tet radius 1.82457 (nodes removed 0 0)\n",
      "Info    : It. 77000 - 77000 nodes created - worst tet radius 1.82112 (nodes removed 0 0)\n",
      "Info    : It. 77500 - 77500 nodes created - worst tet radius 1.81754 (nodes removed 0 0)\n",
      "Info    : It. 78000 - 78000 nodes created - worst tet radius 1.81374 (nodes removed 0 0)\n",
      "Info    : It. 78500 - 78500 nodes created - worst tet radius 1.81026 (nodes removed 0 0)\n",
      "Info    : It. 79000 - 79000 nodes created - worst tet radius 1.80663 (nodes removed 0 0)\n",
      "Info    : It. 79500 - 79500 nodes created - worst tet radius 1.80321 (nodes removed 0 0)\n",
      "Info    : It. 80000 - 80000 nodes created - worst tet radius 1.79991 (nodes removed 0 0)\n",
      "Info    : It. 80500 - 80500 nodes created - worst tet radius 1.79656 (nodes removed 0 0)\n",
      "Info    : It. 81000 - 81000 nodes created - worst tet radius 1.79312 (nodes removed 0 0)\n",
      "Info    : It. 81500 - 81500 nodes created - worst tet radius 1.78961 (nodes removed 0 0)\n",
      "Info    : It. 82000 - 82000 nodes created - worst tet radius 1.78643 (nodes removed 0 0)\n",
      "Info    : It. 82500 - 82500 nodes created - worst tet radius 1.78333 (nodes removed 0 0)\n",
      "Info    : It. 83000 - 83000 nodes created - worst tet radius 1.77983 (nodes removed 0 0)\n",
      "Info    : It. 83500 - 83500 nodes created - worst tet radius 1.77639 (nodes removed 0 0)\n",
      "Info    : It. 84000 - 84000 nodes created - worst tet radius 1.77316 (nodes removed 0 0)\n",
      "Info    : It. 84500 - 84500 nodes created - worst tet radius 1.77002 (nodes removed 0 0)\n",
      "Info    : It. 85000 - 85000 nodes created - worst tet radius 1.76694 (nodes removed 0 0)\n",
      "Info    : It. 85500 - 85500 nodes created - worst tet radius 1.76371 (nodes removed 0 0)\n",
      "Info    : It. 86000 - 86000 nodes created - worst tet radius 1.76072 (nodes removed 0 0)\n",
      "Info    : It. 86500 - 86500 nodes created - worst tet radius 1.75773 (nodes removed 0 0)\n",
      "Info    : It. 87000 - 87000 nodes created - worst tet radius 1.75492 (nodes removed 0 0)\n",
      "Info    : It. 87500 - 87500 nodes created - worst tet radius 1.75178 (nodes removed 0 0)\n",
      "Info    : It. 88000 - 88000 nodes created - worst tet radius 1.74866 (nodes removed 0 0)\n",
      "Info    : It. 88500 - 88500 nodes created - worst tet radius 1.74576 (nodes removed 0 0)\n",
      "Info    : It. 89000 - 89000 nodes created - worst tet radius 1.74251 (nodes removed 0 0)\n",
      "Info    : It. 89500 - 89500 nodes created - worst tet radius 1.73962 (nodes removed 0 0)\n",
      "Info    : It. 90000 - 90000 nodes created - worst tet radius 1.73649 (nodes removed 0 0)\n",
      "Info    : It. 90500 - 90500 nodes created - worst tet radius 1.73352 (nodes removed 0 0)\n",
      "Info    : It. 91000 - 91000 nodes created - worst tet radius 1.7304 (nodes removed 0 0)\n",
      "Info    : It. 91500 - 91500 nodes created - worst tet radius 1.72758 (nodes removed 0 0)\n",
      "Info    : It. 92000 - 92000 nodes created - worst tet radius 1.72439 (nodes removed 0 0)\n",
      "Info    : It. 92500 - 92500 nodes created - worst tet radius 1.72136 (nodes removed 0 0)\n",
      "Info    : It. 93000 - 93000 nodes created - worst tet radius 1.71822 (nodes removed 0 0)\n",
      "Info    : It. 93500 - 93500 nodes created - worst tet radius 1.71554 (nodes removed 0 0)\n",
      "Info    : It. 94000 - 94000 nodes created - worst tet radius 1.71282 (nodes removed 0 0)\n",
      "Info    : It. 94500 - 94500 nodes created - worst tet radius 1.71003 (nodes removed 0 0)\n",
      "Info    : It. 95000 - 95000 nodes created - worst tet radius 1.70731 (nodes removed 0 0)\n",
      "Info    : It. 95500 - 95500 nodes created - worst tet radius 1.70434 (nodes removed 0 0)\n",
      "Info    : It. 96000 - 96000 nodes created - worst tet radius 1.70174 (nodes removed 0 0)\n",
      "Info    : It. 96500 - 96500 nodes created - worst tet radius 1.69908 (nodes removed 0 0)\n",
      "Info    : It. 97000 - 97000 nodes created - worst tet radius 1.69652 (nodes removed 0 0)\n",
      "Info    : It. 97500 - 97500 nodes created - worst tet radius 1.6939 (nodes removed 0 0)\n",
      "Info    : It. 98000 - 98000 nodes created - worst tet radius 1.69127 (nodes removed 0 0)\n",
      "Info    : It. 98500 - 98500 nodes created - worst tet radius 1.68853 (nodes removed 0 0)\n",
      "Info    : It. 99000 - 99000 nodes created - worst tet radius 1.68609 (nodes removed 0 0)\n",
      "Info    : It. 99500 - 99500 nodes created - worst tet radius 1.6836 (nodes removed 0 0)\n",
      "Info    : It. 100000 - 100000 nodes created - worst tet radius 1.68099 (nodes removed 0 0)\n",
      "Info    : It. 100500 - 100500 nodes created - worst tet radius 1.6785 (nodes removed 0 0)\n",
      "Info    : It. 101000 - 101000 nodes created - worst tet radius 1.67599 (nodes removed 0 0)\n",
      "Info    : It. 101500 - 101500 nodes created - worst tet radius 1.67363 (nodes removed 0 0)\n",
      "Info    : It. 102000 - 102000 nodes created - worst tet radius 1.67108 (nodes removed 0 0)\n",
      "Info    : It. 102500 - 102500 nodes created - worst tet radius 1.66861 (nodes removed 0 0)\n",
      "Info    : It. 103000 - 103000 nodes created - worst tet radius 1.66623 (nodes removed 0 0)\n",
      "Info    : It. 103500 - 103500 nodes created - worst tet radius 1.66387 (nodes removed 0 0)\n",
      "Info    : It. 104000 - 104000 nodes created - worst tet radius 1.66117 (nodes removed 0 0)\n",
      "Info    : It. 104500 - 104500 nodes created - worst tet radius 1.6587 (nodes removed 0 0)\n",
      "Info    : It. 105000 - 105000 nodes created - worst tet radius 1.65631 (nodes removed 0 0)\n",
      "Info    : It. 105500 - 105500 nodes created - worst tet radius 1.65372 (nodes removed 0 0)\n",
      "Info    : It. 106000 - 106000 nodes created - worst tet radius 1.65122 (nodes removed 0 0)\n",
      "Info    : It. 106500 - 106500 nodes created - worst tet radius 1.64882 (nodes removed 0 0)\n",
      "Info    : It. 107000 - 107000 nodes created - worst tet radius 1.64642 (nodes removed 0 0)\n",
      "Info    : It. 107500 - 107500 nodes created - worst tet radius 1.64407 (nodes removed 0 0)\n",
      "Info    : It. 108000 - 108000 nodes created - worst tet radius 1.64172 (nodes removed 0 0)\n",
      "Info    : It. 108500 - 108500 nodes created - worst tet radius 1.63951 (nodes removed 0 0)\n",
      "Info    : It. 109000 - 109000 nodes created - worst tet radius 1.63715 (nodes removed 0 0)\n",
      "Info    : It. 109500 - 109500 nodes created - worst tet radius 1.63483 (nodes removed 0 0)\n",
      "Info    : It. 110000 - 110000 nodes created - worst tet radius 1.63252 (nodes removed 0 0)\n",
      "Info    : It. 110500 - 110500 nodes created - worst tet radius 1.63021 (nodes removed 0 0)\n",
      "Info    : It. 111000 - 111000 nodes created - worst tet radius 1.62803 (nodes removed 0 0)\n",
      "Info    : It. 111500 - 111500 nodes created - worst tet radius 1.62588 (nodes removed 0 0)\n",
      "Info    : It. 112000 - 112000 nodes created - worst tet radius 1.62352 (nodes removed 0 0)\n",
      "Info    : It. 112500 - 112500 nodes created - worst tet radius 1.62128 (nodes removed 0 0)\n",
      "Info    : It. 113000 - 113000 nodes created - worst tet radius 1.61903 (nodes removed 0 0)\n",
      "Info    : It. 113500 - 113500 nodes created - worst tet radius 1.61682 (nodes removed 0 0)\n",
      "Info    : It. 114000 - 114000 nodes created - worst tet radius 1.61465 (nodes removed 0 0)\n",
      "Info    : It. 114500 - 114500 nodes created - worst tet radius 1.61243 (nodes removed 0 0)\n",
      "Info    : It. 115000 - 115000 nodes created - worst tet radius 1.61039 (nodes removed 0 0)\n",
      "Info    : It. 115500 - 115500 nodes created - worst tet radius 1.60827 (nodes removed 0 0)\n",
      "Info    : It. 116000 - 116000 nodes created - worst tet radius 1.606 (nodes removed 0 0)\n",
      "Info    : It. 116500 - 116500 nodes created - worst tet radius 1.60392 (nodes removed 0 0)\n",
      "Info    : It. 117000 - 117000 nodes created - worst tet radius 1.60186 (nodes removed 0 0)\n",
      "Info    : It. 117500 - 117500 nodes created - worst tet radius 1.59962 (nodes removed 0 0)\n",
      "Info    : It. 118000 - 118000 nodes created - worst tet radius 1.59748 (nodes removed 0 0)\n",
      "Info    : It. 118500 - 118500 nodes created - worst tet radius 1.59553 (nodes removed 0 0)\n",
      "Info    : It. 119000 - 119000 nodes created - worst tet radius 1.59341 (nodes removed 0 0)\n",
      "Info    : It. 119500 - 119500 nodes created - worst tet radius 1.59123 (nodes removed 0 0)\n",
      "Info    : It. 120000 - 120000 nodes created - worst tet radius 1.58916 (nodes removed 0 0)\n",
      "Info    : It. 120500 - 120500 nodes created - worst tet radius 1.58716 (nodes removed 0 0)\n",
      "Info    : It. 121000 - 121000 nodes created - worst tet radius 1.58505 (nodes removed 0 0)\n",
      "Info    : It. 121500 - 121500 nodes created - worst tet radius 1.58298 (nodes removed 0 0)\n",
      "Info    : It. 122000 - 122000 nodes created - worst tet radius 1.58096 (nodes removed 0 0)\n",
      "Info    : It. 122500 - 122500 nodes created - worst tet radius 1.57906 (nodes removed 0 0)\n",
      "Info    : It. 123000 - 123000 nodes created - worst tet radius 1.57712 (nodes removed 0 0)\n",
      "Info    : It. 123500 - 123500 nodes created - worst tet radius 1.57495 (nodes removed 0 0)\n",
      "Info    : It. 124000 - 124000 nodes created - worst tet radius 1.5731 (nodes removed 0 0)\n",
      "Info    : It. 124500 - 124500 nodes created - worst tet radius 1.57092 (nodes removed 0 0)\n",
      "Info    : It. 125000 - 125000 nodes created - worst tet radius 1.56881 (nodes removed 0 0)\n",
      "Info    : It. 125500 - 125500 nodes created - worst tet radius 1.56677 (nodes removed 0 0)\n",
      "Info    : It. 126000 - 126000 nodes created - worst tet radius 1.56487 (nodes removed 0 0)\n",
      "Info    : It. 126500 - 126500 nodes created - worst tet radius 1.56293 (nodes removed 0 0)\n",
      "Info    : It. 127000 - 127000 nodes created - worst tet radius 1.56095 (nodes removed 0 0)\n",
      "Info    : It. 127500 - 127500 nodes created - worst tet radius 1.55919 (nodes removed 0 0)\n",
      "Info    : It. 128000 - 128000 nodes created - worst tet radius 1.5571 (nodes removed 0 0)\n",
      "Info    : It. 128500 - 128500 nodes created - worst tet radius 1.55523 (nodes removed 0 0)\n",
      "Info    : It. 129000 - 129000 nodes created - worst tet radius 1.55335 (nodes removed 0 0)\n",
      "Info    : It. 129500 - 129500 nodes created - worst tet radius 1.55155 (nodes removed 0 0)\n",
      "Info    : It. 130000 - 130000 nodes created - worst tet radius 1.54965 (nodes removed 0 0)\n",
      "Info    : It. 130500 - 130500 nodes created - worst tet radius 1.54779 (nodes removed 0 0)\n",
      "Info    : It. 131000 - 131000 nodes created - worst tet radius 1.54598 (nodes removed 0 0)\n",
      "Info    : It. 131500 - 131500 nodes created - worst tet radius 1.54419 (nodes removed 0 0)\n",
      "Info    : It. 132000 - 132000 nodes created - worst tet radius 1.54219 (nodes removed 0 0)\n",
      "Info    : It. 132500 - 132500 nodes created - worst tet radius 1.54041 (nodes removed 0 0)\n",
      "Info    : It. 133000 - 133000 nodes created - worst tet radius 1.53869 (nodes removed 0 0)\n",
      "Info    : It. 133500 - 133500 nodes created - worst tet radius 1.53705 (nodes removed 0 0)\n",
      "Info    : It. 134000 - 134000 nodes created - worst tet radius 1.53533 (nodes removed 0 0)\n",
      "Info    : It. 134500 - 134500 nodes created - worst tet radius 1.53346 (nodes removed 0 0)\n",
      "Info    : It. 135000 - 135000 nodes created - worst tet radius 1.53176 (nodes removed 0 0)\n",
      "Info    : It. 135500 - 135500 nodes created - worst tet radius 1.53 (nodes removed 0 0)\n",
      "Info    : It. 136000 - 136000 nodes created - worst tet radius 1.52814 (nodes removed 0 0)\n",
      "Info    : It. 136500 - 136500 nodes created - worst tet radius 1.52651 (nodes removed 0 0)\n",
      "Info    : It. 137000 - 137000 nodes created - worst tet radius 1.52476 (nodes removed 0 0)\n",
      "Info    : It. 137500 - 137500 nodes created - worst tet radius 1.52308 (nodes removed 0 0)\n",
      "Info    : It. 138000 - 138000 nodes created - worst tet radius 1.52143 (nodes removed 0 0)\n",
      "Info    : It. 138500 - 138500 nodes created - worst tet radius 1.51978 (nodes removed 0 0)\n",
      "Info    : It. 139000 - 139000 nodes created - worst tet radius 1.51801 (nodes removed 0 0)\n",
      "Info    : It. 139500 - 139500 nodes created - worst tet radius 1.51633 (nodes removed 0 0)\n",
      "Info    : It. 140000 - 140000 nodes created - worst tet radius 1.51469 (nodes removed 0 0)\n",
      "Info    : It. 140500 - 140500 nodes created - worst tet radius 1.5131 (nodes removed 0 0)\n",
      "Info    : It. 141000 - 141000 nodes created - worst tet radius 1.51121 (nodes removed 0 0)\n",
      "Info    : It. 141500 - 141500 nodes created - worst tet radius 1.50948 (nodes removed 0 0)\n",
      "Info    : It. 142000 - 142000 nodes created - worst tet radius 1.50786 (nodes removed 0 0)\n",
      "Info    : It. 142500 - 142500 nodes created - worst tet radius 1.50618 (nodes removed 0 0)\n",
      "Info    : It. 143000 - 143000 nodes created - worst tet radius 1.50464 (nodes removed 0 0)\n",
      "Info    : It. 143500 - 143500 nodes created - worst tet radius 1.503 (nodes removed 0 0)\n",
      "Info    : It. 144000 - 144000 nodes created - worst tet radius 1.50136 (nodes removed 0 0)\n",
      "Info    : It. 144500 - 144500 nodes created - worst tet radius 1.49963 (nodes removed 0 0)\n",
      "Info    : It. 145000 - 145000 nodes created - worst tet radius 1.49801 (nodes removed 0 0)\n",
      "Info    : It. 145500 - 145500 nodes created - worst tet radius 1.49643 (nodes removed 0 0)\n",
      "Info    : It. 146000 - 146000 nodes created - worst tet radius 1.4949 (nodes removed 0 0)\n",
      "Info    : It. 146500 - 146500 nodes created - worst tet radius 1.49337 (nodes removed 0 0)\n",
      "Info    : It. 147000 - 147000 nodes created - worst tet radius 1.49184 (nodes removed 0 0)\n",
      "Info    : It. 147500 - 147500 nodes created - worst tet radius 1.49022 (nodes removed 0 0)\n",
      "Info    : It. 148000 - 148000 nodes created - worst tet radius 1.48866 (nodes removed 0 0)\n",
      "Info    : It. 148500 - 148500 nodes created - worst tet radius 1.48702 (nodes removed 0 0)\n",
      "Info    : It. 149000 - 149000 nodes created - worst tet radius 1.48535 (nodes removed 0 0)\n",
      "Info    : It. 149500 - 149500 nodes created - worst tet radius 1.48368 (nodes removed 0 0)\n",
      "Info    : It. 150000 - 150000 nodes created - worst tet radius 1.48208 (nodes removed 0 0)\n",
      "Info    : It. 150500 - 150500 nodes created - worst tet radius 1.48061 (nodes removed 0 0)\n",
      "Info    : It. 151000 - 151000 nodes created - worst tet radius 1.47911 (nodes removed 0 0)\n",
      "Info    : It. 151500 - 151500 nodes created - worst tet radius 1.47761 (nodes removed 0 0)\n",
      "Info    : It. 152000 - 152000 nodes created - worst tet radius 1.47613 (nodes removed 0 0)\n",
      "Info    : It. 152500 - 152500 nodes created - worst tet radius 1.47464 (nodes removed 0 0)\n",
      "Info    : It. 153000 - 153000 nodes created - worst tet radius 1.47302 (nodes removed 0 0)\n",
      "Info    : It. 153500 - 153500 nodes created - worst tet radius 1.47144 (nodes removed 0 0)\n",
      "Info    : It. 154000 - 154000 nodes created - worst tet radius 1.47004 (nodes removed 0 0)\n",
      "Info    : It. 154500 - 154500 nodes created - worst tet radius 1.46858 (nodes removed 0 0)\n",
      "Info    : It. 155000 - 155000 nodes created - worst tet radius 1.46715 (nodes removed 0 0)\n",
      "Info    : It. 155500 - 155500 nodes created - worst tet radius 1.46566 (nodes removed 0 0)\n",
      "Info    : It. 156000 - 156000 nodes created - worst tet radius 1.46416 (nodes removed 0 0)\n",
      "Info    : It. 156500 - 156500 nodes created - worst tet radius 1.46283 (nodes removed 0 0)\n",
      "Info    : It. 157000 - 157000 nodes created - worst tet radius 1.46133 (nodes removed 0 0)\n",
      "Info    : It. 157500 - 157500 nodes created - worst tet radius 1.45991 (nodes removed 0 0)\n",
      "Info    : It. 158000 - 158000 nodes created - worst tet radius 1.45845 (nodes removed 0 0)\n",
      "Info    : It. 158500 - 158500 nodes created - worst tet radius 1.45699 (nodes removed 0 0)\n",
      "Info    : It. 159000 - 159000 nodes created - worst tet radius 1.45551 (nodes removed 0 0)\n",
      "Info    : It. 159500 - 159500 nodes created - worst tet radius 1.45414 (nodes removed 0 0)\n",
      "Info    : It. 160000 - 160000 nodes created - worst tet radius 1.45283 (nodes removed 0 0)\n",
      "Info    : It. 160500 - 160500 nodes created - worst tet radius 1.45129 (nodes removed 0 0)\n",
      "Info    : It. 161000 - 161000 nodes created - worst tet radius 1.44994 (nodes removed 0 0)\n",
      "Info    : It. 161500 - 161500 nodes created - worst tet radius 1.44851 (nodes removed 0 0)\n",
      "Info    : It. 162000 - 162000 nodes created - worst tet radius 1.44719 (nodes removed 0 0)\n",
      "Info    : It. 162500 - 162500 nodes created - worst tet radius 1.44578 (nodes removed 0 0)\n",
      "Info    : It. 163000 - 163000 nodes created - worst tet radius 1.4444 (nodes removed 0 0)\n",
      "Info    : It. 163500 - 163500 nodes created - worst tet radius 1.44301 (nodes removed 0 0)\n",
      "Info    : It. 164000 - 164000 nodes created - worst tet radius 1.44176 (nodes removed 0 0)\n",
      "Info    : It. 164500 - 164500 nodes created - worst tet radius 1.44035 (nodes removed 0 0)\n",
      "Info    : It. 165000 - 165000 nodes created - worst tet radius 1.43897 (nodes removed 0 0)\n",
      "Info    : It. 165500 - 165500 nodes created - worst tet radius 1.4376 (nodes removed 0 0)\n",
      "Info    : It. 166000 - 166000 nodes created - worst tet radius 1.43619 (nodes removed 0 0)\n",
      "Info    : It. 166500 - 166500 nodes created - worst tet radius 1.43482 (nodes removed 0 0)\n",
      "Info    : It. 167000 - 167000 nodes created - worst tet radius 1.43352 (nodes removed 0 0)\n",
      "Info    : It. 167500 - 167500 nodes created - worst tet radius 1.4321 (nodes removed 0 0)\n",
      "Info    : It. 168000 - 168000 nodes created - worst tet radius 1.43082 (nodes removed 0 0)\n",
      "Info    : It. 168500 - 168500 nodes created - worst tet radius 1.42939 (nodes removed 0 0)\n",
      "Info    : It. 169000 - 169000 nodes created - worst tet radius 1.42812 (nodes removed 0 0)\n",
      "Info    : It. 169500 - 169500 nodes created - worst tet radius 1.42678 (nodes removed 0 0)\n",
      "Info    : It. 170000 - 170000 nodes created - worst tet radius 1.42541 (nodes removed 0 0)\n",
      "Info    : It. 170500 - 170500 nodes created - worst tet radius 1.42411 (nodes removed 0 0)\n",
      "Info    : It. 171000 - 171000 nodes created - worst tet radius 1.42281 (nodes removed 0 0)\n",
      "Info    : It. 171500 - 171500 nodes created - worst tet radius 1.42152 (nodes removed 0 0)\n",
      "Info    : It. 172000 - 172000 nodes created - worst tet radius 1.42025 (nodes removed 0 0)\n",
      "Info    : It. 172500 - 172500 nodes created - worst tet radius 1.41901 (nodes removed 0 0)\n",
      "Info    : It. 173000 - 173000 nodes created - worst tet radius 1.41769 (nodes removed 0 0)\n",
      "Info    : It. 173500 - 173500 nodes created - worst tet radius 1.41635 (nodes removed 0 0)\n",
      "Info    : It. 174000 - 174000 nodes created - worst tet radius 1.41519 (nodes removed 0 0)\n",
      "Info    : It. 174500 - 174500 nodes created - worst tet radius 1.41393 (nodes removed 0 0)\n",
      "Info    : It. 175000 - 175000 nodes created - worst tet radius 1.41262 (nodes removed 0 0)\n",
      "Info    : It. 175500 - 175500 nodes created - worst tet radius 1.41133 (nodes removed 0 0)\n",
      "Info    : It. 176000 - 176000 nodes created - worst tet radius 1.41008 (nodes removed 0 0)\n",
      "Info    : It. 176500 - 176500 nodes created - worst tet radius 1.40878 (nodes removed 0 0)\n",
      "Info    : It. 177000 - 177000 nodes created - worst tet radius 1.40749 (nodes removed 0 0)\n",
      "Info    : It. 177500 - 177500 nodes created - worst tet radius 1.40627 (nodes removed 0 0)\n",
      "Info    : It. 178000 - 178000 nodes created - worst tet radius 1.4051 (nodes removed 0 0)\n",
      "Info    : It. 178500 - 178500 nodes created - worst tet radius 1.40394 (nodes removed 0 0)\n",
      "Info    : It. 179000 - 179000 nodes created - worst tet radius 1.40264 (nodes removed 0 0)\n",
      "Info    : It. 179500 - 179500 nodes created - worst tet radius 1.40148 (nodes removed 0 0)\n",
      "Info    : It. 180000 - 180000 nodes created - worst tet radius 1.40028 (nodes removed 0 0)\n",
      "Info    : It. 180500 - 180500 nodes created - worst tet radius 1.39905 (nodes removed 0 0)\n",
      "Info    : It. 181000 - 181000 nodes created - worst tet radius 1.39792 (nodes removed 0 0)\n",
      "Info    : It. 181500 - 181500 nodes created - worst tet radius 1.39671 (nodes removed 0 0)\n",
      "Info    : It. 182000 - 182000 nodes created - worst tet radius 1.39555 (nodes removed 0 0)\n",
      "Info    : It. 182500 - 182500 nodes created - worst tet radius 1.39434 (nodes removed 0 0)\n",
      "Info    : It. 183000 - 183000 nodes created - worst tet radius 1.39311 (nodes removed 0 0)\n",
      "Info    : It. 183500 - 183500 nodes created - worst tet radius 1.39193 (nodes removed 0 0)\n",
      "Info    : It. 184000 - 184000 nodes created - worst tet radius 1.39078 (nodes removed 0 0)\n",
      "Info    : It. 184500 - 184500 nodes created - worst tet radius 1.38959 (nodes removed 0 0)\n",
      "Info    : It. 185000 - 185000 nodes created - worst tet radius 1.38829 (nodes removed 0 0)\n",
      "Info    : It. 185500 - 185500 nodes created - worst tet radius 1.38709 (nodes removed 0 0)\n",
      "Info    : It. 186000 - 186000 nodes created - worst tet radius 1.38588 (nodes removed 0 0)\n",
      "Info    : It. 186500 - 186500 nodes created - worst tet radius 1.38471 (nodes removed 0 0)\n",
      "Info    : It. 187000 - 187000 nodes created - worst tet radius 1.38357 (nodes removed 0 0)\n",
      "Info    : It. 187500 - 187500 nodes created - worst tet radius 1.38248 (nodes removed 0 0)\n",
      "Info    : It. 188000 - 188000 nodes created - worst tet radius 1.38133 (nodes removed 0 0)\n",
      "Info    : It. 188500 - 188500 nodes created - worst tet radius 1.38017 (nodes removed 0 0)\n",
      "Info    : It. 189000 - 189000 nodes created - worst tet radius 1.37905 (nodes removed 0 0)\n",
      "Info    : It. 189500 - 189500 nodes created - worst tet radius 1.37795 (nodes removed 0 0)\n",
      "Info    : It. 190000 - 190000 nodes created - worst tet radius 1.37679 (nodes removed 0 0)\n",
      "Info    : It. 190500 - 190500 nodes created - worst tet radius 1.37559 (nodes removed 0 0)\n",
      "Info    : It. 191000 - 191000 nodes created - worst tet radius 1.37447 (nodes removed 0 0)\n",
      "Info    : It. 191500 - 191500 nodes created - worst tet radius 1.37329 (nodes removed 0 0)\n",
      "Info    : It. 192000 - 192000 nodes created - worst tet radius 1.37212 (nodes removed 0 0)\n",
      "Info    : It. 192500 - 192500 nodes created - worst tet radius 1.37102 (nodes removed 0 0)\n",
      "Info    : It. 193000 - 193000 nodes created - worst tet radius 1.36993 (nodes removed 0 0)\n",
      "Info    : It. 193500 - 193500 nodes created - worst tet radius 1.36888 (nodes removed 0 0)\n",
      "Info    : It. 194000 - 194000 nodes created - worst tet radius 1.3678 (nodes removed 0 0)\n",
      "Info    : It. 194500 - 194500 nodes created - worst tet radius 1.36666 (nodes removed 0 0)\n",
      "Info    : It. 195000 - 195000 nodes created - worst tet radius 1.36555 (nodes removed 0 0)\n",
      "Info    : It. 195500 - 195500 nodes created - worst tet radius 1.36443 (nodes removed 0 0)\n",
      "Info    : It. 196000 - 196000 nodes created - worst tet radius 1.36339 (nodes removed 0 0)\n",
      "Info    : It. 196500 - 196500 nodes created - worst tet radius 1.36224 (nodes removed 0 0)\n",
      "Info    : It. 197000 - 197000 nodes created - worst tet radius 1.36114 (nodes removed 0 0)\n",
      "Info    : It. 197500 - 197500 nodes created - worst tet radius 1.36007 (nodes removed 0 0)\n",
      "Info    : It. 198000 - 198000 nodes created - worst tet radius 1.35897 (nodes removed 0 0)\n",
      "Info    : It. 198500 - 198500 nodes created - worst tet radius 1.35788 (nodes removed 0 0)\n",
      "Info    : It. 199000 - 199000 nodes created - worst tet radius 1.35679 (nodes removed 0 0)\n",
      "Info    : It. 199500 - 199500 nodes created - worst tet radius 1.35572 (nodes removed 0 0)\n",
      "Info    : It. 200000 - 200000 nodes created - worst tet radius 1.3546 (nodes removed 0 0)\n",
      "Info    : It. 200500 - 200500 nodes created - worst tet radius 1.35352 (nodes removed 0 0)\n",
      "Info    : It. 201000 - 201000 nodes created - worst tet radius 1.35251 (nodes removed 0 0)\n",
      "Info    : It. 201500 - 201500 nodes created - worst tet radius 1.35152 (nodes removed 0 0)\n",
      "Info    : It. 202000 - 202000 nodes created - worst tet radius 1.35054 (nodes removed 0 0)\n",
      "Info    : It. 202500 - 202500 nodes created - worst tet radius 1.34956 (nodes removed 0 0)\n",
      "Info    : It. 203000 - 203000 nodes created - worst tet radius 1.34854 (nodes removed 0 0)\n",
      "Info    : It. 203500 - 203500 nodes created - worst tet radius 1.34753 (nodes removed 0 0)\n",
      "Info    : It. 204000 - 204000 nodes created - worst tet radius 1.34646 (nodes removed 0 0)\n",
      "Info    : It. 204500 - 204500 nodes created - worst tet radius 1.34546 (nodes removed 0 0)\n",
      "Info    : It. 205000 - 205000 nodes created - worst tet radius 1.34445 (nodes removed 0 0)\n",
      "Info    : It. 205500 - 205500 nodes created - worst tet radius 1.34339 (nodes removed 0 0)\n",
      "Info    : It. 206000 - 206000 nodes created - worst tet radius 1.34238 (nodes removed 0 0)\n",
      "Info    : It. 206500 - 206500 nodes created - worst tet radius 1.34139 (nodes removed 0 0)\n",
      "Info    : It. 207000 - 207000 nodes created - worst tet radius 1.34035 (nodes removed 0 0)\n",
      "Info    : It. 207500 - 207500 nodes created - worst tet radius 1.33934 (nodes removed 0 0)\n",
      "Info    : It. 208000 - 208000 nodes created - worst tet radius 1.33834 (nodes removed 0 0)\n",
      "Info    : It. 208500 - 208500 nodes created - worst tet radius 1.33728 (nodes removed 0 0)\n",
      "Info    : It. 209000 - 209000 nodes created - worst tet radius 1.33632 (nodes removed 0 0)\n",
      "Info    : It. 209500 - 209500 nodes created - worst tet radius 1.3352 (nodes removed 0 0)\n",
      "Info    : It. 210000 - 210000 nodes created - worst tet radius 1.33419 (nodes removed 0 0)\n",
      "Info    : It. 210500 - 210500 nodes created - worst tet radius 1.33319 (nodes removed 0 0)\n",
      "Info    : It. 211000 - 211000 nodes created - worst tet radius 1.3322 (nodes removed 0 0)\n",
      "Info    : It. 211500 - 211500 nodes created - worst tet radius 1.33125 (nodes removed 0 0)\n",
      "Info    : It. 212000 - 212000 nodes created - worst tet radius 1.33032 (nodes removed 0 0)\n",
      "Info    : It. 212500 - 212500 nodes created - worst tet radius 1.3293 (nodes removed 0 0)\n",
      "Info    : It. 213000 - 213000 nodes created - worst tet radius 1.32833 (nodes removed 0 0)\n",
      "Info    : It. 213500 - 213500 nodes created - worst tet radius 1.32734 (nodes removed 0 0)\n",
      "Info    : It. 214000 - 214000 nodes created - worst tet radius 1.32649 (nodes removed 0 0)\n",
      "Info    : It. 214500 - 214500 nodes created - worst tet radius 1.32551 (nodes removed 0 0)\n",
      "Info    : It. 215000 - 215000 nodes created - worst tet radius 1.32458 (nodes removed 0 0)\n",
      "Info    : It. 215500 - 215500 nodes created - worst tet radius 1.32362 (nodes removed 0 0)\n",
      "Info    : It. 216000 - 216000 nodes created - worst tet radius 1.3227 (nodes removed 0 0)\n",
      "Info    : It. 216500 - 216500 nodes created - worst tet radius 1.32168 (nodes removed 0 0)\n",
      "Info    : It. 217000 - 217000 nodes created - worst tet radius 1.3207 (nodes removed 0 0)\n",
      "Info    : It. 217500 - 217500 nodes created - worst tet radius 1.31972 (nodes removed 0 0)\n",
      "Info    : It. 218000 - 218000 nodes created - worst tet radius 1.31883 (nodes removed 0 0)\n",
      "Info    : It. 218500 - 218500 nodes created - worst tet radius 1.31792 (nodes removed 0 0)\n",
      "Info    : It. 219000 - 219000 nodes created - worst tet radius 1.3169 (nodes removed 0 0)\n",
      "Info    : It. 219500 - 219500 nodes created - worst tet radius 1.31589 (nodes removed 0 0)\n",
      "Info    : It. 220000 - 220000 nodes created - worst tet radius 1.31492 (nodes removed 0 0)\n",
      "Info    : It. 220500 - 220500 nodes created - worst tet radius 1.31407 (nodes removed 0 0)\n",
      "Info    : It. 221000 - 221000 nodes created - worst tet radius 1.31314 (nodes removed 0 0)\n",
      "Info    : It. 221500 - 221500 nodes created - worst tet radius 1.31223 (nodes removed 0 0)\n",
      "Info    : It. 222000 - 222000 nodes created - worst tet radius 1.31137 (nodes removed 0 0)\n",
      "Info    : It. 222500 - 222500 nodes created - worst tet radius 1.31043 (nodes removed 0 0)\n",
      "Info    : It. 223000 - 223000 nodes created - worst tet radius 1.30944 (nodes removed 0 0)\n",
      "Info    : It. 223500 - 223500 nodes created - worst tet radius 1.30858 (nodes removed 0 0)\n",
      "Info    : It. 224000 - 224000 nodes created - worst tet radius 1.30769 (nodes removed 0 0)\n",
      "Info    : It. 224500 - 224500 nodes created - worst tet radius 1.30676 (nodes removed 0 0)\n",
      "Info    : It. 225000 - 225000 nodes created - worst tet radius 1.3059 (nodes removed 0 0)\n",
      "Info    : It. 225500 - 225500 nodes created - worst tet radius 1.305 (nodes removed 0 0)\n",
      "Info    : It. 226000 - 226000 nodes created - worst tet radius 1.3041 (nodes removed 0 0)\n",
      "Info    : It. 226500 - 226500 nodes created - worst tet radius 1.30317 (nodes removed 0 0)\n",
      "Info    : It. 227000 - 227000 nodes created - worst tet radius 1.30229 (nodes removed 0 0)\n",
      "Info    : It. 227500 - 227500 nodes created - worst tet radius 1.30141 (nodes removed 0 0)\n",
      "Info    : It. 228000 - 228000 nodes created - worst tet radius 1.30058 (nodes removed 0 0)\n",
      "Info    : It. 228500 - 228500 nodes created - worst tet radius 1.29974 (nodes removed 0 0)\n",
      "Info    : It. 229000 - 229000 nodes created - worst tet radius 1.29891 (nodes removed 0 0)\n",
      "Info    : It. 229500 - 229500 nodes created - worst tet radius 1.29799 (nodes removed 0 0)\n",
      "Info    : It. 230000 - 230000 nodes created - worst tet radius 1.29707 (nodes removed 0 0)\n",
      "Info    : It. 230500 - 230500 nodes created - worst tet radius 1.29619 (nodes removed 0 0)\n",
      "Info    : It. 231000 - 231000 nodes created - worst tet radius 1.29532 (nodes removed 0 0)\n",
      "Info    : It. 231500 - 231500 nodes created - worst tet radius 1.29446 (nodes removed 0 0)\n",
      "Info    : It. 232000 - 232000 nodes created - worst tet radius 1.29354 (nodes removed 0 0)\n",
      "Info    : It. 232500 - 232500 nodes created - worst tet radius 1.29264 (nodes removed 0 0)\n",
      "Info    : It. 233000 - 233000 nodes created - worst tet radius 1.29185 (nodes removed 0 0)\n",
      "Info    : It. 233500 - 233500 nodes created - worst tet radius 1.29098 (nodes removed 0 0)\n",
      "Info    : It. 234000 - 234000 nodes created - worst tet radius 1.29018 (nodes removed 0 0)\n",
      "Info    : It. 234500 - 234500 nodes created - worst tet radius 1.28933 (nodes removed 0 0)\n",
      "Info    : It. 235000 - 235000 nodes created - worst tet radius 1.28846 (nodes removed 0 0)\n",
      "Info    : It. 235500 - 235500 nodes created - worst tet radius 1.28757 (nodes removed 0 0)\n",
      "Info    : It. 236000 - 236000 nodes created - worst tet radius 1.28676 (nodes removed 0 0)\n",
      "Info    : It. 236500 - 236500 nodes created - worst tet radius 1.28593 (nodes removed 0 0)\n",
      "Info    : It. 237000 - 237000 nodes created - worst tet radius 1.2851 (nodes removed 0 0)\n",
      "Info    : It. 237500 - 237500 nodes created - worst tet radius 1.28427 (nodes removed 0 0)\n",
      "Info    : It. 238000 - 238000 nodes created - worst tet radius 1.28339 (nodes removed 0 0)\n",
      "Info    : It. 238500 - 238500 nodes created - worst tet radius 1.28256 (nodes removed 0 0)\n",
      "Info    : It. 239000 - 239000 nodes created - worst tet radius 1.28172 (nodes removed 0 0)\n",
      "Info    : It. 239500 - 239500 nodes created - worst tet radius 1.28086 (nodes removed 0 0)\n",
      "Info    : It. 240000 - 240000 nodes created - worst tet radius 1.28001 (nodes removed 0 0)\n",
      "Info    : It. 240500 - 240500 nodes created - worst tet radius 1.27919 (nodes removed 0 0)\n",
      "Info    : It. 241000 - 241000 nodes created - worst tet radius 1.27839 (nodes removed 0 0)\n",
      "Info    : It. 241500 - 241500 nodes created - worst tet radius 1.27755 (nodes removed 0 0)\n",
      "Info    : It. 242000 - 242000 nodes created - worst tet radius 1.2767 (nodes removed 0 0)\n",
      "Info    : It. 242500 - 242500 nodes created - worst tet radius 1.27585 (nodes removed 0 0)\n",
      "Info    : It. 243000 - 243000 nodes created - worst tet radius 1.27495 (nodes removed 0 0)\n",
      "Info    : It. 243500 - 243500 nodes created - worst tet radius 1.27415 (nodes removed 0 0)\n",
      "Info    : It. 244000 - 244000 nodes created - worst tet radius 1.27337 (nodes removed 0 0)\n",
      "Info    : It. 244500 - 244500 nodes created - worst tet radius 1.27257 (nodes removed 0 0)\n",
      "Info    : It. 245000 - 245000 nodes created - worst tet radius 1.27172 (nodes removed 0 0)\n",
      "Info    : It. 245500 - 245500 nodes created - worst tet radius 1.27095 (nodes removed 0 0)\n",
      "Info    : It. 246000 - 246000 nodes created - worst tet radius 1.27014 (nodes removed 0 0)\n",
      "Info    : It. 246500 - 246500 nodes created - worst tet radius 1.2693 (nodes removed 0 0)\n",
      "Info    : It. 247000 - 247000 nodes created - worst tet radius 1.26852 (nodes removed 0 0)\n",
      "Info    : It. 247500 - 247500 nodes created - worst tet radius 1.26775 (nodes removed 0 0)\n",
      "Info    : It. 248000 - 248000 nodes created - worst tet radius 1.26692 (nodes removed 0 0)\n",
      "Info    : It. 248500 - 248500 nodes created - worst tet radius 1.26612 (nodes removed 0 0)\n",
      "Info    : It. 249000 - 249000 nodes created - worst tet radius 1.2653 (nodes removed 0 0)\n",
      "Info    : It. 249500 - 249500 nodes created - worst tet radius 1.26445 (nodes removed 0 0)\n",
      "Info    : It. 250000 - 250000 nodes created - worst tet radius 1.26365 (nodes removed 0 0)\n",
      "Info    : It. 250500 - 250500 nodes created - worst tet radius 1.26288 (nodes removed 0 0)\n",
      "Info    : It. 251000 - 251000 nodes created - worst tet radius 1.26205 (nodes removed 0 0)\n",
      "Info    : It. 251500 - 251500 nodes created - worst tet radius 1.26125 (nodes removed 0 0)\n",
      "Info    : It. 252000 - 252000 nodes created - worst tet radius 1.26039 (nodes removed 0 0)\n",
      "Info    : It. 252500 - 252500 nodes created - worst tet radius 1.25955 (nodes removed 0 0)\n",
      "Info    : It. 253000 - 253000 nodes created - worst tet radius 1.2588 (nodes removed 0 0)\n",
      "Info    : It. 253500 - 253500 nodes created - worst tet radius 1.25803 (nodes removed 0 0)\n",
      "Info    : It. 254000 - 254000 nodes created - worst tet radius 1.25733 (nodes removed 0 0)\n",
      "Info    : It. 254500 - 254500 nodes created - worst tet radius 1.25657 (nodes removed 0 0)\n",
      "Info    : It. 255000 - 255000 nodes created - worst tet radius 1.25577 (nodes removed 0 0)\n",
      "Info    : It. 255500 - 255500 nodes created - worst tet radius 1.25498 (nodes removed 0 0)\n",
      "Info    : It. 256000 - 256000 nodes created - worst tet radius 1.25421 (nodes removed 0 0)\n",
      "Info    : It. 256500 - 256500 nodes created - worst tet radius 1.25347 (nodes removed 0 0)\n",
      "Info    : It. 257000 - 257000 nodes created - worst tet radius 1.25271 (nodes removed 0 0)\n",
      "Info    : It. 257500 - 257500 nodes created - worst tet radius 1.25195 (nodes removed 0 0)\n",
      "Info    : It. 258000 - 258000 nodes created - worst tet radius 1.25122 (nodes removed 0 0)\n",
      "Info    : It. 258500 - 258500 nodes created - worst tet radius 1.25047 (nodes removed 0 0)\n",
      "Info    : It. 259000 - 259000 nodes created - worst tet radius 1.24976 (nodes removed 0 0)\n",
      "Info    : It. 259500 - 259500 nodes created - worst tet radius 1.24904 (nodes removed 0 0)\n",
      "Info    : It. 260000 - 260000 nodes created - worst tet radius 1.24832 (nodes removed 0 0)\n",
      "Info    : It. 260500 - 260500 nodes created - worst tet radius 1.24759 (nodes removed 0 0)\n",
      "Info    : It. 261000 - 261000 nodes created - worst tet radius 1.24682 (nodes removed 0 0)\n",
      "Info    : It. 261500 - 261500 nodes created - worst tet radius 1.24606 (nodes removed 0 0)\n",
      "Info    : It. 262000 - 262000 nodes created - worst tet radius 1.24531 (nodes removed 0 0)\n",
      "Info    : It. 262500 - 262500 nodes created - worst tet radius 1.24456 (nodes removed 0 0)\n",
      "Info    : It. 263000 - 263000 nodes created - worst tet radius 1.24382 (nodes removed 0 0)\n",
      "Info    : It. 263500 - 263500 nodes created - worst tet radius 1.24305 (nodes removed 0 0)\n",
      "Info    : It. 264000 - 264000 nodes created - worst tet radius 1.2423 (nodes removed 0 0)\n",
      "Info    : It. 264500 - 264500 nodes created - worst tet radius 1.24155 (nodes removed 0 0)\n",
      "Info    : It. 265000 - 265000 nodes created - worst tet radius 1.24084 (nodes removed 0 0)\n",
      "Info    : It. 265500 - 265500 nodes created - worst tet radius 1.24013 (nodes removed 0 0)\n",
      "Info    : It. 266000 - 266000 nodes created - worst tet radius 1.23935 (nodes removed 0 0)\n",
      "Info    : It. 266500 - 266500 nodes created - worst tet radius 1.2386 (nodes removed 0 0)\n",
      "Info    : It. 267000 - 267000 nodes created - worst tet radius 1.23789 (nodes removed 0 0)\n",
      "Info    : It. 267500 - 267500 nodes created - worst tet radius 1.23715 (nodes removed 0 0)\n",
      "Info    : It. 268000 - 268000 nodes created - worst tet radius 1.23645 (nodes removed 0 0)\n",
      "Info    : It. 268500 - 268500 nodes created - worst tet radius 1.23576 (nodes removed 0 0)\n",
      "Info    : It. 269000 - 269000 nodes created - worst tet radius 1.23502 (nodes removed 0 0)\n",
      "Info    : It. 269500 - 269500 nodes created - worst tet radius 1.23427 (nodes removed 0 0)\n",
      "Info    : It. 270000 - 270000 nodes created - worst tet radius 1.23356 (nodes removed 0 0)\n",
      "Info    : It. 270500 - 270500 nodes created - worst tet radius 1.23286 (nodes removed 0 0)\n",
      "Info    : It. 271000 - 271000 nodes created - worst tet radius 1.2321 (nodes removed 0 0)\n",
      "Info    : It. 271500 - 271500 nodes created - worst tet radius 1.23141 (nodes removed 0 0)\n",
      "Info    : It. 272000 - 272000 nodes created - worst tet radius 1.2307 (nodes removed 0 0)\n",
      "Info    : It. 272500 - 272500 nodes created - worst tet radius 1.23001 (nodes removed 0 0)\n",
      "Info    : It. 273000 - 273000 nodes created - worst tet radius 1.22925 (nodes removed 0 0)\n",
      "Info    : It. 273500 - 273500 nodes created - worst tet radius 1.22859 (nodes removed 0 0)\n",
      "Info    : It. 274000 - 274000 nodes created - worst tet radius 1.2279 (nodes removed 0 0)\n",
      "Info    : It. 274500 - 274500 nodes created - worst tet radius 1.22714 (nodes removed 0 0)\n",
      "Info    : It. 275000 - 275000 nodes created - worst tet radius 1.22641 (nodes removed 0 0)\n",
      "Info    : It. 275500 - 275500 nodes created - worst tet radius 1.22571 (nodes removed 0 0)\n",
      "Info    : It. 276000 - 276000 nodes created - worst tet radius 1.22499 (nodes removed 0 0)\n",
      "Info    : It. 276500 - 276500 nodes created - worst tet radius 1.22437 (nodes removed 0 0)\n",
      "Info    : It. 277000 - 277000 nodes created - worst tet radius 1.22366 (nodes removed 0 0)\n",
      "Info    : It. 277500 - 277500 nodes created - worst tet radius 1.223 (nodes removed 0 0)\n",
      "Info    : It. 278000 - 278000 nodes created - worst tet radius 1.2223 (nodes removed 0 0)\n",
      "Info    : It. 278500 - 278500 nodes created - worst tet radius 1.2216 (nodes removed 0 0)\n",
      "Info    : It. 279000 - 279000 nodes created - worst tet radius 1.22092 (nodes removed 0 0)\n",
      "Info    : It. 279500 - 279500 nodes created - worst tet radius 1.22025 (nodes removed 0 0)\n",
      "Info    : It. 280000 - 280000 nodes created - worst tet radius 1.21954 (nodes removed 0 0)\n",
      "Info    : It. 280500 - 280500 nodes created - worst tet radius 1.21885 (nodes removed 0 0)\n",
      "Info    : It. 281000 - 281000 nodes created - worst tet radius 1.21815 (nodes removed 0 0)\n",
      "Info    : It. 281500 - 281500 nodes created - worst tet radius 1.21743 (nodes removed 0 0)\n",
      "Info    : It. 282000 - 282000 nodes created - worst tet radius 1.21675 (nodes removed 0 0)\n",
      "Info    : It. 282500 - 282500 nodes created - worst tet radius 1.21607 (nodes removed 0 0)\n",
      "Info    : It. 283000 - 283000 nodes created - worst tet radius 1.21541 (nodes removed 0 0)\n",
      "Info    : It. 283500 - 283500 nodes created - worst tet radius 1.21478 (nodes removed 0 0)\n",
      "Info    : It. 284000 - 284000 nodes created - worst tet radius 1.21415 (nodes removed 0 0)\n",
      "Info    : It. 284500 - 284500 nodes created - worst tet radius 1.2135 (nodes removed 0 0)\n",
      "Info    : It. 285000 - 285000 nodes created - worst tet radius 1.21284 (nodes removed 0 0)\n",
      "Info    : It. 285500 - 285500 nodes created - worst tet radius 1.21219 (nodes removed 0 0)\n",
      "Info    : It. 286000 - 286000 nodes created - worst tet radius 1.21152 (nodes removed 0 0)\n",
      "Info    : It. 286500 - 286500 nodes created - worst tet radius 1.2109 (nodes removed 0 0)\n",
      "Info    : It. 287000 - 287000 nodes created - worst tet radius 1.21024 (nodes removed 0 0)\n",
      "Info    : It. 287500 - 287500 nodes created - worst tet radius 1.20963 (nodes removed 0 0)\n",
      "Info    : It. 288000 - 288000 nodes created - worst tet radius 1.20895 (nodes removed 0 0)\n",
      "Info    : It. 288500 - 288500 nodes created - worst tet radius 1.20826 (nodes removed 0 0)\n",
      "Info    : It. 289000 - 289000 nodes created - worst tet radius 1.20764 (nodes removed 0 0)\n",
      "Info    : It. 289500 - 289500 nodes created - worst tet radius 1.20702 (nodes removed 0 0)\n",
      "Info    : It. 290000 - 290000 nodes created - worst tet radius 1.20633 (nodes removed 0 0)\n",
      "Info    : It. 290500 - 290500 nodes created - worst tet radius 1.20571 (nodes removed 0 0)\n",
      "Info    : It. 291000 - 291000 nodes created - worst tet radius 1.20501 (nodes removed 0 0)\n",
      "Info    : It. 291500 - 291500 nodes created - worst tet radius 1.20432 (nodes removed 0 0)\n",
      "Info    : It. 292000 - 292000 nodes created - worst tet radius 1.2037 (nodes removed 0 0)\n",
      "Info    : It. 292500 - 292500 nodes created - worst tet radius 1.20305 (nodes removed 0 0)\n",
      "Info    : It. 293000 - 293000 nodes created - worst tet radius 1.20246 (nodes removed 0 0)\n",
      "Info    : It. 293500 - 293500 nodes created - worst tet radius 1.20181 (nodes removed 0 0)\n",
      "Info    : It. 294000 - 294000 nodes created - worst tet radius 1.20119 (nodes removed 0 0)\n",
      "Info    : It. 294500 - 294500 nodes created - worst tet radius 1.20063 (nodes removed 0 0)\n",
      "Info    : It. 295000 - 295000 nodes created - worst tet radius 1.19999 (nodes removed 0 0)\n",
      "Info    : It. 295500 - 295500 nodes created - worst tet radius 1.19941 (nodes removed 0 0)\n",
      "Info    : It. 296000 - 296000 nodes created - worst tet radius 1.19876 (nodes removed 0 0)\n",
      "Info    : It. 296500 - 296500 nodes created - worst tet radius 1.19811 (nodes removed 0 0)\n",
      "Info    : It. 297000 - 297000 nodes created - worst tet radius 1.1975 (nodes removed 0 0)\n",
      "Info    : It. 297500 - 297500 nodes created - worst tet radius 1.19688 (nodes removed 0 0)\n",
      "Info    : It. 298000 - 298000 nodes created - worst tet radius 1.19628 (nodes removed 0 0)\n",
      "Info    : It. 298500 - 298500 nodes created - worst tet radius 1.19567 (nodes removed 0 0)\n",
      "Info    : It. 299000 - 299000 nodes created - worst tet radius 1.19502 (nodes removed 0 0)\n",
      "Info    : It. 299500 - 299500 nodes created - worst tet radius 1.19438 (nodes removed 0 0)\n",
      "Info    : It. 300000 - 300000 nodes created - worst tet radius 1.19379 (nodes removed 0 0)\n",
      "Info    : It. 300500 - 300500 nodes created - worst tet radius 1.19316 (nodes removed 0 0)\n",
      "Info    : It. 301000 - 301000 nodes created - worst tet radius 1.19252 (nodes removed 0 0)\n",
      "Info    : It. 301500 - 301500 nodes created - worst tet radius 1.19192 (nodes removed 0 0)\n",
      "Info    : It. 302000 - 302000 nodes created - worst tet radius 1.19134 (nodes removed 0 0)\n",
      "Info    : It. 302500 - 302500 nodes created - worst tet radius 1.19071 (nodes removed 0 0)\n",
      "Info    : It. 303000 - 303000 nodes created - worst tet radius 1.19006 (nodes removed 0 0)\n",
      "Info    : It. 303500 - 303500 nodes created - worst tet radius 1.18945 (nodes removed 0 0)\n",
      "Info    : It. 304000 - 304000 nodes created - worst tet radius 1.18882 (nodes removed 0 0)\n",
      "Info    : It. 304500 - 304500 nodes created - worst tet radius 1.18818 (nodes removed 0 0)\n",
      "Info    : It. 305000 - 305000 nodes created - worst tet radius 1.18756 (nodes removed 0 0)\n",
      "Info    : It. 305500 - 305500 nodes created - worst tet radius 1.18698 (nodes removed 0 0)\n",
      "Info    : It. 306000 - 306000 nodes created - worst tet radius 1.18635 (nodes removed 0 0)\n",
      "Info    : It. 306500 - 306500 nodes created - worst tet radius 1.18573 (nodes removed 0 0)\n",
      "Info    : It. 307000 - 307000 nodes created - worst tet radius 1.1851 (nodes removed 0 0)\n",
      "Info    : It. 307500 - 307500 nodes created - worst tet radius 1.18448 (nodes removed 0 0)\n",
      "Info    : It. 308000 - 308000 nodes created - worst tet radius 1.18391 (nodes removed 0 0)\n",
      "Info    : It. 308500 - 308500 nodes created - worst tet radius 1.1833 (nodes removed 0 0)\n",
      "Info    : It. 309000 - 309000 nodes created - worst tet radius 1.18274 (nodes removed 0 0)\n",
      "Info    : It. 309500 - 309500 nodes created - worst tet radius 1.18214 (nodes removed 0 0)\n",
      "Info    : It. 310000 - 310000 nodes created - worst tet radius 1.18155 (nodes removed 0 0)\n",
      "Info    : It. 310500 - 310500 nodes created - worst tet radius 1.18098 (nodes removed 0 0)\n",
      "Info    : It. 311000 - 311000 nodes created - worst tet radius 1.18036 (nodes removed 0 0)\n",
      "Info    : It. 311500 - 311500 nodes created - worst tet radius 1.17973 (nodes removed 0 0)\n",
      "Info    : It. 312000 - 312000 nodes created - worst tet radius 1.17909 (nodes removed 0 0)\n",
      "Info    : It. 312500 - 312500 nodes created - worst tet radius 1.17853 (nodes removed 0 0)\n",
      "Info    : It. 313000 - 313000 nodes created - worst tet radius 1.17788 (nodes removed 0 0)\n",
      "Info    : It. 313500 - 313500 nodes created - worst tet radius 1.1773 (nodes removed 0 0)\n",
      "Info    : It. 314000 - 314000 nodes created - worst tet radius 1.17668 (nodes removed 0 0)\n",
      "Info    : It. 314500 - 314500 nodes created - worst tet radius 1.17608 (nodes removed 0 0)\n",
      "Info    : It. 315000 - 315000 nodes created - worst tet radius 1.17548 (nodes removed 0 0)\n",
      "Info    : It. 315500 - 315500 nodes created - worst tet radius 1.17491 (nodes removed 0 0)\n",
      "Info    : It. 316000 - 316000 nodes created - worst tet radius 1.17435 (nodes removed 0 0)\n",
      "Info    : It. 316500 - 316500 nodes created - worst tet radius 1.17374 (nodes removed 0 0)\n",
      "Info    : It. 317000 - 317000 nodes created - worst tet radius 1.17318 (nodes removed 0 0)\n",
      "Info    : It. 317500 - 317500 nodes created - worst tet radius 1.17263 (nodes removed 0 0)\n",
      "Info    : It. 318000 - 318000 nodes created - worst tet radius 1.17204 (nodes removed 0 0)\n",
      "Info    : It. 318500 - 318500 nodes created - worst tet radius 1.17148 (nodes removed 0 0)\n",
      "Info    : It. 319000 - 319000 nodes created - worst tet radius 1.17092 (nodes removed 0 0)\n",
      "Info    : It. 319500 - 319500 nodes created - worst tet radius 1.1703 (nodes removed 0 0)\n",
      "Info    : It. 320000 - 320000 nodes created - worst tet radius 1.16975 (nodes removed 0 0)\n",
      "Info    : It. 320500 - 320500 nodes created - worst tet radius 1.16917 (nodes removed 0 0)\n",
      "Info    : It. 321000 - 321000 nodes created - worst tet radius 1.16859 (nodes removed 0 0)\n",
      "Info    : It. 321500 - 321500 nodes created - worst tet radius 1.16807 (nodes removed 0 0)\n",
      "Info    : It. 322000 - 322000 nodes created - worst tet radius 1.16752 (nodes removed 0 0)\n",
      "Info    : It. 322500 - 322500 nodes created - worst tet radius 1.16695 (nodes removed 0 0)\n",
      "Info    : It. 323000 - 323000 nodes created - worst tet radius 1.16636 (nodes removed 0 0)\n",
      "Info    : It. 323500 - 323500 nodes created - worst tet radius 1.16579 (nodes removed 0 0)\n",
      "Info    : It. 324000 - 324000 nodes created - worst tet radius 1.16524 (nodes removed 0 0)\n",
      "Info    : It. 324500 - 324500 nodes created - worst tet radius 1.16469 (nodes removed 0 0)\n",
      "Info    : It. 325000 - 325000 nodes created - worst tet radius 1.16415 (nodes removed 0 0)\n",
      "Info    : It. 325500 - 325500 nodes created - worst tet radius 1.16359 (nodes removed 0 0)\n",
      "Info    : It. 326000 - 326000 nodes created - worst tet radius 1.16301 (nodes removed 0 0)\n",
      "Info    : It. 326500 - 326500 nodes created - worst tet radius 1.16246 (nodes removed 0 0)\n",
      "Info    : It. 327000 - 327000 nodes created - worst tet radius 1.16189 (nodes removed 0 0)\n",
      "Info    : It. 327500 - 327500 nodes created - worst tet radius 1.16134 (nodes removed 0 0)\n",
      "Info    : It. 328000 - 328000 nodes created - worst tet radius 1.16078 (nodes removed 0 0)\n",
      "Info    : It. 328500 - 328500 nodes created - worst tet radius 1.16023 (nodes removed 0 0)\n",
      "Info    : It. 329000 - 329000 nodes created - worst tet radius 1.15966 (nodes removed 0 0)\n",
      "Info    : It. 329500 - 329500 nodes created - worst tet radius 1.15908 (nodes removed 0 0)\n",
      "Info    : It. 330000 - 330000 nodes created - worst tet radius 1.15853 (nodes removed 0 0)\n",
      "Info    : It. 330500 - 330500 nodes created - worst tet radius 1.15793 (nodes removed 0 0)\n",
      "Info    : It. 331000 - 331000 nodes created - worst tet radius 1.15738 (nodes removed 0 0)\n",
      "Info    : It. 331500 - 331500 nodes created - worst tet radius 1.15688 (nodes removed 0 0)\n",
      "Info    : It. 332000 - 332000 nodes created - worst tet radius 1.15636 (nodes removed 0 0)\n",
      "Info    : It. 332500 - 332500 nodes created - worst tet radius 1.1558 (nodes removed 0 0)\n",
      "Info    : It. 333000 - 333000 nodes created - worst tet radius 1.15528 (nodes removed 0 0)\n",
      "Info    : It. 333500 - 333500 nodes created - worst tet radius 1.15479 (nodes removed 0 0)\n",
      "Info    : It. 334000 - 334000 nodes created - worst tet radius 1.15421 (nodes removed 0 0)\n",
      "Info    : It. 334500 - 334500 nodes created - worst tet radius 1.15364 (nodes removed 0 0)\n",
      "Info    : It. 335000 - 335000 nodes created - worst tet radius 1.15311 (nodes removed 0 0)\n",
      "Info    : It. 335500 - 335500 nodes created - worst tet radius 1.15257 (nodes removed 0 0)\n",
      "Info    : It. 336000 - 336000 nodes created - worst tet radius 1.15207 (nodes removed 0 0)\n",
      "Info    : It. 336500 - 336500 nodes created - worst tet radius 1.15151 (nodes removed 0 0)\n",
      "Info    : It. 337000 - 337000 nodes created - worst tet radius 1.15098 (nodes removed 0 0)\n",
      "Info    : It. 337500 - 337500 nodes created - worst tet radius 1.15043 (nodes removed 0 0)\n",
      "Info    : It. 338000 - 338000 nodes created - worst tet radius 1.14993 (nodes removed 0 0)\n",
      "Info    : It. 338500 - 338500 nodes created - worst tet radius 1.14939 (nodes removed 0 0)\n",
      "Info    : It. 339000 - 339000 nodes created - worst tet radius 1.14883 (nodes removed 0 0)\n",
      "Info    : It. 339500 - 339500 nodes created - worst tet radius 1.1483 (nodes removed 0 0)\n",
      "Info    : It. 340000 - 340000 nodes created - worst tet radius 1.14778 (nodes removed 0 0)\n",
      "Info    : It. 340500 - 340500 nodes created - worst tet radius 1.14727 (nodes removed 0 0)\n",
      "Info    : It. 341000 - 341000 nodes created - worst tet radius 1.14673 (nodes removed 0 0)\n",
      "Info    : It. 341500 - 341500 nodes created - worst tet radius 1.14623 (nodes removed 0 0)\n",
      "Info    : It. 342000 - 342000 nodes created - worst tet radius 1.14569 (nodes removed 0 0)\n",
      "Info    : It. 342500 - 342500 nodes created - worst tet radius 1.14517 (nodes removed 0 0)\n",
      "Info    : It. 343000 - 343000 nodes created - worst tet radius 1.14463 (nodes removed 0 0)\n",
      "Info    : It. 343500 - 343500 nodes created - worst tet radius 1.14411 (nodes removed 0 0)\n",
      "Info    : It. 344000 - 344000 nodes created - worst tet radius 1.14359 (nodes removed 0 0)\n",
      "Info    : It. 344500 - 344500 nodes created - worst tet radius 1.14306 (nodes removed 0 0)\n",
      "Info    : It. 345000 - 345000 nodes created - worst tet radius 1.14255 (nodes removed 0 0)\n",
      "Info    : It. 345500 - 345500 nodes created - worst tet radius 1.142 (nodes removed 0 0)\n",
      "Info    : It. 346000 - 346000 nodes created - worst tet radius 1.14146 (nodes removed 0 0)\n",
      "Info    : It. 346500 - 346500 nodes created - worst tet radius 1.14093 (nodes removed 0 0)\n",
      "Info    : It. 347000 - 347000 nodes created - worst tet radius 1.14042 (nodes removed 0 0)\n",
      "Info    : It. 347500 - 347500 nodes created - worst tet radius 1.13993 (nodes removed 0 0)\n",
      "Info    : It. 348000 - 348000 nodes created - worst tet radius 1.1394 (nodes removed 0 0)\n",
      "Info    : It. 348500 - 348500 nodes created - worst tet radius 1.13885 (nodes removed 0 0)\n",
      "Info    : It. 349000 - 349000 nodes created - worst tet radius 1.1383 (nodes removed 0 0)\n",
      "Info    : It. 349500 - 349500 nodes created - worst tet radius 1.1378 (nodes removed 0 0)\n",
      "Info    : It. 350000 - 350000 nodes created - worst tet radius 1.13728 (nodes removed 0 0)\n",
      "Info    : It. 350500 - 350500 nodes created - worst tet radius 1.13676 (nodes removed 0 0)\n",
      "Info    : It. 351000 - 351000 nodes created - worst tet radius 1.13624 (nodes removed 0 0)\n",
      "Info    : It. 351500 - 351500 nodes created - worst tet radius 1.13576 (nodes removed 0 0)\n",
      "Info    : It. 352000 - 352000 nodes created - worst tet radius 1.13525 (nodes removed 0 0)\n",
      "Info    : It. 352500 - 352500 nodes created - worst tet radius 1.13477 (nodes removed 0 0)\n",
      "Info    : It. 353000 - 353000 nodes created - worst tet radius 1.13424 (nodes removed 0 0)\n",
      "Info    : It. 353500 - 353500 nodes created - worst tet radius 1.13378 (nodes removed 0 0)\n",
      "Info    : It. 354000 - 354000 nodes created - worst tet radius 1.13331 (nodes removed 0 0)\n",
      "Info    : It. 354500 - 354500 nodes created - worst tet radius 1.1328 (nodes removed 0 0)\n",
      "Info    : It. 355000 - 355000 nodes created - worst tet radius 1.13229 (nodes removed 0 0)\n",
      "Info    : It. 355500 - 355500 nodes created - worst tet radius 1.13177 (nodes removed 0 0)\n",
      "Info    : It. 356000 - 356000 nodes created - worst tet radius 1.1313 (nodes removed 0 0)\n",
      "Info    : It. 356500 - 356500 nodes created - worst tet radius 1.13086 (nodes removed 0 0)\n",
      "Info    : It. 357000 - 357000 nodes created - worst tet radius 1.13037 (nodes removed 0 0)\n",
      "Info    : It. 357500 - 357500 nodes created - worst tet radius 1.1299 (nodes removed 0 0)\n",
      "Info    : It. 358000 - 358000 nodes created - worst tet radius 1.12942 (nodes removed 0 0)\n",
      "Info    : It. 358500 - 358500 nodes created - worst tet radius 1.12896 (nodes removed 0 0)\n",
      "Info    : It. 359000 - 359000 nodes created - worst tet radius 1.12847 (nodes removed 0 0)\n",
      "Info    : It. 359500 - 359500 nodes created - worst tet radius 1.12803 (nodes removed 0 0)\n",
      "Info    : It. 360000 - 360000 nodes created - worst tet radius 1.12757 (nodes removed 0 0)\n",
      "Info    : It. 360500 - 360500 nodes created - worst tet radius 1.12711 (nodes removed 0 0)\n",
      "Info    : It. 361000 - 361000 nodes created - worst tet radius 1.12665 (nodes removed 0 0)\n",
      "Info    : It. 361500 - 361500 nodes created - worst tet radius 1.12616 (nodes removed 0 0)\n",
      "Info    : It. 362000 - 362000 nodes created - worst tet radius 1.12562 (nodes removed 0 0)\n",
      "Info    : It. 362500 - 362500 nodes created - worst tet radius 1.12514 (nodes removed 0 0)\n",
      "Info    : It. 363000 - 363000 nodes created - worst tet radius 1.12461 (nodes removed 0 0)\n",
      "Info    : It. 363500 - 363500 nodes created - worst tet radius 1.12414 (nodes removed 0 0)\n",
      "Info    : It. 364000 - 364000 nodes created - worst tet radius 1.12366 (nodes removed 0 0)\n",
      "Info    : It. 364500 - 364500 nodes created - worst tet radius 1.12316 (nodes removed 0 0)\n",
      "Info    : It. 365000 - 365000 nodes created - worst tet radius 1.12269 (nodes removed 0 0)\n",
      "Info    : It. 365500 - 365500 nodes created - worst tet radius 1.12219 (nodes removed 0 0)\n",
      "Info    : It. 366000 - 366000 nodes created - worst tet radius 1.12174 (nodes removed 0 0)\n",
      "Info    : It. 366500 - 366500 nodes created - worst tet radius 1.12128 (nodes removed 0 0)\n",
      "Info    : It. 367000 - 367000 nodes created - worst tet radius 1.12082 (nodes removed 0 0)\n",
      "Info    : It. 367500 - 367500 nodes created - worst tet radius 1.12035 (nodes removed 0 0)\n",
      "Info    : It. 368000 - 368000 nodes created - worst tet radius 1.1199 (nodes removed 0 0)\n",
      "Info    : It. 368500 - 368500 nodes created - worst tet radius 1.11943 (nodes removed 0 0)\n",
      "Info    : It. 369000 - 369000 nodes created - worst tet radius 1.11894 (nodes removed 0 0)\n",
      "Info    : It. 369500 - 369500 nodes created - worst tet radius 1.11845 (nodes removed 0 0)\n",
      "Info    : It. 370000 - 370000 nodes created - worst tet radius 1.118 (nodes removed 0 0)\n",
      "Info    : It. 370500 - 370500 nodes created - worst tet radius 1.1175 (nodes removed 0 0)\n",
      "Info    : It. 371000 - 371000 nodes created - worst tet radius 1.11699 (nodes removed 0 0)\n",
      "Info    : It. 371500 - 371500 nodes created - worst tet radius 1.11655 (nodes removed 0 0)\n",
      "Info    : It. 372000 - 372000 nodes created - worst tet radius 1.11613 (nodes removed 0 0)\n",
      "Info    : It. 372500 - 372500 nodes created - worst tet radius 1.11568 (nodes removed 0 0)\n",
      "Info    : It. 373000 - 373000 nodes created - worst tet radius 1.1152 (nodes removed 0 0)\n",
      "Info    : It. 373500 - 373500 nodes created - worst tet radius 1.11475 (nodes removed 0 0)\n",
      "Info    : It. 374000 - 374000 nodes created - worst tet radius 1.11428 (nodes removed 0 0)\n",
      "Info    : It. 374500 - 374500 nodes created - worst tet radius 1.1138 (nodes removed 0 0)\n",
      "Info    : It. 375000 - 375000 nodes created - worst tet radius 1.11333 (nodes removed 0 0)\n",
      "Info    : It. 375500 - 375500 nodes created - worst tet radius 1.11283 (nodes removed 0 0)\n",
      "Info    : It. 376000 - 376000 nodes created - worst tet radius 1.11235 (nodes removed 0 0)\n",
      "Info    : It. 376500 - 376500 nodes created - worst tet radius 1.11188 (nodes removed 0 0)\n",
      "Info    : It. 377000 - 377000 nodes created - worst tet radius 1.11145 (nodes removed 0 0)\n",
      "Info    : It. 377500 - 377500 nodes created - worst tet radius 1.11097 (nodes removed 0 0)\n",
      "Info    : It. 378000 - 378000 nodes created - worst tet radius 1.11052 (nodes removed 0 0)\n",
      "Info    : It. 378500 - 378500 nodes created - worst tet radius 1.11006 (nodes removed 0 0)\n",
      "Info    : It. 379000 - 379000 nodes created - worst tet radius 1.10959 (nodes removed 0 0)\n",
      "Info    : It. 379500 - 379500 nodes created - worst tet radius 1.1091 (nodes removed 0 0)\n",
      "Info    : It. 380000 - 380000 nodes created - worst tet radius 1.10865 (nodes removed 0 0)\n",
      "Info    : It. 380500 - 380500 nodes created - worst tet radius 1.10816 (nodes removed 0 0)\n",
      "Info    : It. 381000 - 381000 nodes created - worst tet radius 1.10769 (nodes removed 0 0)\n",
      "Info    : It. 381500 - 381500 nodes created - worst tet radius 1.1072 (nodes removed 0 0)\n",
      "Info    : It. 382000 - 382000 nodes created - worst tet radius 1.10673 (nodes removed 0 0)\n",
      "Info    : It. 382500 - 382500 nodes created - worst tet radius 1.10627 (nodes removed 0 0)\n",
      "Info    : It. 383000 - 383000 nodes created - worst tet radius 1.10579 (nodes removed 0 0)\n",
      "Info    : It. 383500 - 383500 nodes created - worst tet radius 1.10533 (nodes removed 0 0)\n",
      "Info    : It. 384000 - 384000 nodes created - worst tet radius 1.10489 (nodes removed 0 0)\n",
      "Info    : It. 384500 - 384500 nodes created - worst tet radius 1.10443 (nodes removed 0 0)\n",
      "Info    : It. 385000 - 385000 nodes created - worst tet radius 1.10395 (nodes removed 0 0)\n",
      "Info    : It. 385500 - 385500 nodes created - worst tet radius 1.1035 (nodes removed 0 0)\n",
      "Info    : It. 386000 - 386000 nodes created - worst tet radius 1.10303 (nodes removed 0 0)\n",
      "Info    : It. 386500 - 386500 nodes created - worst tet radius 1.10259 (nodes removed 0 0)\n",
      "Info    : It. 387000 - 387000 nodes created - worst tet radius 1.10216 (nodes removed 0 0)\n",
      "Info    : It. 387500 - 387500 nodes created - worst tet radius 1.1017 (nodes removed 0 0)\n",
      "Info    : It. 388000 - 388000 nodes created - worst tet radius 1.10126 (nodes removed 0 0)\n",
      "Info    : It. 388500 - 388500 nodes created - worst tet radius 1.10084 (nodes removed 0 0)\n",
      "Info    : It. 389000 - 389000 nodes created - worst tet radius 1.10039 (nodes removed 0 0)\n",
      "Info    : It. 389500 - 389500 nodes created - worst tet radius 1.09993 (nodes removed 0 0)\n",
      "Info    : It. 390000 - 390000 nodes created - worst tet radius 1.0995 (nodes removed 0 0)\n",
      "Info    : It. 390500 - 390500 nodes created - worst tet radius 1.09905 (nodes removed 0 0)\n",
      "Info    : It. 391000 - 391000 nodes created - worst tet radius 1.09862 (nodes removed 0 0)\n",
      "Info    : It. 391500 - 391500 nodes created - worst tet radius 1.09815 (nodes removed 0 0)\n",
      "Info    : It. 392000 - 392000 nodes created - worst tet radius 1.09769 (nodes removed 0 0)\n",
      "Info    : It. 392500 - 392500 nodes created - worst tet radius 1.09724 (nodes removed 0 0)\n",
      "Info    : It. 393000 - 393000 nodes created - worst tet radius 1.09682 (nodes removed 0 0)\n",
      "Info    : It. 393500 - 393500 nodes created - worst tet radius 1.0964 (nodes removed 0 0)\n",
      "Info    : It. 394000 - 394000 nodes created - worst tet radius 1.09595 (nodes removed 0 0)\n",
      "Info    : It. 394500 - 394500 nodes created - worst tet radius 1.09554 (nodes removed 0 0)\n",
      "Info    : It. 395000 - 395000 nodes created - worst tet radius 1.09514 (nodes removed 0 0)\n",
      "Info    : It. 395500 - 395500 nodes created - worst tet radius 1.09469 (nodes removed 0 0)\n",
      "Info    : It. 396000 - 396000 nodes created - worst tet radius 1.09428 (nodes removed 0 0)\n",
      "Info    : It. 396500 - 396500 nodes created - worst tet radius 1.09385 (nodes removed 0 0)\n",
      "Info    : It. 397000 - 397000 nodes created - worst tet radius 1.09341 (nodes removed 0 0)\n",
      "Info    : It. 397500 - 397500 nodes created - worst tet radius 1.09296 (nodes removed 0 0)\n",
      "Info    : It. 398000 - 398000 nodes created - worst tet radius 1.0925 (nodes removed 0 0)\n",
      "Info    : It. 398500 - 398500 nodes created - worst tet radius 1.09208 (nodes removed 0 0)\n",
      "Info    : It. 399000 - 399000 nodes created - worst tet radius 1.09164 (nodes removed 0 0)\n",
      "Info    : It. 399500 - 399500 nodes created - worst tet radius 1.09119 (nodes removed 0 0)\n",
      "Info    : It. 400000 - 400000 nodes created - worst tet radius 1.09077 (nodes removed 0 0)\n",
      "Info    : It. 400500 - 400500 nodes created - worst tet radius 1.09035 (nodes removed 0 0)\n",
      "Info    : It. 401000 - 401000 nodes created - worst tet radius 1.0899 (nodes removed 0 0)\n",
      "Info    : It. 401500 - 401500 nodes created - worst tet radius 1.08948 (nodes removed 0 0)\n",
      "Info    : It. 402000 - 402000 nodes created - worst tet radius 1.08908 (nodes removed 0 0)\n",
      "Info    : It. 402500 - 402500 nodes created - worst tet radius 1.08868 (nodes removed 0 0)\n",
      "Info    : It. 403000 - 403000 nodes created - worst tet radius 1.08828 (nodes removed 0 0)\n",
      "Info    : It. 403500 - 403500 nodes created - worst tet radius 1.08783 (nodes removed 0 0)\n",
      "Info    : It. 404000 - 404000 nodes created - worst tet radius 1.08738 (nodes removed 0 0)\n",
      "Info    : It. 404500 - 404500 nodes created - worst tet radius 1.08694 (nodes removed 0 0)\n",
      "Info    : It. 405000 - 405000 nodes created - worst tet radius 1.08649 (nodes removed 0 0)\n",
      "Info    : It. 405500 - 405500 nodes created - worst tet radius 1.08608 (nodes removed 0 0)\n",
      "Info    : It. 406000 - 406000 nodes created - worst tet radius 1.08566 (nodes removed 0 0)\n",
      "Info    : It. 406500 - 406500 nodes created - worst tet radius 1.08527 (nodes removed 0 0)\n",
      "Info    : It. 407000 - 407000 nodes created - worst tet radius 1.08484 (nodes removed 0 0)\n",
      "Info    : It. 407500 - 407500 nodes created - worst tet radius 1.08443 (nodes removed 0 0)\n",
      "Info    : It. 408000 - 408000 nodes created - worst tet radius 1.084 (nodes removed 0 0)\n",
      "Info    : It. 408500 - 408500 nodes created - worst tet radius 1.08355 (nodes removed 0 0)\n",
      "Info    : It. 409000 - 409000 nodes created - worst tet radius 1.08315 (nodes removed 0 0)\n",
      "Info    : It. 409500 - 409500 nodes created - worst tet radius 1.08273 (nodes removed 0 0)\n",
      "Info    : It. 410000 - 410000 nodes created - worst tet radius 1.08231 (nodes removed 0 0)\n",
      "Info    : It. 410500 - 410500 nodes created - worst tet radius 1.08192 (nodes removed 0 0)\n",
      "Info    : It. 411000 - 411000 nodes created - worst tet radius 1.08154 (nodes removed 0 0)\n",
      "Info    : It. 411500 - 411500 nodes created - worst tet radius 1.08111 (nodes removed 0 0)\n",
      "Info    : It. 412000 - 412000 nodes created - worst tet radius 1.08072 (nodes removed 0 0)\n",
      "Info    : It. 412500 - 412500 nodes created - worst tet radius 1.08029 (nodes removed 0 0)\n",
      "Info    : It. 413000 - 413000 nodes created - worst tet radius 1.07987 (nodes removed 0 0)\n",
      "Info    : It. 413500 - 413500 nodes created - worst tet radius 1.07947 (nodes removed 0 0)\n",
      "Info    : It. 414000 - 414000 nodes created - worst tet radius 1.07907 (nodes removed 0 0)\n",
      "Info    : It. 414500 - 414500 nodes created - worst tet radius 1.07867 (nodes removed 0 0)\n",
      "Info    : It. 415000 - 415000 nodes created - worst tet radius 1.07823 (nodes removed 0 0)\n",
      "Info    : It. 415500 - 415500 nodes created - worst tet radius 1.07781 (nodes removed 0 0)\n",
      "Info    : It. 416000 - 416000 nodes created - worst tet radius 1.07741 (nodes removed 0 0)\n",
      "Info    : It. 416500 - 416500 nodes created - worst tet radius 1.07701 (nodes removed 0 0)\n",
      "Info    : It. 417000 - 417000 nodes created - worst tet radius 1.07661 (nodes removed 0 0)\n",
      "Info    : It. 417500 - 417500 nodes created - worst tet radius 1.07619 (nodes removed 0 0)\n",
      "Info    : It. 418000 - 418000 nodes created - worst tet radius 1.07575 (nodes removed 0 0)\n",
      "Info    : It. 418500 - 418500 nodes created - worst tet radius 1.07536 (nodes removed 0 0)\n",
      "Info    : It. 419000 - 419000 nodes created - worst tet radius 1.07497 (nodes removed 0 0)\n",
      "Info    : It. 419500 - 419500 nodes created - worst tet radius 1.07457 (nodes removed 0 0)\n",
      "Info    : It. 420000 - 420000 nodes created - worst tet radius 1.07416 (nodes removed 0 0)\n",
      "Info    : It. 420500 - 420500 nodes created - worst tet radius 1.07375 (nodes removed 0 0)\n",
      "Info    : It. 421000 - 421000 nodes created - worst tet radius 1.07334 (nodes removed 0 0)\n",
      "Info    : It. 421500 - 421500 nodes created - worst tet radius 1.07293 (nodes removed 0 0)\n",
      "Info    : It. 422000 - 422000 nodes created - worst tet radius 1.07249 (nodes removed 0 0)\n",
      "Info    : It. 422500 - 422500 nodes created - worst tet radius 1.07207 (nodes removed 0 0)\n",
      "Info    : It. 423000 - 423000 nodes created - worst tet radius 1.07167 (nodes removed 0 0)\n",
      "Info    : It. 423500 - 423500 nodes created - worst tet radius 1.07127 (nodes removed 0 0)\n",
      "Info    : It. 424000 - 424000 nodes created - worst tet radius 1.07089 (nodes removed 0 0)\n",
      "Info    : It. 424500 - 424500 nodes created - worst tet radius 1.07051 (nodes removed 0 0)\n",
      "Info    : It. 425000 - 425000 nodes created - worst tet radius 1.0701 (nodes removed 0 0)\n",
      "Info    : It. 425500 - 425500 nodes created - worst tet radius 1.06973 (nodes removed 0 0)\n",
      "Info    : It. 426000 - 426000 nodes created - worst tet radius 1.06934 (nodes removed 0 0)\n",
      "Info    : It. 426500 - 426500 nodes created - worst tet radius 1.06894 (nodes removed 0 0)\n",
      "Info    : It. 427000 - 427000 nodes created - worst tet radius 1.06854 (nodes removed 0 0)\n",
      "Info    : It. 427500 - 427500 nodes created - worst tet radius 1.06814 (nodes removed 0 0)\n",
      "Info    : It. 428000 - 428000 nodes created - worst tet radius 1.06773 (nodes removed 0 0)\n",
      "Info    : It. 428500 - 428500 nodes created - worst tet radius 1.06732 (nodes removed 0 0)\n",
      "Info    : It. 429000 - 429000 nodes created - worst tet radius 1.0669 (nodes removed 0 0)\n",
      "Info    : It. 429500 - 429500 nodes created - worst tet radius 1.06652 (nodes removed 0 0)\n",
      "Info    : It. 430000 - 430000 nodes created - worst tet radius 1.06613 (nodes removed 0 0)\n",
      "Info    : It. 430500 - 430500 nodes created - worst tet radius 1.06574 (nodes removed 0 0)\n",
      "Info    : It. 431000 - 431000 nodes created - worst tet radius 1.06535 (nodes removed 0 0)\n",
      "Info    : It. 431500 - 431500 nodes created - worst tet radius 1.06494 (nodes removed 0 0)\n",
      "Info    : It. 432000 - 432000 nodes created - worst tet radius 1.06456 (nodes removed 0 0)\n",
      "Info    : It. 432500 - 432500 nodes created - worst tet radius 1.06416 (nodes removed 0 0)\n",
      "Info    : It. 433000 - 433000 nodes created - worst tet radius 1.06377 (nodes removed 0 0)\n",
      "Info    : It. 433500 - 433500 nodes created - worst tet radius 1.06337 (nodes removed 0 0)\n",
      "Info    : It. 434000 - 434000 nodes created - worst tet radius 1.06298 (nodes removed 0 0)\n",
      "Info    : It. 434500 - 434500 nodes created - worst tet radius 1.06259 (nodes removed 0 0)\n",
      "Info    : It. 435000 - 435000 nodes created - worst tet radius 1.06222 (nodes removed 0 0)\n",
      "Info    : It. 435500 - 435500 nodes created - worst tet radius 1.0618 (nodes removed 0 0)\n",
      "Info    : It. 436000 - 436000 nodes created - worst tet radius 1.06142 (nodes removed 0 0)\n",
      "Info    : It. 436500 - 436500 nodes created - worst tet radius 1.06103 (nodes removed 0 0)\n",
      "Info    : It. 437000 - 437000 nodes created - worst tet radius 1.06065 (nodes removed 0 0)\n",
      "Info    : It. 437500 - 437500 nodes created - worst tet radius 1.06028 (nodes removed 0 0)\n",
      "Info    : It. 438000 - 438000 nodes created - worst tet radius 1.0599 (nodes removed 0 0)\n",
      "Info    : It. 438500 - 438500 nodes created - worst tet radius 1.05948 (nodes removed 0 0)\n",
      "Info    : It. 439000 - 439000 nodes created - worst tet radius 1.05911 (nodes removed 0 0)\n",
      "Info    : It. 439500 - 439500 nodes created - worst tet radius 1.05874 (nodes removed 0 0)\n",
      "Info    : It. 440000 - 440000 nodes created - worst tet radius 1.05836 (nodes removed 0 0)\n",
      "Info    : It. 440500 - 440500 nodes created - worst tet radius 1.05797 (nodes removed 0 0)\n",
      "Info    : It. 441000 - 441000 nodes created - worst tet radius 1.05759 (nodes removed 0 0)\n",
      "Info    : It. 441500 - 441500 nodes created - worst tet radius 1.05723 (nodes removed 0 0)\n",
      "Info    : It. 442000 - 442000 nodes created - worst tet radius 1.05685 (nodes removed 0 0)\n",
      "Info    : It. 442500 - 442500 nodes created - worst tet radius 1.05649 (nodes removed 0 0)\n",
      "Info    : It. 443000 - 443000 nodes created - worst tet radius 1.05614 (nodes removed 0 0)\n",
      "Info    : It. 443500 - 443500 nodes created - worst tet radius 1.05578 (nodes removed 0 0)\n",
      "Info    : It. 444000 - 444000 nodes created - worst tet radius 1.05541 (nodes removed 0 0)\n",
      "Info    : It. 444500 - 444500 nodes created - worst tet radius 1.05502 (nodes removed 0 0)\n",
      "Info    : It. 445000 - 445000 nodes created - worst tet radius 1.05467 (nodes removed 0 0)\n",
      "Info    : It. 445500 - 445500 nodes created - worst tet radius 1.0543 (nodes removed 0 0)\n",
      "Info    : It. 446000 - 446000 nodes created - worst tet radius 1.05389 (nodes removed 0 0)\n",
      "Info    : It. 446500 - 446500 nodes created - worst tet radius 1.05356 (nodes removed 0 0)\n",
      "Info    : It. 447000 - 447000 nodes created - worst tet radius 1.05319 (nodes removed 0 0)\n",
      "Info    : It. 447500 - 447500 nodes created - worst tet radius 1.05281 (nodes removed 0 0)\n",
      "Info    : It. 448000 - 448000 nodes created - worst tet radius 1.05243 (nodes removed 0 0)\n",
      "Info    : It. 448500 - 448500 nodes created - worst tet radius 1.05207 (nodes removed 0 0)\n",
      "Info    : It. 449000 - 449000 nodes created - worst tet radius 1.05171 (nodes removed 0 0)\n",
      "Info    : It. 449500 - 449500 nodes created - worst tet radius 1.05133 (nodes removed 0 0)\n",
      "Info    : It. 450000 - 450000 nodes created - worst tet radius 1.05098 (nodes removed 0 0)\n",
      "Info    : It. 450500 - 450500 nodes created - worst tet radius 1.05064 (nodes removed 0 0)\n",
      "Info    : It. 451000 - 451000 nodes created - worst tet radius 1.05026 (nodes removed 0 0)\n",
      "Info    : It. 451500 - 451500 nodes created - worst tet radius 1.04992 (nodes removed 0 0)\n",
      "Info    : It. 452000 - 452000 nodes created - worst tet radius 1.04954 (nodes removed 0 0)\n",
      "Info    : It. 452500 - 452500 nodes created - worst tet radius 1.0492 (nodes removed 0 0)\n",
      "Info    : It. 453000 - 453000 nodes created - worst tet radius 1.04883 (nodes removed 0 0)\n",
      "Info    : It. 453500 - 453500 nodes created - worst tet radius 1.04845 (nodes removed 0 0)\n",
      "Info    : It. 454000 - 454000 nodes created - worst tet radius 1.04806 (nodes removed 0 0)\n",
      "Info    : It. 454500 - 454500 nodes created - worst tet radius 1.04771 (nodes removed 0 0)\n",
      "Info    : It. 455000 - 455000 nodes created - worst tet radius 1.04738 (nodes removed 0 0)\n",
      "Info    : It. 455500 - 455500 nodes created - worst tet radius 1.04702 (nodes removed 0 0)\n",
      "Info    : It. 456000 - 456000 nodes created - worst tet radius 1.04665 (nodes removed 0 0)\n",
      "Info    : It. 456500 - 456500 nodes created - worst tet radius 1.04627 (nodes removed 0 0)\n",
      "Info    : It. 457000 - 457000 nodes created - worst tet radius 1.04591 (nodes removed 0 0)\n",
      "Info    : It. 457500 - 457500 nodes created - worst tet radius 1.04551 (nodes removed 0 0)\n",
      "Info    : It. 458000 - 458000 nodes created - worst tet radius 1.04513 (nodes removed 0 0)\n",
      "Info    : It. 458500 - 458500 nodes created - worst tet radius 1.04481 (nodes removed 0 0)\n",
      "Info    : It. 459000 - 459000 nodes created - worst tet radius 1.04446 (nodes removed 0 0)\n",
      "Info    : It. 459500 - 459500 nodes created - worst tet radius 1.04411 (nodes removed 0 0)\n",
      "Info    : It. 460000 - 460000 nodes created - worst tet radius 1.04374 (nodes removed 0 0)\n",
      "Info    : It. 460500 - 460500 nodes created - worst tet radius 1.04341 (nodes removed 0 0)\n",
      "Info    : It. 461000 - 461000 nodes created - worst tet radius 1.04304 (nodes removed 0 0)\n",
      "Info    : It. 461500 - 461500 nodes created - worst tet radius 1.04268 (nodes removed 0 0)\n",
      "Info    : It. 462000 - 462000 nodes created - worst tet radius 1.04231 (nodes removed 0 0)\n",
      "Info    : It. 462500 - 462500 nodes created - worst tet radius 1.04195 (nodes removed 0 0)\n",
      "Info    : It. 463000 - 463000 nodes created - worst tet radius 1.0416 (nodes removed 0 0)\n",
      "Info    : It. 463500 - 463500 nodes created - worst tet radius 1.04123 (nodes removed 0 0)\n",
      "Info    : It. 464000 - 464000 nodes created - worst tet radius 1.04091 (nodes removed 0 0)\n",
      "Info    : It. 464500 - 464500 nodes created - worst tet radius 1.04058 (nodes removed 0 0)\n",
      "Info    : It. 465000 - 465000 nodes created - worst tet radius 1.04019 (nodes removed 0 0)\n",
      "Info    : It. 465500 - 465500 nodes created - worst tet radius 1.03984 (nodes removed 0 0)\n",
      "Info    : It. 466000 - 466000 nodes created - worst tet radius 1.03948 (nodes removed 0 0)\n",
      "Info    : It. 466500 - 466500 nodes created - worst tet radius 1.03913 (nodes removed 0 0)\n",
      "Info    : It. 467000 - 467000 nodes created - worst tet radius 1.03878 (nodes removed 0 0)\n",
      "Info    : It. 467500 - 467500 nodes created - worst tet radius 1.03844 (nodes removed 0 0)\n",
      "Info    : It. 468000 - 468000 nodes created - worst tet radius 1.03812 (nodes removed 0 0)\n",
      "Info    : It. 468500 - 468500 nodes created - worst tet radius 1.03773 (nodes removed 0 0)\n",
      "Info    : It. 469000 - 469000 nodes created - worst tet radius 1.0374 (nodes removed 0 0)\n",
      "Info    : It. 469500 - 469500 nodes created - worst tet radius 1.03708 (nodes removed 0 0)\n",
      "Info    : It. 470000 - 470000 nodes created - worst tet radius 1.03675 (nodes removed 0 0)\n",
      "Info    : It. 470500 - 470500 nodes created - worst tet radius 1.03639 (nodes removed 0 0)\n",
      "Info    : It. 471000 - 471000 nodes created - worst tet radius 1.03604 (nodes removed 0 0)\n",
      "Info    : It. 471500 - 471500 nodes created - worst tet radius 1.03572 (nodes removed 0 0)\n",
      "Info    : It. 472000 - 472000 nodes created - worst tet radius 1.0354 (nodes removed 0 0)\n",
      "Info    : It. 472500 - 472500 nodes created - worst tet radius 1.03507 (nodes removed 0 0)\n",
      "Info    : It. 473000 - 473000 nodes created - worst tet radius 1.03471 (nodes removed 0 0)\n",
      "Info    : It. 473500 - 473500 nodes created - worst tet radius 1.03436 (nodes removed 0 0)\n",
      "Info    : It. 474000 - 474000 nodes created - worst tet radius 1.034 (nodes removed 0 0)\n",
      "Info    : It. 474500 - 474500 nodes created - worst tet radius 1.03366 (nodes removed 0 0)\n",
      "Info    : It. 475000 - 475000 nodes created - worst tet radius 1.03331 (nodes removed 0 0)\n",
      "Info    : It. 475500 - 475500 nodes created - worst tet radius 1.03298 (nodes removed 0 0)\n",
      "Info    : It. 476000 - 476000 nodes created - worst tet radius 1.0326 (nodes removed 0 0)\n",
      "Info    : It. 476500 - 476500 nodes created - worst tet radius 1.03226 (nodes removed 0 0)\n",
      "Info    : It. 477000 - 477000 nodes created - worst tet radius 1.03194 (nodes removed 0 0)\n",
      "Info    : It. 477500 - 477500 nodes created - worst tet radius 1.03161 (nodes removed 0 0)\n",
      "Info    : It. 478000 - 478000 nodes created - worst tet radius 1.0313 (nodes removed 0 0)\n",
      "Info    : It. 478500 - 478500 nodes created - worst tet radius 1.03097 (nodes removed 0 0)\n",
      "Info    : It. 479000 - 479000 nodes created - worst tet radius 1.03062 (nodes removed 0 0)\n",
      "Info    : It. 479500 - 479500 nodes created - worst tet radius 1.03027 (nodes removed 0 0)\n",
      "Info    : It. 480000 - 480000 nodes created - worst tet radius 1.0299 (nodes removed 0 0)\n",
      "Info    : It. 480500 - 480500 nodes created - worst tet radius 1.02958 (nodes removed 0 0)\n",
      "Info    : It. 481000 - 481000 nodes created - worst tet radius 1.02923 (nodes removed 0 0)\n",
      "Info    : It. 481500 - 481500 nodes created - worst tet radius 1.02889 (nodes removed 0 0)\n",
      "Info    : It. 482000 - 482000 nodes created - worst tet radius 1.02855 (nodes removed 0 0)\n",
      "Info    : It. 482500 - 482500 nodes created - worst tet radius 1.0282 (nodes removed 0 0)\n",
      "Info    : It. 483000 - 483000 nodes created - worst tet radius 1.02785 (nodes removed 0 0)\n",
      "Info    : It. 483500 - 483500 nodes created - worst tet radius 1.02754 (nodes removed 0 0)\n",
      "Info    : It. 484000 - 484000 nodes created - worst tet radius 1.02721 (nodes removed 0 0)\n",
      "Info    : It. 484500 - 484500 nodes created - worst tet radius 1.02688 (nodes removed 0 0)\n",
      "Info    : It. 485000 - 485000 nodes created - worst tet radius 1.02653 (nodes removed 0 0)\n",
      "Info    : It. 485500 - 485500 nodes created - worst tet radius 1.0262 (nodes removed 0 0)\n",
      "Info    : It. 486000 - 486000 nodes created - worst tet radius 1.02587 (nodes removed 0 0)\n",
      "Info    : It. 486500 - 486500 nodes created - worst tet radius 1.02548 (nodes removed 0 0)\n",
      "Info    : It. 487000 - 487000 nodes created - worst tet radius 1.02513 (nodes removed 0 0)\n",
      "Info    : It. 487500 - 487500 nodes created - worst tet radius 1.02481 (nodes removed 0 0)\n",
      "Info    : It. 488000 - 488000 nodes created - worst tet radius 1.02447 (nodes removed 0 0)\n",
      "Info    : It. 488500 - 488500 nodes created - worst tet radius 1.02413 (nodes removed 0 0)\n",
      "Info    : It. 489000 - 489000 nodes created - worst tet radius 1.02382 (nodes removed 0 0)\n",
      "Info    : It. 489500 - 489500 nodes created - worst tet radius 1.0235 (nodes removed 0 0)\n",
      "Info    : It. 490000 - 490000 nodes created - worst tet radius 1.02317 (nodes removed 0 0)\n",
      "Info    : It. 490500 - 490500 nodes created - worst tet radius 1.02284 (nodes removed 0 0)\n",
      "Info    : It. 491000 - 491000 nodes created - worst tet radius 1.02251 (nodes removed 0 0)\n",
      "Info    : It. 491500 - 491500 nodes created - worst tet radius 1.02216 (nodes removed 0 0)\n",
      "Info    : It. 492000 - 492000 nodes created - worst tet radius 1.02183 (nodes removed 0 0)\n",
      "Info    : It. 492500 - 492500 nodes created - worst tet radius 1.02152 (nodes removed 0 0)\n",
      "Info    : It. 493000 - 493000 nodes created - worst tet radius 1.0212 (nodes removed 0 0)\n",
      "Info    : It. 493500 - 493500 nodes created - worst tet radius 1.02088 (nodes removed 0 0)\n",
      "Info    : It. 494000 - 494000 nodes created - worst tet radius 1.02055 (nodes removed 0 0)\n",
      "Info    : It. 494500 - 494500 nodes created - worst tet radius 1.02023 (nodes removed 0 0)\n",
      "Info    : It. 495000 - 495000 nodes created - worst tet radius 1.01994 (nodes removed 0 0)\n",
      "Info    : It. 495500 - 495500 nodes created - worst tet radius 1.01964 (nodes removed 0 0)\n",
      "Info    : It. 496000 - 496000 nodes created - worst tet radius 1.0193 (nodes removed 0 0)\n",
      "Info    : It. 496500 - 496500 nodes created - worst tet radius 1.019 (nodes removed 0 0)\n",
      "Info    : It. 497000 - 497000 nodes created - worst tet radius 1.01868 (nodes removed 0 0)\n",
      "Info    : It. 497500 - 497500 nodes created - worst tet radius 1.01833 (nodes removed 0 0)\n",
      "Info    : It. 498000 - 498000 nodes created - worst tet radius 1.018 (nodes removed 0 0)\n",
      "Info    : It. 498500 - 498500 nodes created - worst tet radius 1.01769 (nodes removed 0 0)\n",
      "Info    : It. 499000 - 499000 nodes created - worst tet radius 1.01738 (nodes removed 0 0)\n",
      "Info    : It. 499500 - 499500 nodes created - worst tet radius 1.01709 (nodes removed 0 0)\n",
      "Info    : It. 500000 - 500000 nodes created - worst tet radius 1.01677 (nodes removed 0 0)\n",
      "Info    : It. 500500 - 500500 nodes created - worst tet radius 1.01647 (nodes removed 0 0)\n",
      "Info    : It. 501000 - 501000 nodes created - worst tet radius 1.01614 (nodes removed 0 0)\n",
      "Info    : It. 501500 - 501500 nodes created - worst tet radius 1.01582 (nodes removed 0 0)\n",
      "Info    : It. 502000 - 502000 nodes created - worst tet radius 1.01552 (nodes removed 0 0)\n",
      "Info    : It. 502500 - 502500 nodes created - worst tet radius 1.01522 (nodes removed 0 0)\n",
      "Info    : It. 503000 - 503000 nodes created - worst tet radius 1.01489 (nodes removed 0 0)\n",
      "Info    : It. 503500 - 503500 nodes created - worst tet radius 1.01456 (nodes removed 0 0)\n",
      "Info    : It. 504000 - 504000 nodes created - worst tet radius 1.01423 (nodes removed 0 0)\n",
      "Info    : It. 504500 - 504500 nodes created - worst tet radius 1.0139 (nodes removed 0 0)\n",
      "Info    : It. 505000 - 505000 nodes created - worst tet radius 1.01361 (nodes removed 0 0)\n",
      "Info    : It. 505500 - 505500 nodes created - worst tet radius 1.01332 (nodes removed 0 0)\n",
      "Info    : It. 506000 - 506000 nodes created - worst tet radius 1.01299 (nodes removed 0 0)\n",
      "Info    : It. 506500 - 506500 nodes created - worst tet radius 1.01266 (nodes removed 0 0)\n",
      "Info    : It. 507000 - 507000 nodes created - worst tet radius 1.01236 (nodes removed 0 0)\n",
      "Info    : It. 507500 - 507500 nodes created - worst tet radius 1.01206 (nodes removed 0 0)\n",
      "Info    : It. 508000 - 508000 nodes created - worst tet radius 1.01175 (nodes removed 0 0)\n",
      "Info    : It. 508500 - 508500 nodes created - worst tet radius 1.01144 (nodes removed 0 0)\n",
      "Info    : It. 509000 - 509000 nodes created - worst tet radius 1.01112 (nodes removed 0 0)\n",
      "Info    : It. 509500 - 509500 nodes created - worst tet radius 1.01082 (nodes removed 0 0)\n",
      "Info    : It. 510000 - 510000 nodes created - worst tet radius 1.01051 (nodes removed 0 0)\n",
      "Info    : It. 510500 - 510500 nodes created - worst tet radius 1.01018 (nodes removed 0 0)\n",
      "Info    : It. 511000 - 511000 nodes created - worst tet radius 1.00987 (nodes removed 0 0)\n",
      "Info    : It. 511500 - 511500 nodes created - worst tet radius 1.00957 (nodes removed 0 0)\n",
      "Info    : It. 512000 - 512000 nodes created - worst tet radius 1.00928 (nodes removed 0 0)\n",
      "Info    : It. 512500 - 512500 nodes created - worst tet radius 1.00899 (nodes removed 0 0)\n",
      "Info    : It. 513000 - 513000 nodes created - worst tet radius 1.00868 (nodes removed 0 0)\n",
      "Info    : It. 513500 - 513500 nodes created - worst tet radius 1.00836 (nodes removed 0 0)\n",
      "Info    : It. 514000 - 514000 nodes created - worst tet radius 1.00808 (nodes removed 0 0)\n",
      "Info    : It. 514500 - 514500 nodes created - worst tet radius 1.00776 (nodes removed 0 0)\n",
      "Info    : It. 515000 - 515000 nodes created - worst tet radius 1.00745 (nodes removed 0 0)\n",
      "Info    : It. 515500 - 515500 nodes created - worst tet radius 1.00713 (nodes removed 0 0)\n",
      "Info    : It. 516000 - 516000 nodes created - worst tet radius 1.00682 (nodes removed 0 0)\n",
      "Info    : It. 516500 - 516500 nodes created - worst tet radius 1.00652 (nodes removed 0 0)\n",
      "Info    : It. 517000 - 517000 nodes created - worst tet radius 1.0062 (nodes removed 0 0)\n",
      "Info    : It. 517500 - 517500 nodes created - worst tet radius 1.00588 (nodes removed 0 0)\n",
      "Info    : It. 518000 - 518000 nodes created - worst tet radius 1.00558 (nodes removed 0 0)\n",
      "Info    : It. 518500 - 518500 nodes created - worst tet radius 1.00529 (nodes removed 0 0)\n",
      "Info    : It. 519000 - 519000 nodes created - worst tet radius 1.005 (nodes removed 0 0)\n",
      "Info    : It. 519500 - 519500 nodes created - worst tet radius 1.0047 (nodes removed 0 0)\n",
      "Info    : It. 520000 - 520000 nodes created - worst tet radius 1.00441 (nodes removed 0 0)\n",
      "Info    : It. 520500 - 520500 nodes created - worst tet radius 1.0041 (nodes removed 0 0)\n",
      "Info    : It. 521000 - 521000 nodes created - worst tet radius 1.00377 (nodes removed 0 0)\n",
      "Info    : It. 521500 - 521500 nodes created - worst tet radius 1.00347 (nodes removed 0 0)\n",
      "Info    : It. 522000 - 522000 nodes created - worst tet radius 1.00317 (nodes removed 0 0)\n",
      "Info    : It. 522500 - 522500 nodes created - worst tet radius 1.00286 (nodes removed 0 0)\n",
      "Info    : It. 523000 - 523000 nodes created - worst tet radius 1.00257 (nodes removed 0 0)\n",
      "Info    : It. 523500 - 523500 nodes created - worst tet radius 1.00229 (nodes removed 0 0)\n",
      "Info    : It. 524000 - 524000 nodes created - worst tet radius 1.00196 (nodes removed 0 0)\n",
      "Info    : It. 524500 - 524500 nodes created - worst tet radius 1.00167 (nodes removed 0 0)\n",
      "Info    : It. 525000 - 525000 nodes created - worst tet radius 1.00136 (nodes removed 0 0)\n",
      "Info    : It. 525500 - 525500 nodes created - worst tet radius 1.00108 (nodes removed 0 0)\n",
      "Info    : It. 526000 - 526000 nodes created - worst tet radius 1.00077 (nodes removed 0 0)\n",
      "Info    : It. 526500 - 526500 nodes created - worst tet radius 1.00048 (nodes removed 0 0)\n",
      "Info    : It. 527000 - 527000 nodes created - worst tet radius 1.0002 (nodes removed 0 0)\n",
      "Info    : 3D refinement terminated (717724 nodes total):\n",
      "Info    :  - 0 Delaunay cavities modified for star shapeness\n",
      "Info    :  - 0 nodes could not be inserted\n",
      "Info    :  - 3961592 tetrahedra created in 37.0252 sec. (106997 tets/s)\n",
      "Info    : 0 node relocations\n",
      "Info    : Done meshing 3D (Wall 83.7932s, CPU 83.1256s)\n",
      "Info    : Optimizing mesh...\n",
      "Info    : Optimizing volume 1\n",
      "Info    : Optimization starts (volume = 202.053) with worst = 0.00124545 / average = 0.784048:\n",
      "Info    : 0.00 < quality < 0.10 :      8162 elements\n",
      "Info    : 0.10 < quality < 0.20 :     24335 elements\n",
      "Info    : 0.20 < quality < 0.30 :     43026 elements\n",
      "Info    : 0.30 < quality < 0.40 :     68172 elements\n",
      "Info    : 0.40 < quality < 0.50 :    105952 elements\n",
      "Info    : 0.50 < quality < 0.60 :    176891 elements\n",
      "Info    : 0.60 < quality < 0.70 :    362423 elements\n",
      "Info    : 0.70 < quality < 0.80 :    881241 elements\n",
      "Info    : 0.80 < quality < 0.90 :   1509937 elements\n",
      "Info    : 0.90 < quality < 1.00 :    781451 elements\n",
      "Info    : 74795 edge swaps, 2248 node relocations (volume = 202.053): worst = 0.0479194 / average = 0.795996 (Wall 1.64286s, CPU 1.63659s)\n",
      "Info    : 75329 edge swaps, 2288 node relocations (volume = 202.053): worst = 0.0495451 / average = 0.796057 (Wall 2.07597s, CPU 2.06866s)\n",
      "Info    : 75350 edge swaps, 2294 node relocations (volume = 202.053): worst = 0.0495451 / average = 0.796058 (Wall 2.49967s, CPU 2.49143s)\n",
      "Info    : No ill-shaped tets in the mesh :-)\n",
      "Info    : 0.00 < quality < 0.10 :         2 elements\n",
      "Info    : 0.10 < quality < 0.20 :        14 elements\n",
      "Info    : 0.20 < quality < 0.30 :        80 elements\n",
      "Info    : 0.30 < quality < 0.40 :     67843 elements\n",
      "Info    : 0.40 < quality < 0.50 :    102099 elements\n",
      "Info    : 0.50 < quality < 0.60 :    169692 elements\n",
      "Info    : 0.60 < quality < 0.70 :    361211 elements\n",
      "Info    : 0.70 < quality < 0.80 :    893804 elements\n",
      "Info    : 0.80 < quality < 0.90 :   1522549 elements\n",
      "Info    : 0.90 < quality < 1.00 :    777013 elements\n",
      "Info    : Done optimizing mesh (Wall 7.28801s, CPU 7.11319s)\n",
      "Info    : 717724 nodes 4279205 elements\n",
      "Info    : Writing 'Geometries/Cube_hole_order_1_0.062.msh'...\n",
      "Info    : Done writing 'Geometries/Cube_hole_order_1_0.062.msh'\n",
      "Info    : Stopped on Thu Apr 10 10:38:17 2025 (From start: Wall 104.183s, CPU 104.817s)\n",
      "\n",
      "************ MESH READING COMPLETE ************\n",
      "\n",
      " * Dimension of the problem: 3D\n",
      " * Elements type:            4-node tetrahedron\n",
      " * Number of Dofs:           2153172\n",
      "\n"
     ]
    },
    {
     "data": {
      "text/html": [
       "<pre style=\"white-space:pre;overflow-x:auto;line-height:normal;font-family:Menlo,'DejaVu Sans Mono',consolas,'Courier New',monospace\"><span style=\"color: #808000; text-decoration-color: #808000; font-weight: bold\">Warning:</span><span style=\"color: #808000; text-decoration-color: #808000\"> DOLFIN XML is a legacy format. Consider using XDMF instead.</span>\n",
       "</pre>\n"
      ],
      "text/plain": [
       "\u001b[1;33mWarning:\u001b[0m\u001b[33m DOLFIN XML is a legacy format. Consider using XDMF instead.\u001b[0m\n"
      ]
     },
     "metadata": {},
     "output_type": "display_data"
    },
    {
     "name": "stdout",
     "output_type": "stream",
     "text": [
      "\n"
     ]
    },
    {
     "data": {
      "text/html": [
       "<pre style=\"white-space:pre;overflow-x:auto;line-height:normal;font-family:Menlo,'DejaVu Sans Mono',consolas,'Courier New',monospace\"><span style=\"color: #808000; text-decoration-color: #808000; font-weight: bold\">Warning:</span><span style=\"color: #808000; text-decoration-color: #808000\"> DOLFIN XML is a legacy format. Consider using XDMF instead.</span>\n",
       "</pre>\n"
      ],
      "text/plain": [
       "\u001b[1;33mWarning:\u001b[0m\u001b[33m DOLFIN XML is a legacy format. Consider using XDMF instead.\u001b[0m\n"
      ]
     },
     "metadata": {},
     "output_type": "display_data"
    },
    {
     "name": "stdout",
     "output_type": "stream",
     "text": [
      "     Opimizer:  adam\n",
      " \n",
      " \n",
      "   _   _            ____   ___  __  __ \n",
      "  | \\ | | ___ _   _|  _ \\ / _ \\|  \\/  |\n",
      "  |  \\| |/ _ \\ | | | |_) | | | | |\\/| |\n",
      "  | |\\  |  __/ |_| |  _ <| |_| | |  | |\n",
      "  |_| \\_|\\___|\\__,_|_| \\_\\ ___/|_|  |_|\n",
      "\n",
      "                  2024.09.18\n",
      "\n",
      "************ MESH READING COMPLETE ************\n",
      "\n",
      " * Dimension of the problem: 3D\n",
      " * Elements type:            4-node tetrahedron\n",
      " * Number of Dofs:           2153172\n",
      "\n"
     ]
    },
    {
     "data": {
      "text/html": [
       "<pre style=\"white-space:pre;overflow-x:auto;line-height:normal;font-family:Menlo,'DejaVu Sans Mono',consolas,'Courier New',monospace\"><span style=\"color: #808000; text-decoration-color: #808000; font-weight: bold\">Warning:</span><span style=\"color: #808000; text-decoration-color: #808000\"> DOLFIN XML is a legacy format. Consider using XDMF instead.</span>\n",
       "</pre>\n"
      ],
      "text/plain": [
       "\u001b[1;33mWarning:\u001b[0m\u001b[33m DOLFIN XML is a legacy format. Consider using XDMF instead.\u001b[0m\n"
      ]
     },
     "metadata": {},
     "output_type": "display_data"
    },
    {
     "name": "stdout",
     "output_type": "stream",
     "text": [
      "\n"
     ]
    },
    {
     "data": {
      "text/html": [
       "<pre style=\"white-space:pre;overflow-x:auto;line-height:normal;font-family:Menlo,'DejaVu Sans Mono',consolas,'Courier New',monospace\"><span style=\"color: #808000; text-decoration-color: #808000; font-weight: bold\">Warning:</span><span style=\"color: #808000; text-decoration-color: #808000\"> DOLFIN XML is a legacy format. Consider using XDMF instead.</span>\n",
       "</pre>\n"
      ],
      "text/plain": [
       "\u001b[1;33mWarning:\u001b[0m\u001b[33m DOLFIN XML is a legacy format. Consider using XDMF instead.\u001b[0m\n"
      ]
     },
     "metadata": {},
     "output_type": "display_data"
    },
    {
     "name": "stdout",
     "output_type": "stream",
     "text": [
      "Experiment:  Experiment_2\n",
      "     Resolution :  1\n",
      "     Opimizer:  lbfgs\n",
      " \n",
      " \n",
      "   _   _            ____   ___  __  __ \n",
      "  | \\ | | ___ _   _|  _ \\ / _ \\|  \\/  |\n",
      "  |  \\| |/ _ \\ | | | |_) | | | | |\\/| |\n",
      "  | |\\  |  __/ |_| |  _ <| |_| | |  | |\n",
      "  |_| \\_|\\___|\\__,_|_| \\_\\ ___/|_|  |_|\n",
      "\n",
      "                  2024.09.18\n",
      "\n",
      "************ MESH READING COMPLETE ************\n",
      "\n",
      " * Dimension of the problem: 3D\n",
      " * Elements type:            4-node tetrahedron\n",
      " * Number of Dofs:           2403\n",
      "\n"
     ]
    },
    {
     "data": {
      "text/html": [
       "<pre style=\"white-space:pre;overflow-x:auto;line-height:normal;font-family:Menlo,'DejaVu Sans Mono',consolas,'Courier New',monospace\"><span style=\"color: #808000; text-decoration-color: #808000; font-weight: bold\">Warning:</span><span style=\"color: #808000; text-decoration-color: #808000\"> DOLFIN XML is a legacy format. Consider using XDMF instead.</span>\n",
       "</pre>\n"
      ],
      "text/plain": [
       "\u001b[1;33mWarning:\u001b[0m\u001b[33m DOLFIN XML is a legacy format. Consider using XDMF instead.\u001b[0m\n"
      ]
     },
     "metadata": {},
     "output_type": "display_data"
    },
    {
     "name": "stdout",
     "output_type": "stream",
     "text": [
      "\n"
     ]
    },
    {
     "data": {
      "text/html": [
       "<pre style=\"white-space:pre;overflow-x:auto;line-height:normal;font-family:Menlo,'DejaVu Sans Mono',consolas,'Courier New',monospace\"><span style=\"color: #808000; text-decoration-color: #808000; font-weight: bold\">Warning:</span><span style=\"color: #808000; text-decoration-color: #808000\"> DOLFIN XML is a legacy format. Consider using XDMF instead.</span>\n",
       "</pre>\n"
      ],
      "text/plain": [
       "\u001b[1;33mWarning:\u001b[0m\u001b[33m DOLFIN XML is a legacy format. Consider using XDMF instead.\u001b[0m\n"
      ]
     },
     "metadata": {},
     "output_type": "display_data"
    },
    {
     "name": "stdout",
     "output_type": "stream",
     "text": [
      "     Opimizer:  adam\n",
      " \n",
      " \n",
      "   _   _            ____   ___  __  __ \n",
      "  | \\ | | ___ _   _|  _ \\ / _ \\|  \\/  |\n",
      "  |  \\| |/ _ \\ | | | |_) | | | | |\\/| |\n",
      "  | |\\  |  __/ |_| |  _ <| |_| | |  | |\n",
      "  |_| \\_|\\___|\\__,_|_| \\_\\ ___/|_|  |_|\n",
      "\n",
      "                  2024.09.18\n",
      "\n",
      "************ MESH READING COMPLETE ************\n",
      "\n",
      " * Dimension of the problem: 3D\n",
      " * Elements type:            4-node tetrahedron\n",
      " * Number of Dofs:           2403\n",
      "\n"
     ]
    },
    {
     "data": {
      "text/html": [
       "<pre style=\"white-space:pre;overflow-x:auto;line-height:normal;font-family:Menlo,'DejaVu Sans Mono',consolas,'Courier New',monospace\"><span style=\"color: #808000; text-decoration-color: #808000; font-weight: bold\">Warning:</span><span style=\"color: #808000; text-decoration-color: #808000\"> DOLFIN XML is a legacy format. Consider using XDMF instead.</span>\n",
       "</pre>\n"
      ],
      "text/plain": [
       "\u001b[1;33mWarning:\u001b[0m\u001b[33m DOLFIN XML is a legacy format. Consider using XDMF instead.\u001b[0m\n"
      ]
     },
     "metadata": {},
     "output_type": "display_data"
    },
    {
     "name": "stdout",
     "output_type": "stream",
     "text": [
      "\n"
     ]
    },
    {
     "data": {
      "text/html": [
       "<pre style=\"white-space:pre;overflow-x:auto;line-height:normal;font-family:Menlo,'DejaVu Sans Mono',consolas,'Courier New',monospace\"><span style=\"color: #808000; text-decoration-color: #808000; font-weight: bold\">Warning:</span><span style=\"color: #808000; text-decoration-color: #808000\"> DOLFIN XML is a legacy format. Consider using XDMF instead.</span>\n",
       "</pre>\n"
      ],
      "text/plain": [
       "\u001b[1;33mWarning:\u001b[0m\u001b[33m DOLFIN XML is a legacy format. Consider using XDMF instead.\u001b[0m\n"
      ]
     },
     "metadata": {},
     "output_type": "display_data"
    },
    {
     "name": "stdout",
     "output_type": "stream",
     "text": [
      "     Resolution :  0.5\n",
      "     Opimizer:  lbfgs\n",
      " \n",
      " \n",
      "   _   _            ____   ___  __  __ \n",
      "  | \\ | | ___ _   _|  _ \\ / _ \\|  \\/  |\n",
      "  |  \\| |/ _ \\ | | | |_) | | | | |\\/| |\n",
      "  | |\\  |  __/ |_| |  _ <| |_| | |  | |\n",
      "  |_| \\_|\\___|\\__,_|_| \\_\\ ___/|_|  |_|\n",
      "\n",
      "                  2024.09.18\n",
      "\n",
      "************ MESH READING COMPLETE ************\n",
      "\n",
      " * Dimension of the problem: 3D\n",
      " * Elements type:            4-node tetrahedron\n",
      " * Number of Dofs:           10011\n",
      "\n"
     ]
    },
    {
     "data": {
      "text/html": [
       "<pre style=\"white-space:pre;overflow-x:auto;line-height:normal;font-family:Menlo,'DejaVu Sans Mono',consolas,'Courier New',monospace\"><span style=\"color: #808000; text-decoration-color: #808000; font-weight: bold\">Warning:</span><span style=\"color: #808000; text-decoration-color: #808000\"> DOLFIN XML is a legacy format. Consider using XDMF instead.</span>\n",
       "</pre>\n"
      ],
      "text/plain": [
       "\u001b[1;33mWarning:\u001b[0m\u001b[33m DOLFIN XML is a legacy format. Consider using XDMF instead.\u001b[0m\n"
      ]
     },
     "metadata": {},
     "output_type": "display_data"
    },
    {
     "name": "stdout",
     "output_type": "stream",
     "text": [
      "\n"
     ]
    },
    {
     "data": {
      "text/html": [
       "<pre style=\"white-space:pre;overflow-x:auto;line-height:normal;font-family:Menlo,'DejaVu Sans Mono',consolas,'Courier New',monospace\"><span style=\"color: #808000; text-decoration-color: #808000; font-weight: bold\">Warning:</span><span style=\"color: #808000; text-decoration-color: #808000\"> DOLFIN XML is a legacy format. Consider using XDMF instead.</span>\n",
       "</pre>\n"
      ],
      "text/plain": [
       "\u001b[1;33mWarning:\u001b[0m\u001b[33m DOLFIN XML is a legacy format. Consider using XDMF instead.\u001b[0m\n"
      ]
     },
     "metadata": {},
     "output_type": "display_data"
    },
    {
     "name": "stdout",
     "output_type": "stream",
     "text": [
      "     Opimizer:  adam\n",
      " \n",
      " \n",
      "   _   _            ____   ___  __  __ \n",
      "  | \\ | | ___ _   _|  _ \\ / _ \\|  \\/  |\n",
      "  |  \\| |/ _ \\ | | | |_) | | | | |\\/| |\n",
      "  | |\\  |  __/ |_| |  _ <| |_| | |  | |\n",
      "  |_| \\_|\\___|\\__,_|_| \\_\\ ___/|_|  |_|\n",
      "\n",
      "                  2024.09.18\n",
      "\n",
      "************ MESH READING COMPLETE ************\n",
      "\n",
      " * Dimension of the problem: 3D\n",
      " * Elements type:            4-node tetrahedron\n",
      " * Number of Dofs:           10011\n",
      "\n"
     ]
    },
    {
     "data": {
      "text/html": [
       "<pre style=\"white-space:pre;overflow-x:auto;line-height:normal;font-family:Menlo,'DejaVu Sans Mono',consolas,'Courier New',monospace\"><span style=\"color: #808000; text-decoration-color: #808000; font-weight: bold\">Warning:</span><span style=\"color: #808000; text-decoration-color: #808000\"> DOLFIN XML is a legacy format. Consider using XDMF instead.</span>\n",
       "</pre>\n"
      ],
      "text/plain": [
       "\u001b[1;33mWarning:\u001b[0m\u001b[33m DOLFIN XML is a legacy format. Consider using XDMF instead.\u001b[0m\n"
      ]
     },
     "metadata": {},
     "output_type": "display_data"
    },
    {
     "name": "stdout",
     "output_type": "stream",
     "text": [
      "\n"
     ]
    },
    {
     "data": {
      "text/html": [
       "<pre style=\"white-space:pre;overflow-x:auto;line-height:normal;font-family:Menlo,'DejaVu Sans Mono',consolas,'Courier New',monospace\"><span style=\"color: #808000; text-decoration-color: #808000; font-weight: bold\">Warning:</span><span style=\"color: #808000; text-decoration-color: #808000\"> DOLFIN XML is a legacy format. Consider using XDMF instead.</span>\n",
       "</pre>\n"
      ],
      "text/plain": [
       "\u001b[1;33mWarning:\u001b[0m\u001b[33m DOLFIN XML is a legacy format. Consider using XDMF instead.\u001b[0m\n"
      ]
     },
     "metadata": {},
     "output_type": "display_data"
    },
    {
     "name": "stdout",
     "output_type": "stream",
     "text": [
      "     Resolution :  0.25\n",
      "     Opimizer:  lbfgs\n",
      " \n",
      " \n",
      "   _   _            ____   ___  __  __ \n",
      "  | \\ | | ___ _   _|  _ \\ / _ \\|  \\/  |\n",
      "  |  \\| |/ _ \\ | | | |_) | | | | |\\/| |\n",
      "  | |\\  |  __/ |_| |  _ <| |_| | |  | |\n",
      "  |_| \\_|\\___|\\__,_|_| \\_\\ ___/|_|  |_|\n",
      "\n",
      "                  2024.09.18\n",
      "\n",
      "************ MESH READING COMPLETE ************\n",
      "\n",
      " * Dimension of the problem: 3D\n",
      " * Elements type:            4-node tetrahedron\n",
      " * Number of Dofs:           52137\n",
      "\n"
     ]
    },
    {
     "data": {
      "text/html": [
       "<pre style=\"white-space:pre;overflow-x:auto;line-height:normal;font-family:Menlo,'DejaVu Sans Mono',consolas,'Courier New',monospace\"><span style=\"color: #808000; text-decoration-color: #808000; font-weight: bold\">Warning:</span><span style=\"color: #808000; text-decoration-color: #808000\"> DOLFIN XML is a legacy format. Consider using XDMF instead.</span>\n",
       "</pre>\n"
      ],
      "text/plain": [
       "\u001b[1;33mWarning:\u001b[0m\u001b[33m DOLFIN XML is a legacy format. Consider using XDMF instead.\u001b[0m\n"
      ]
     },
     "metadata": {},
     "output_type": "display_data"
    },
    {
     "name": "stdout",
     "output_type": "stream",
     "text": [
      "\n"
     ]
    },
    {
     "data": {
      "text/html": [
       "<pre style=\"white-space:pre;overflow-x:auto;line-height:normal;font-family:Menlo,'DejaVu Sans Mono',consolas,'Courier New',monospace\"><span style=\"color: #808000; text-decoration-color: #808000; font-weight: bold\">Warning:</span><span style=\"color: #808000; text-decoration-color: #808000\"> DOLFIN XML is a legacy format. Consider using XDMF instead.</span>\n",
       "</pre>\n"
      ],
      "text/plain": [
       "\u001b[1;33mWarning:\u001b[0m\u001b[33m DOLFIN XML is a legacy format. Consider using XDMF instead.\u001b[0m\n"
      ]
     },
     "metadata": {},
     "output_type": "display_data"
    },
    {
     "name": "stdout",
     "output_type": "stream",
     "text": [
      "     Opimizer:  adam\n",
      " \n",
      " \n",
      "   _   _            ____   ___  __  __ \n",
      "  | \\ | | ___ _   _|  _ \\ / _ \\|  \\/  |\n",
      "  |  \\| |/ _ \\ | | | |_) | | | | |\\/| |\n",
      "  | |\\  |  __/ |_| |  _ <| |_| | |  | |\n",
      "  |_| \\_|\\___|\\__,_|_| \\_\\ ___/|_|  |_|\n",
      "\n",
      "                  2024.09.18\n",
      "\n",
      "************ MESH READING COMPLETE ************\n",
      "\n",
      " * Dimension of the problem: 3D\n",
      " * Elements type:            4-node tetrahedron\n",
      " * Number of Dofs:           52137\n",
      "\n"
     ]
    },
    {
     "data": {
      "text/html": [
       "<pre style=\"white-space:pre;overflow-x:auto;line-height:normal;font-family:Menlo,'DejaVu Sans Mono',consolas,'Courier New',monospace\"><span style=\"color: #808000; text-decoration-color: #808000; font-weight: bold\">Warning:</span><span style=\"color: #808000; text-decoration-color: #808000\"> DOLFIN XML is a legacy format. Consider using XDMF instead.</span>\n",
       "</pre>\n"
      ],
      "text/plain": [
       "\u001b[1;33mWarning:\u001b[0m\u001b[33m DOLFIN XML is a legacy format. Consider using XDMF instead.\u001b[0m\n"
      ]
     },
     "metadata": {},
     "output_type": "display_data"
    },
    {
     "name": "stdout",
     "output_type": "stream",
     "text": [
      "\n"
     ]
    },
    {
     "data": {
      "text/html": [
       "<pre style=\"white-space:pre;overflow-x:auto;line-height:normal;font-family:Menlo,'DejaVu Sans Mono',consolas,'Courier New',monospace\"><span style=\"color: #808000; text-decoration-color: #808000; font-weight: bold\">Warning:</span><span style=\"color: #808000; text-decoration-color: #808000\"> DOLFIN XML is a legacy format. Consider using XDMF instead.</span>\n",
       "</pre>\n"
      ],
      "text/plain": [
       "\u001b[1;33mWarning:\u001b[0m\u001b[33m DOLFIN XML is a legacy format. Consider using XDMF instead.\u001b[0m\n"
      ]
     },
     "metadata": {},
     "output_type": "display_data"
    },
    {
     "name": "stdout",
     "output_type": "stream",
     "text": [
      "     Resolution :  0.125\n",
      "     Opimizer:  lbfgs\n",
      " \n",
      " \n",
      "   _   _            ____   ___  __  __ \n",
      "  | \\ | | ___ _   _|  _ \\ / _ \\|  \\/  |\n",
      "  |  \\| |/ _ \\ | | | |_) | | | | |\\/| |\n",
      "  | |\\  |  __/ |_| |  _ <| |_| | |  | |\n",
      "  |_| \\_|\\___|\\__,_|_| \\_\\ ___/|_|  |_|\n",
      "\n",
      "                  2024.09.18\n",
      "\n",
      "************ MESH READING COMPLETE ************\n",
      "\n",
      " * Dimension of the problem: 3D\n",
      " * Elements type:            4-node tetrahedron\n",
      " * Number of Dofs:           310770\n",
      "\n"
     ]
    },
    {
     "data": {
      "text/html": [
       "<pre style=\"white-space:pre;overflow-x:auto;line-height:normal;font-family:Menlo,'DejaVu Sans Mono',consolas,'Courier New',monospace\"><span style=\"color: #808000; text-decoration-color: #808000; font-weight: bold\">Warning:</span><span style=\"color: #808000; text-decoration-color: #808000\"> DOLFIN XML is a legacy format. Consider using XDMF instead.</span>\n",
       "</pre>\n"
      ],
      "text/plain": [
       "\u001b[1;33mWarning:\u001b[0m\u001b[33m DOLFIN XML is a legacy format. Consider using XDMF instead.\u001b[0m\n"
      ]
     },
     "metadata": {},
     "output_type": "display_data"
    },
    {
     "name": "stdout",
     "output_type": "stream",
     "text": [
      "\n"
     ]
    },
    {
     "data": {
      "text/html": [
       "<pre style=\"white-space:pre;overflow-x:auto;line-height:normal;font-family:Menlo,'DejaVu Sans Mono',consolas,'Courier New',monospace\"><span style=\"color: #808000; text-decoration-color: #808000; font-weight: bold\">Warning:</span><span style=\"color: #808000; text-decoration-color: #808000\"> DOLFIN XML is a legacy format. Consider using XDMF instead.</span>\n",
       "</pre>\n"
      ],
      "text/plain": [
       "\u001b[1;33mWarning:\u001b[0m\u001b[33m DOLFIN XML is a legacy format. Consider using XDMF instead.\u001b[0m\n"
      ]
     },
     "metadata": {},
     "output_type": "display_data"
    },
    {
     "name": "stdout",
     "output_type": "stream",
     "text": [
      "     Opimizer:  adam\n",
      " \n",
      " \n",
      "   _   _            ____   ___  __  __ \n",
      "  | \\ | | ___ _   _|  _ \\ / _ \\|  \\/  |\n",
      "  |  \\| |/ _ \\ | | | |_) | | | | |\\/| |\n",
      "  | |\\  |  __/ |_| |  _ <| |_| | |  | |\n",
      "  |_| \\_|\\___|\\__,_|_| \\_\\ ___/|_|  |_|\n",
      "\n",
      "                  2024.09.18\n",
      "\n",
      "************ MESH READING COMPLETE ************\n",
      "\n",
      " * Dimension of the problem: 3D\n",
      " * Elements type:            4-node tetrahedron\n",
      " * Number of Dofs:           310770\n",
      "\n"
     ]
    },
    {
     "data": {
      "text/html": [
       "<pre style=\"white-space:pre;overflow-x:auto;line-height:normal;font-family:Menlo,'DejaVu Sans Mono',consolas,'Courier New',monospace\"><span style=\"color: #808000; text-decoration-color: #808000; font-weight: bold\">Warning:</span><span style=\"color: #808000; text-decoration-color: #808000\"> DOLFIN XML is a legacy format. Consider using XDMF instead.</span>\n",
       "</pre>\n"
      ],
      "text/plain": [
       "\u001b[1;33mWarning:\u001b[0m\u001b[33m DOLFIN XML is a legacy format. Consider using XDMF instead.\u001b[0m\n"
      ]
     },
     "metadata": {},
     "output_type": "display_data"
    },
    {
     "name": "stdout",
     "output_type": "stream",
     "text": [
      "\n"
     ]
    },
    {
     "data": {
      "text/html": [
       "<pre style=\"white-space:pre;overflow-x:auto;line-height:normal;font-family:Menlo,'DejaVu Sans Mono',consolas,'Courier New',monospace\"><span style=\"color: #808000; text-decoration-color: #808000; font-weight: bold\">Warning:</span><span style=\"color: #808000; text-decoration-color: #808000\"> DOLFIN XML is a legacy format. Consider using XDMF instead.</span>\n",
       "</pre>\n"
      ],
      "text/plain": [
       "\u001b[1;33mWarning:\u001b[0m\u001b[33m DOLFIN XML is a legacy format. Consider using XDMF instead.\u001b[0m\n"
      ]
     },
     "metadata": {},
     "output_type": "display_data"
    },
    {
     "name": "stdout",
     "output_type": "stream",
     "text": [
      "     Resolution :  0.0625\n",
      "     Opimizer:  lbfgs\n",
      " \n",
      " \n",
      "   _   _            ____   ___  __  __ \n",
      "  | \\ | | ___ _   _|  _ \\ / _ \\|  \\/  |\n",
      "  |  \\| |/ _ \\ | | | |_) | | | | |\\/| |\n",
      "  | |\\  |  __/ |_| |  _ <| |_| | |  | |\n",
      "  |_| \\_|\\___|\\__,_|_| \\_\\ ___/|_|  |_|\n",
      "\n",
      "                  2024.09.18\n",
      "\n",
      "************ MESH READING COMPLETE ************\n",
      "\n",
      " * Dimension of the problem: 3D\n",
      " * Elements type:            4-node tetrahedron\n",
      " * Number of Dofs:           2153172\n",
      "\n"
     ]
    },
    {
     "data": {
      "text/html": [
       "<pre style=\"white-space:pre;overflow-x:auto;line-height:normal;font-family:Menlo,'DejaVu Sans Mono',consolas,'Courier New',monospace\"><span style=\"color: #808000; text-decoration-color: #808000; font-weight: bold\">Warning:</span><span style=\"color: #808000; text-decoration-color: #808000\"> DOLFIN XML is a legacy format. Consider using XDMF instead.</span>\n",
       "</pre>\n"
      ],
      "text/plain": [
       "\u001b[1;33mWarning:\u001b[0m\u001b[33m DOLFIN XML is a legacy format. Consider using XDMF instead.\u001b[0m\n"
      ]
     },
     "metadata": {},
     "output_type": "display_data"
    },
    {
     "name": "stdout",
     "output_type": "stream",
     "text": [
      "\n"
     ]
    },
    {
     "data": {
      "text/html": [
       "<pre style=\"white-space:pre;overflow-x:auto;line-height:normal;font-family:Menlo,'DejaVu Sans Mono',consolas,'Courier New',monospace\"><span style=\"color: #808000; text-decoration-color: #808000; font-weight: bold\">Warning:</span><span style=\"color: #808000; text-decoration-color: #808000\"> DOLFIN XML is a legacy format. Consider using XDMF instead.</span>\n",
       "</pre>\n"
      ],
      "text/plain": [
       "\u001b[1;33mWarning:\u001b[0m\u001b[33m DOLFIN XML is a legacy format. Consider using XDMF instead.\u001b[0m\n"
      ]
     },
     "metadata": {},
     "output_type": "display_data"
    },
    {
     "name": "stdout",
     "output_type": "stream",
     "text": [
      "     Opimizer:  adam\n",
      " \n",
      " \n",
      "   _   _            ____   ___  __  __ \n",
      "  | \\ | | ___ _   _|  _ \\ / _ \\|  \\/  |\n",
      "  |  \\| |/ _ \\ | | | |_) | | | | |\\/| |\n",
      "  | |\\  |  __/ |_| |  _ <| |_| | |  | |\n",
      "  |_| \\_|\\___|\\__,_|_| \\_\\ ___/|_|  |_|\n",
      "\n",
      "                  2024.09.18\n",
      "\n",
      "************ MESH READING COMPLETE ************\n",
      "\n",
      " * Dimension of the problem: 3D\n",
      " * Elements type:            4-node tetrahedron\n",
      " * Number of Dofs:           2153172\n",
      "\n"
     ]
    },
    {
     "data": {
      "text/html": [
       "<pre style=\"white-space:pre;overflow-x:auto;line-height:normal;font-family:Menlo,'DejaVu Sans Mono',consolas,'Courier New',monospace\"><span style=\"color: #808000; text-decoration-color: #808000; font-weight: bold\">Warning:</span><span style=\"color: #808000; text-decoration-color: #808000\"> DOLFIN XML is a legacy format. Consider using XDMF instead.</span>\n",
       "</pre>\n"
      ],
      "text/plain": [
       "\u001b[1;33mWarning:\u001b[0m\u001b[33m DOLFIN XML is a legacy format. Consider using XDMF instead.\u001b[0m\n"
      ]
     },
     "metadata": {},
     "output_type": "display_data"
    },
    {
     "name": "stdout",
     "output_type": "stream",
     "text": [
      "\n"
     ]
    },
    {
     "data": {
      "text/html": [
       "<pre style=\"white-space:pre;overflow-x:auto;line-height:normal;font-family:Menlo,'DejaVu Sans Mono',consolas,'Courier New',monospace\"><span style=\"color: #808000; text-decoration-color: #808000; font-weight: bold\">Warning:</span><span style=\"color: #808000; text-decoration-color: #808000\"> DOLFIN XML is a legacy format. Consider using XDMF instead.</span>\n",
       "</pre>\n"
      ],
      "text/plain": [
       "\u001b[1;33mWarning:\u001b[0m\u001b[33m DOLFIN XML is a legacy format. Consider using XDMF instead.\u001b[0m\n"
      ]
     },
     "metadata": {},
     "output_type": "display_data"
    },
    {
     "name": "stdout",
     "output_type": "stream",
     "text": [
      "Experiment:  Experiment_3\n",
      "     Resolution :  1\n",
      "     Opimizer:  lbfgs\n",
      " \n",
      " \n",
      "   _   _            ____   ___  __  __ \n",
      "  | \\ | | ___ _   _|  _ \\ / _ \\|  \\/  |\n",
      "  |  \\| |/ _ \\ | | | |_) | | | | |\\/| |\n",
      "  | |\\  |  __/ |_| |  _ <| |_| | |  | |\n",
      "  |_| \\_|\\___|\\__,_|_| \\_\\ ___/|_|  |_|\n",
      "\n",
      "                  2024.09.18\n",
      "\n",
      "************ MESH READING COMPLETE ************\n",
      "\n",
      " * Dimension of the problem: 3D\n",
      " * Elements type:            4-node tetrahedron\n",
      " * Number of Dofs:           2403\n",
      "\n"
     ]
    },
    {
     "data": {
      "text/html": [
       "<pre style=\"white-space:pre;overflow-x:auto;line-height:normal;font-family:Menlo,'DejaVu Sans Mono',consolas,'Courier New',monospace\"><span style=\"color: #808000; text-decoration-color: #808000; font-weight: bold\">Warning:</span><span style=\"color: #808000; text-decoration-color: #808000\"> DOLFIN XML is a legacy format. Consider using XDMF instead.</span>\n",
       "</pre>\n"
      ],
      "text/plain": [
       "\u001b[1;33mWarning:\u001b[0m\u001b[33m DOLFIN XML is a legacy format. Consider using XDMF instead.\u001b[0m\n"
      ]
     },
     "metadata": {},
     "output_type": "display_data"
    },
    {
     "name": "stdout",
     "output_type": "stream",
     "text": [
      "\n"
     ]
    },
    {
     "data": {
      "text/html": [
       "<pre style=\"white-space:pre;overflow-x:auto;line-height:normal;font-family:Menlo,'DejaVu Sans Mono',consolas,'Courier New',monospace\"><span style=\"color: #808000; text-decoration-color: #808000; font-weight: bold\">Warning:</span><span style=\"color: #808000; text-decoration-color: #808000\"> DOLFIN XML is a legacy format. Consider using XDMF instead.</span>\n",
       "</pre>\n"
      ],
      "text/plain": [
       "\u001b[1;33mWarning:\u001b[0m\u001b[33m DOLFIN XML is a legacy format. Consider using XDMF instead.\u001b[0m\n"
      ]
     },
     "metadata": {},
     "output_type": "display_data"
    },
    {
     "name": "stdout",
     "output_type": "stream",
     "text": [
      "     Opimizer:  adam\n",
      " \n",
      " \n",
      "   _   _            ____   ___  __  __ \n",
      "  | \\ | | ___ _   _|  _ \\ / _ \\|  \\/  |\n",
      "  |  \\| |/ _ \\ | | | |_) | | | | |\\/| |\n",
      "  | |\\  |  __/ |_| |  _ <| |_| | |  | |\n",
      "  |_| \\_|\\___|\\__,_|_| \\_\\ ___/|_|  |_|\n",
      "\n",
      "                  2024.09.18\n",
      "\n",
      "************ MESH READING COMPLETE ************\n",
      "\n",
      " * Dimension of the problem: 3D\n",
      " * Elements type:            4-node tetrahedron\n",
      " * Number of Dofs:           2403\n",
      "\n"
     ]
    },
    {
     "data": {
      "text/html": [
       "<pre style=\"white-space:pre;overflow-x:auto;line-height:normal;font-family:Menlo,'DejaVu Sans Mono',consolas,'Courier New',monospace\"><span style=\"color: #808000; text-decoration-color: #808000; font-weight: bold\">Warning:</span><span style=\"color: #808000; text-decoration-color: #808000\"> DOLFIN XML is a legacy format. Consider using XDMF instead.</span>\n",
       "</pre>\n"
      ],
      "text/plain": [
       "\u001b[1;33mWarning:\u001b[0m\u001b[33m DOLFIN XML is a legacy format. Consider using XDMF instead.\u001b[0m\n"
      ]
     },
     "metadata": {},
     "output_type": "display_data"
    },
    {
     "name": "stdout",
     "output_type": "stream",
     "text": [
      "\n"
     ]
    },
    {
     "data": {
      "text/html": [
       "<pre style=\"white-space:pre;overflow-x:auto;line-height:normal;font-family:Menlo,'DejaVu Sans Mono',consolas,'Courier New',monospace\"><span style=\"color: #808000; text-decoration-color: #808000; font-weight: bold\">Warning:</span><span style=\"color: #808000; text-decoration-color: #808000\"> DOLFIN XML is a legacy format. Consider using XDMF instead.</span>\n",
       "</pre>\n"
      ],
      "text/plain": [
       "\u001b[1;33mWarning:\u001b[0m\u001b[33m DOLFIN XML is a legacy format. Consider using XDMF instead.\u001b[0m\n"
      ]
     },
     "metadata": {},
     "output_type": "display_data"
    },
    {
     "name": "stdout",
     "output_type": "stream",
     "text": [
      "     Resolution :  0.5\n",
      "     Opimizer:  lbfgs\n",
      " \n",
      " \n",
      "   _   _            ____   ___  __  __ \n",
      "  | \\ | | ___ _   _|  _ \\ / _ \\|  \\/  |\n",
      "  |  \\| |/ _ \\ | | | |_) | | | | |\\/| |\n",
      "  | |\\  |  __/ |_| |  _ <| |_| | |  | |\n",
      "  |_| \\_|\\___|\\__,_|_| \\_\\ ___/|_|  |_|\n",
      "\n",
      "                  2024.09.18\n",
      "\n",
      "************ MESH READING COMPLETE ************\n",
      "\n",
      " * Dimension of the problem: 3D\n",
      " * Elements type:            4-node tetrahedron\n",
      " * Number of Dofs:           10011\n",
      "\n"
     ]
    },
    {
     "data": {
      "text/html": [
       "<pre style=\"white-space:pre;overflow-x:auto;line-height:normal;font-family:Menlo,'DejaVu Sans Mono',consolas,'Courier New',monospace\"><span style=\"color: #808000; text-decoration-color: #808000; font-weight: bold\">Warning:</span><span style=\"color: #808000; text-decoration-color: #808000\"> DOLFIN XML is a legacy format. Consider using XDMF instead.</span>\n",
       "</pre>\n"
      ],
      "text/plain": [
       "\u001b[1;33mWarning:\u001b[0m\u001b[33m DOLFIN XML is a legacy format. Consider using XDMF instead.\u001b[0m\n"
      ]
     },
     "metadata": {},
     "output_type": "display_data"
    },
    {
     "name": "stdout",
     "output_type": "stream",
     "text": [
      "\n"
     ]
    },
    {
     "data": {
      "text/html": [
       "<pre style=\"white-space:pre;overflow-x:auto;line-height:normal;font-family:Menlo,'DejaVu Sans Mono',consolas,'Courier New',monospace\"><span style=\"color: #808000; text-decoration-color: #808000; font-weight: bold\">Warning:</span><span style=\"color: #808000; text-decoration-color: #808000\"> DOLFIN XML is a legacy format. Consider using XDMF instead.</span>\n",
       "</pre>\n"
      ],
      "text/plain": [
       "\u001b[1;33mWarning:\u001b[0m\u001b[33m DOLFIN XML is a legacy format. Consider using XDMF instead.\u001b[0m\n"
      ]
     },
     "metadata": {},
     "output_type": "display_data"
    },
    {
     "name": "stdout",
     "output_type": "stream",
     "text": [
      "     Opimizer:  adam\n",
      " \n",
      " \n",
      "   _   _            ____   ___  __  __ \n",
      "  | \\ | | ___ _   _|  _ \\ / _ \\|  \\/  |\n",
      "  |  \\| |/ _ \\ | | | |_) | | | | |\\/| |\n",
      "  | |\\  |  __/ |_| |  _ <| |_| | |  | |\n",
      "  |_| \\_|\\___|\\__,_|_| \\_\\ ___/|_|  |_|\n",
      "\n",
      "                  2024.09.18\n",
      "\n",
      "************ MESH READING COMPLETE ************\n",
      "\n",
      " * Dimension of the problem: 3D\n",
      " * Elements type:            4-node tetrahedron\n",
      " * Number of Dofs:           10011\n",
      "\n"
     ]
    },
    {
     "data": {
      "text/html": [
       "<pre style=\"white-space:pre;overflow-x:auto;line-height:normal;font-family:Menlo,'DejaVu Sans Mono',consolas,'Courier New',monospace\"><span style=\"color: #808000; text-decoration-color: #808000; font-weight: bold\">Warning:</span><span style=\"color: #808000; text-decoration-color: #808000\"> DOLFIN XML is a legacy format. Consider using XDMF instead.</span>\n",
       "</pre>\n"
      ],
      "text/plain": [
       "\u001b[1;33mWarning:\u001b[0m\u001b[33m DOLFIN XML is a legacy format. Consider using XDMF instead.\u001b[0m\n"
      ]
     },
     "metadata": {},
     "output_type": "display_data"
    },
    {
     "name": "stdout",
     "output_type": "stream",
     "text": [
      "\n"
     ]
    },
    {
     "data": {
      "text/html": [
       "<pre style=\"white-space:pre;overflow-x:auto;line-height:normal;font-family:Menlo,'DejaVu Sans Mono',consolas,'Courier New',monospace\"><span style=\"color: #808000; text-decoration-color: #808000; font-weight: bold\">Warning:</span><span style=\"color: #808000; text-decoration-color: #808000\"> DOLFIN XML is a legacy format. Consider using XDMF instead.</span>\n",
       "</pre>\n"
      ],
      "text/plain": [
       "\u001b[1;33mWarning:\u001b[0m\u001b[33m DOLFIN XML is a legacy format. Consider using XDMF instead.\u001b[0m\n"
      ]
     },
     "metadata": {},
     "output_type": "display_data"
    },
    {
     "name": "stdout",
     "output_type": "stream",
     "text": [
      "     Resolution :  0.25\n",
      "     Opimizer:  lbfgs\n",
      " \n",
      " \n",
      "   _   _            ____   ___  __  __ \n",
      "  | \\ | | ___ _   _|  _ \\ / _ \\|  \\/  |\n",
      "  |  \\| |/ _ \\ | | | |_) | | | | |\\/| |\n",
      "  | |\\  |  __/ |_| |  _ <| |_| | |  | |\n",
      "  |_| \\_|\\___|\\__,_|_| \\_\\ ___/|_|  |_|\n",
      "\n",
      "                  2024.09.18\n",
      "\n",
      "************ MESH READING COMPLETE ************\n",
      "\n",
      " * Dimension of the problem: 3D\n",
      " * Elements type:            4-node tetrahedron\n",
      " * Number of Dofs:           52137\n",
      "\n"
     ]
    },
    {
     "data": {
      "text/html": [
       "<pre style=\"white-space:pre;overflow-x:auto;line-height:normal;font-family:Menlo,'DejaVu Sans Mono',consolas,'Courier New',monospace\"><span style=\"color: #808000; text-decoration-color: #808000; font-weight: bold\">Warning:</span><span style=\"color: #808000; text-decoration-color: #808000\"> DOLFIN XML is a legacy format. Consider using XDMF instead.</span>\n",
       "</pre>\n"
      ],
      "text/plain": [
       "\u001b[1;33mWarning:\u001b[0m\u001b[33m DOLFIN XML is a legacy format. Consider using XDMF instead.\u001b[0m\n"
      ]
     },
     "metadata": {},
     "output_type": "display_data"
    },
    {
     "name": "stdout",
     "output_type": "stream",
     "text": [
      "\n"
     ]
    },
    {
     "data": {
      "text/html": [
       "<pre style=\"white-space:pre;overflow-x:auto;line-height:normal;font-family:Menlo,'DejaVu Sans Mono',consolas,'Courier New',monospace\"><span style=\"color: #808000; text-decoration-color: #808000; font-weight: bold\">Warning:</span><span style=\"color: #808000; text-decoration-color: #808000\"> DOLFIN XML is a legacy format. Consider using XDMF instead.</span>\n",
       "</pre>\n"
      ],
      "text/plain": [
       "\u001b[1;33mWarning:\u001b[0m\u001b[33m DOLFIN XML is a legacy format. Consider using XDMF instead.\u001b[0m\n"
      ]
     },
     "metadata": {},
     "output_type": "display_data"
    },
    {
     "name": "stdout",
     "output_type": "stream",
     "text": [
      "     Opimizer:  adam\n",
      " \n",
      " \n",
      "   _   _            ____   ___  __  __ \n",
      "  | \\ | | ___ _   _|  _ \\ / _ \\|  \\/  |\n",
      "  |  \\| |/ _ \\ | | | |_) | | | | |\\/| |\n",
      "  | |\\  |  __/ |_| |  _ <| |_| | |  | |\n",
      "  |_| \\_|\\___|\\__,_|_| \\_\\ ___/|_|  |_|\n",
      "\n",
      "                  2024.09.18\n",
      "\n",
      "************ MESH READING COMPLETE ************\n",
      "\n",
      " * Dimension of the problem: 3D\n",
      " * Elements type:            4-node tetrahedron\n",
      " * Number of Dofs:           52137\n",
      "\n"
     ]
    },
    {
     "data": {
      "text/html": [
       "<pre style=\"white-space:pre;overflow-x:auto;line-height:normal;font-family:Menlo,'DejaVu Sans Mono',consolas,'Courier New',monospace\"><span style=\"color: #808000; text-decoration-color: #808000; font-weight: bold\">Warning:</span><span style=\"color: #808000; text-decoration-color: #808000\"> DOLFIN XML is a legacy format. Consider using XDMF instead.</span>\n",
       "</pre>\n"
      ],
      "text/plain": [
       "\u001b[1;33mWarning:\u001b[0m\u001b[33m DOLFIN XML is a legacy format. Consider using XDMF instead.\u001b[0m\n"
      ]
     },
     "metadata": {},
     "output_type": "display_data"
    },
    {
     "name": "stdout",
     "output_type": "stream",
     "text": [
      "\n"
     ]
    },
    {
     "data": {
      "text/html": [
       "<pre style=\"white-space:pre;overflow-x:auto;line-height:normal;font-family:Menlo,'DejaVu Sans Mono',consolas,'Courier New',monospace\"><span style=\"color: #808000; text-decoration-color: #808000; font-weight: bold\">Warning:</span><span style=\"color: #808000; text-decoration-color: #808000\"> DOLFIN XML is a legacy format. Consider using XDMF instead.</span>\n",
       "</pre>\n"
      ],
      "text/plain": [
       "\u001b[1;33mWarning:\u001b[0m\u001b[33m DOLFIN XML is a legacy format. Consider using XDMF instead.\u001b[0m\n"
      ]
     },
     "metadata": {},
     "output_type": "display_data"
    },
    {
     "name": "stdout",
     "output_type": "stream",
     "text": [
      "Experiment:  Experiment_4\n",
      "     Resolution :  1\n",
      "     Opimizer:  lbfgs\n",
      " \n",
      " \n",
      "   _   _            ____   ___  __  __ \n",
      "  | \\ | | ___ _   _|  _ \\ / _ \\|  \\/  |\n",
      "  |  \\| |/ _ \\ | | | |_) | | | | |\\/| |\n",
      "  | |\\  |  __/ |_| |  _ <| |_| | |  | |\n",
      "  |_| \\_|\\___|\\__,_|_| \\_\\ ___/|_|  |_|\n",
      "\n",
      "                  2024.09.18\n",
      "\n",
      "************ MESH READING COMPLETE ************\n",
      "\n",
      " * Dimension of the problem: 3D\n",
      " * Elements type:            4-node tetrahedron\n",
      " * Number of Dofs:           2403\n",
      "\n"
     ]
    },
    {
     "data": {
      "text/html": [
       "<pre style=\"white-space:pre;overflow-x:auto;line-height:normal;font-family:Menlo,'DejaVu Sans Mono',consolas,'Courier New',monospace\"><span style=\"color: #808000; text-decoration-color: #808000; font-weight: bold\">Warning:</span><span style=\"color: #808000; text-decoration-color: #808000\"> DOLFIN XML is a legacy format. Consider using XDMF instead.</span>\n",
       "</pre>\n"
      ],
      "text/plain": [
       "\u001b[1;33mWarning:\u001b[0m\u001b[33m DOLFIN XML is a legacy format. Consider using XDMF instead.\u001b[0m\n"
      ]
     },
     "metadata": {},
     "output_type": "display_data"
    },
    {
     "name": "stdout",
     "output_type": "stream",
     "text": [
      "\n"
     ]
    },
    {
     "data": {
      "text/html": [
       "<pre style=\"white-space:pre;overflow-x:auto;line-height:normal;font-family:Menlo,'DejaVu Sans Mono',consolas,'Courier New',monospace\"><span style=\"color: #808000; text-decoration-color: #808000; font-weight: bold\">Warning:</span><span style=\"color: #808000; text-decoration-color: #808000\"> DOLFIN XML is a legacy format. Consider using XDMF instead.</span>\n",
       "</pre>\n"
      ],
      "text/plain": [
       "\u001b[1;33mWarning:\u001b[0m\u001b[33m DOLFIN XML is a legacy format. Consider using XDMF instead.\u001b[0m\n"
      ]
     },
     "metadata": {},
     "output_type": "display_data"
    },
    {
     "name": "stdout",
     "output_type": "stream",
     "text": [
      "     Opimizer:  adam\n",
      " \n",
      " \n",
      "   _   _            ____   ___  __  __ \n",
      "  | \\ | | ___ _   _|  _ \\ / _ \\|  \\/  |\n",
      "  |  \\| |/ _ \\ | | | |_) | | | | |\\/| |\n",
      "  | |\\  |  __/ |_| |  _ <| |_| | |  | |\n",
      "  |_| \\_|\\___|\\__,_|_| \\_\\ ___/|_|  |_|\n",
      "\n",
      "                  2024.09.18\n",
      "\n",
      "************ MESH READING COMPLETE ************\n",
      "\n",
      " * Dimension of the problem: 3D\n",
      " * Elements type:            4-node tetrahedron\n",
      " * Number of Dofs:           2403\n",
      "\n"
     ]
    },
    {
     "data": {
      "text/html": [
       "<pre style=\"white-space:pre;overflow-x:auto;line-height:normal;font-family:Menlo,'DejaVu Sans Mono',consolas,'Courier New',monospace\"><span style=\"color: #808000; text-decoration-color: #808000; font-weight: bold\">Warning:</span><span style=\"color: #808000; text-decoration-color: #808000\"> DOLFIN XML is a legacy format. Consider using XDMF instead.</span>\n",
       "</pre>\n"
      ],
      "text/plain": [
       "\u001b[1;33mWarning:\u001b[0m\u001b[33m DOLFIN XML is a legacy format. Consider using XDMF instead.\u001b[0m\n"
      ]
     },
     "metadata": {},
     "output_type": "display_data"
    },
    {
     "name": "stdout",
     "output_type": "stream",
     "text": [
      "\n"
     ]
    },
    {
     "data": {
      "text/html": [
       "<pre style=\"white-space:pre;overflow-x:auto;line-height:normal;font-family:Menlo,'DejaVu Sans Mono',consolas,'Courier New',monospace\"><span style=\"color: #808000; text-decoration-color: #808000; font-weight: bold\">Warning:</span><span style=\"color: #808000; text-decoration-color: #808000\"> DOLFIN XML is a legacy format. Consider using XDMF instead.</span>\n",
       "</pre>\n"
      ],
      "text/plain": [
       "\u001b[1;33mWarning:\u001b[0m\u001b[33m DOLFIN XML is a legacy format. Consider using XDMF instead.\u001b[0m\n"
      ]
     },
     "metadata": {},
     "output_type": "display_data"
    },
    {
     "name": "stdout",
     "output_type": "stream",
     "text": [
      "     Resolution :  0.5\n",
      "     Opimizer:  lbfgs\n",
      " \n",
      " \n",
      "   _   _            ____   ___  __  __ \n",
      "  | \\ | | ___ _   _|  _ \\ / _ \\|  \\/  |\n",
      "  |  \\| |/ _ \\ | | | |_) | | | | |\\/| |\n",
      "  | |\\  |  __/ |_| |  _ <| |_| | |  | |\n",
      "  |_| \\_|\\___|\\__,_|_| \\_\\ ___/|_|  |_|\n",
      "\n",
      "                  2024.09.18\n",
      "\n",
      "************ MESH READING COMPLETE ************\n",
      "\n",
      " * Dimension of the problem: 3D\n",
      " * Elements type:            4-node tetrahedron\n",
      " * Number of Dofs:           10011\n",
      "\n"
     ]
    },
    {
     "data": {
      "text/html": [
       "<pre style=\"white-space:pre;overflow-x:auto;line-height:normal;font-family:Menlo,'DejaVu Sans Mono',consolas,'Courier New',monospace\"><span style=\"color: #808000; text-decoration-color: #808000; font-weight: bold\">Warning:</span><span style=\"color: #808000; text-decoration-color: #808000\"> DOLFIN XML is a legacy format. Consider using XDMF instead.</span>\n",
       "</pre>\n"
      ],
      "text/plain": [
       "\u001b[1;33mWarning:\u001b[0m\u001b[33m DOLFIN XML is a legacy format. Consider using XDMF instead.\u001b[0m\n"
      ]
     },
     "metadata": {},
     "output_type": "display_data"
    },
    {
     "name": "stdout",
     "output_type": "stream",
     "text": [
      "\n"
     ]
    },
    {
     "data": {
      "text/html": [
       "<pre style=\"white-space:pre;overflow-x:auto;line-height:normal;font-family:Menlo,'DejaVu Sans Mono',consolas,'Courier New',monospace\"><span style=\"color: #808000; text-decoration-color: #808000; font-weight: bold\">Warning:</span><span style=\"color: #808000; text-decoration-color: #808000\"> DOLFIN XML is a legacy format. Consider using XDMF instead.</span>\n",
       "</pre>\n"
      ],
      "text/plain": [
       "\u001b[1;33mWarning:\u001b[0m\u001b[33m DOLFIN XML is a legacy format. Consider using XDMF instead.\u001b[0m\n"
      ]
     },
     "metadata": {},
     "output_type": "display_data"
    },
    {
     "name": "stdout",
     "output_type": "stream",
     "text": [
      "     Opimizer:  adam\n",
      " \n",
      " \n",
      "   _   _            ____   ___  __  __ \n",
      "  | \\ | | ___ _   _|  _ \\ / _ \\|  \\/  |\n",
      "  |  \\| |/ _ \\ | | | |_) | | | | |\\/| |\n",
      "  | |\\  |  __/ |_| |  _ <| |_| | |  | |\n",
      "  |_| \\_|\\___|\\__,_|_| \\_\\ ___/|_|  |_|\n",
      "\n",
      "                  2024.09.18\n",
      "\n",
      "************ MESH READING COMPLETE ************\n",
      "\n",
      " * Dimension of the problem: 3D\n",
      " * Elements type:            4-node tetrahedron\n",
      " * Number of Dofs:           10011\n",
      "\n"
     ]
    },
    {
     "data": {
      "text/html": [
       "<pre style=\"white-space:pre;overflow-x:auto;line-height:normal;font-family:Menlo,'DejaVu Sans Mono',consolas,'Courier New',monospace\"><span style=\"color: #808000; text-decoration-color: #808000; font-weight: bold\">Warning:</span><span style=\"color: #808000; text-decoration-color: #808000\"> DOLFIN XML is a legacy format. Consider using XDMF instead.</span>\n",
       "</pre>\n"
      ],
      "text/plain": [
       "\u001b[1;33mWarning:\u001b[0m\u001b[33m DOLFIN XML is a legacy format. Consider using XDMF instead.\u001b[0m\n"
      ]
     },
     "metadata": {},
     "output_type": "display_data"
    },
    {
     "name": "stdout",
     "output_type": "stream",
     "text": [
      "\n"
     ]
    },
    {
     "data": {
      "text/html": [
       "<pre style=\"white-space:pre;overflow-x:auto;line-height:normal;font-family:Menlo,'DejaVu Sans Mono',consolas,'Courier New',monospace\"><span style=\"color: #808000; text-decoration-color: #808000; font-weight: bold\">Warning:</span><span style=\"color: #808000; text-decoration-color: #808000\"> DOLFIN XML is a legacy format. Consider using XDMF instead.</span>\n",
       "</pre>\n"
      ],
      "text/plain": [
       "\u001b[1;33mWarning:\u001b[0m\u001b[33m DOLFIN XML is a legacy format. Consider using XDMF instead.\u001b[0m\n"
      ]
     },
     "metadata": {},
     "output_type": "display_data"
    },
    {
     "name": "stdout",
     "output_type": "stream",
     "text": [
      "     Resolution :  0.25\n",
      "     Opimizer:  lbfgs\n",
      " \n",
      " \n",
      "   _   _            ____   ___  __  __ \n",
      "  | \\ | | ___ _   _|  _ \\ / _ \\|  \\/  |\n",
      "  |  \\| |/ _ \\ | | | |_) | | | | |\\/| |\n",
      "  | |\\  |  __/ |_| |  _ <| |_| | |  | |\n",
      "  |_| \\_|\\___|\\__,_|_| \\_\\ ___/|_|  |_|\n",
      "\n",
      "                  2024.09.18\n",
      "\n",
      "************ MESH READING COMPLETE ************\n",
      "\n",
      " * Dimension of the problem: 3D\n",
      " * Elements type:            4-node tetrahedron\n",
      " * Number of Dofs:           52137\n",
      "\n"
     ]
    },
    {
     "data": {
      "text/html": [
       "<pre style=\"white-space:pre;overflow-x:auto;line-height:normal;font-family:Menlo,'DejaVu Sans Mono',consolas,'Courier New',monospace\"><span style=\"color: #808000; text-decoration-color: #808000; font-weight: bold\">Warning:</span><span style=\"color: #808000; text-decoration-color: #808000\"> DOLFIN XML is a legacy format. Consider using XDMF instead.</span>\n",
       "</pre>\n"
      ],
      "text/plain": [
       "\u001b[1;33mWarning:\u001b[0m\u001b[33m DOLFIN XML is a legacy format. Consider using XDMF instead.\u001b[0m\n"
      ]
     },
     "metadata": {},
     "output_type": "display_data"
    },
    {
     "name": "stdout",
     "output_type": "stream",
     "text": [
      "\n"
     ]
    },
    {
     "data": {
      "text/html": [
       "<pre style=\"white-space:pre;overflow-x:auto;line-height:normal;font-family:Menlo,'DejaVu Sans Mono',consolas,'Courier New',monospace\"><span style=\"color: #808000; text-decoration-color: #808000; font-weight: bold\">Warning:</span><span style=\"color: #808000; text-decoration-color: #808000\"> DOLFIN XML is a legacy format. Consider using XDMF instead.</span>\n",
       "</pre>\n"
      ],
      "text/plain": [
       "\u001b[1;33mWarning:\u001b[0m\u001b[33m DOLFIN XML is a legacy format. Consider using XDMF instead.\u001b[0m\n"
      ]
     },
     "metadata": {},
     "output_type": "display_data"
    },
    {
     "name": "stdout",
     "output_type": "stream",
     "text": [
      "     Opimizer:  adam\n",
      " \n",
      " \n",
      "   _   _            ____   ___  __  __ \n",
      "  | \\ | | ___ _   _|  _ \\ / _ \\|  \\/  |\n",
      "  |  \\| |/ _ \\ | | | |_) | | | | |\\/| |\n",
      "  | |\\  |  __/ |_| |  _ <| |_| | |  | |\n",
      "  |_| \\_|\\___|\\__,_|_| \\_\\ ___/|_|  |_|\n",
      "\n",
      "                  2024.09.18\n",
      "\n",
      "************ MESH READING COMPLETE ************\n",
      "\n",
      " * Dimension of the problem: 3D\n",
      " * Elements type:            4-node tetrahedron\n",
      " * Number of Dofs:           52137\n",
      "\n"
     ]
    },
    {
     "data": {
      "text/html": [
       "<pre style=\"white-space:pre;overflow-x:auto;line-height:normal;font-family:Menlo,'DejaVu Sans Mono',consolas,'Courier New',monospace\"><span style=\"color: #808000; text-decoration-color: #808000; font-weight: bold\">Warning:</span><span style=\"color: #808000; text-decoration-color: #808000\"> DOLFIN XML is a legacy format. Consider using XDMF instead.</span>\n",
       "</pre>\n"
      ],
      "text/plain": [
       "\u001b[1;33mWarning:\u001b[0m\u001b[33m DOLFIN XML is a legacy format. Consider using XDMF instead.\u001b[0m\n"
      ]
     },
     "metadata": {},
     "output_type": "display_data"
    },
    {
     "name": "stdout",
     "output_type": "stream",
     "text": [
      "\n"
     ]
    },
    {
     "data": {
      "text/html": [
       "<pre style=\"white-space:pre;overflow-x:auto;line-height:normal;font-family:Menlo,'DejaVu Sans Mono',consolas,'Courier New',monospace\"><span style=\"color: #808000; text-decoration-color: #808000; font-weight: bold\">Warning:</span><span style=\"color: #808000; text-decoration-color: #808000\"> DOLFIN XML is a legacy format. Consider using XDMF instead.</span>\n",
       "</pre>\n"
      ],
      "text/plain": [
       "\u001b[1;33mWarning:\u001b[0m\u001b[33m DOLFIN XML is a legacy format. Consider using XDMF instead.\u001b[0m\n"
      ]
     },
     "metadata": {},
     "output_type": "display_data"
    }
   ],
   "source": [
    "experiments_list = [\"Experiment_1\", \"Experiment_2\", \"Experiment_3\", \"Experiment_4\"]\n",
    "element_sizes_list = [[1, 0.5, 0.25, 0.125, 0.0625],[1, 0.5, 0.25, 0.125, 0.0625],[1, 0.5, 0.25], [1, 0.5, 0.25]]\n",
    "\n",
    "optimizers = [\"lbfgs\", \"adam\"]\n",
    "\n",
    "error_stress = []\n",
    "error_displ = []\n",
    "training_time = []\n",
    "\n",
    "\n",
    "for exp in range(len(experiments_list)):\n",
    "\n",
    "    element_size = element_sizes_list[exp]\n",
    "    experiment = experiments_list[exp]\n",
    "\n",
    "    print(\"Experiment: \", experiment)\n",
    "\n",
    "    error_stress.append(numpy.zeros((len(optimizers), len(element_size))))\n",
    "    error_displ.append(numpy.zeros((len(optimizers), len(element_size))))\n",
    "    training_time.append(numpy.zeros((len(optimizers), len(element_size))))\n",
    "\n",
    "    for e in range(len(element_size)):\n",
    "        print(\"     Resolution : \", element_size[e])\n",
    "\n",
    "        for o_id in range(len(optimizers)):\n",
    "            # elem_IDs = []\n",
    "            o = optimizers[o_id]\n",
    "            print(\"     Opimizer: \", o)\n",
    "\n",
    "            time = torch.tensor(numpy.load('Trained_models/'+experiment+'/'+o+'_3D_Cube_'+str(element_size[e])+'_time.npy'))\n",
    "            trained_dict = torch.load('Trained_models/'+experiment+'/'+o+'_3D_Cube_'+str(element_size[e]), weights_only=False)\n",
    "            config[\"interpolation\"][\"MaxElemSize2D\"] = trained_dict[\"h_max\"].item()\n",
    "\n",
    "            if config[\"interpolation\"][\"dimension\"] == 1:\n",
    "                Mat = pre.Material(         flag_lame = True,                               # If True should input lmbda and mu instead of E and nu\n",
    "                                            coef1     = config[\"material\"][\"E\"],            # Young Modulus\n",
    "                                            coef2     = config[\"geometry\"][\"A\"]             # Section area of the 1D bar\n",
    "                                    )\n",
    "            elif config[\"interpolation\"][\"dimension\"] in [2, 3]:\n",
    "                try:\n",
    "                    Mat = pre.Material(     flag_lame = False,                              # If True should input lmbda and mu instead of E and nu\n",
    "                                            coef1     = config[\"material\"][\"E\"],            # Young Modulus\n",
    "                                            coef2     = config[\"material\"][\"nu\"]            # Poisson's ratio\n",
    "                                    )\n",
    "                except:\n",
    "                    Mat = pre.Material(     flag_lame = True,                               # If True should input lmbda and mu instead of E and nu\n",
    "                                            coef1     = config[\"material\"][\"lmbda\"],        # First Lame's coef\n",
    "                                            coef2     = config[\"material\"][\"mu\"]            # Second Lame's coef\n",
    "                                    )\n",
    "\n",
    "            MaxElemSize = pre.ElementSize(\n",
    "                                            dimension     = config[\"interpolation\"][\"dimension\"],\n",
    "                                            L             = config[\"geometry\"][\"L\"],\n",
    "                                            order         = config[\"interpolation\"][\"order\"],\n",
    "                                            np            = config[\"interpolation\"][\"np\"],\n",
    "                                            MaxElemSize2D = config[\"interpolation\"][\"MaxElemSize2D\"]\n",
    "                                        )\n",
    "            Excluded = []\n",
    "            Mesh_object = pre.Mesh( \n",
    "                                            config[\"geometry\"][\"Name\"],                 # Create the mesh object\n",
    "                                            MaxElemSize, \n",
    "                                            config[\"interpolation\"][\"order\"], \n",
    "                                            config[\"interpolation\"][\"dimension\"]\n",
    "                                    )\n",
    "            Mesh_object.AddBorders(config[\"Borders\"][\"Borders\"])\n",
    "            Mesh_object.AddBCs(                                                         # Include Boundary physical domains infos (BCs+volume)\n",
    "                                            config[\"geometry\"][\"Volume_element\"],\n",
    "                                            Excluded,\n",
    "                                            config[\"DirichletDictionryList\"]\n",
    "                                )                   \n",
    "\n",
    "            Mesh_object.MeshGeo()                                                       # Mesh the .geo file if .msh does not exist\n",
    "            Mesh_object.ReadMesh()                                                      # Parse the .msh file\n",
    "            Mesh_object.ExportMeshVtk()\n",
    "\n",
    "            if int(Mesh_object.dim) != int(Mesh_object.dimension):\n",
    "                raise ValueError(\"The dimension of the provided geometry does not match the job dimension\")\n",
    "\n",
    "            Model_FEM = MeshNN_3D(Mesh_object, n_components = 3)\n",
    "            Model_FEM.load_state_dict(trained_dict)\n",
    "            Model_FEM.eval()\n",
    "\n",
    "\n",
    "            coordinates_all = torch.ones_like(Model_FEM.coordinates_all)\n",
    "            coordinates_all[Model_FEM.coord_free] = Model_FEM.coordinates['free']\n",
    "            coordinates_all[~Model_FEM.coord_free] = Model_FEM.coordinates['imposed']\n",
    "            Nodes = torch.hstack([torch.linspace(1,coordinates_all.shape[0],coordinates_all.shape[0], dtype = coordinates_all.dtype, device = coordinates_all.device)[:,None],\n",
    "                                    coordinates_all])\n",
    "            Model_FEM.mesh.Nodes = Nodes.detach().cpu().numpy()\n",
    "            Model_FEM.mesh.ExportMeshVtk(flag_update = True)\n",
    "\n",
    "            elem_IDs = torch.tensor(Model_FEM.mesh.GetCellIds(eval_coord),dtype=torch.int)\n",
    "\n",
    "            u = Model_FEM(eval_coord, elem_IDs)\n",
    "            eps =  Strain(u,eval_coord)\n",
    "            sigma =  torch.stack(Stress(eps, Mat.lmbda, Mat.mu),dim=1)\n",
    "            u = torch.transpose(u,0,1)\n",
    "\n",
    "            error_displ[exp][o_id,e] = (torch.linalg.vector_norm(num_displ - u)/torch.linalg.vector_norm(num_displ)).item()\n",
    "            error_stress[exp][o_id,e] = (torch.linalg.vector_norm(num_stress - sigma)/torch.linalg.vector_norm(num_stress)).item()\n",
    "            training_time[exp][o_id,e] = time\n",
    "\n",
    "\n"
   ]
  },
  {
   "cell_type": "markdown",
   "metadata": {},
   "source": [
    "# Numerical solution vs Reference solution\n",
    "\n",
    "- load FEM solution and evaluate error"
   ]
  },
  {
   "cell_type": "code",
   "execution_count": 8,
   "metadata": {},
   "outputs": [
    {
     "name": "stdout",
     "output_type": "stream",
     "text": [
      "Resolution :  1\n",
      "Resolution :  0.5\n",
      "Resolution :  0.25\n",
      "Resolution :  0.125\n",
      "Resolution :  0.062\n"
     ]
    }
   ],
   "source": [
    "element_size = [1, 0.5, 0.25, 0.125, 0.062]\n",
    "num_error_stress = numpy.zeros(len(element_size))\n",
    "num_eroor_displ = numpy.zeros(len(element_size))\n",
    "max_stress = numpy.zeros(len(element_size))\n",
    "\n",
    "for e in range(len(element_size)):\n",
    "    print(\"Resolution : \", element_size[e])\n",
    "\n",
    "    displ_file = \"../../3D_example/num/Cube_hole_order_1_\"+str(element_size[e])+\"_displacement.npy\"\n",
    "    stress_file = \"../../3D_example/num/Cube_hole_order_1_\"+str(element_size[e])+\"_stress.npy\"\n",
    "\n",
    "    displ = torch.tensor(numpy.load(displ_file))[0:n_samples,:]\n",
    "    stress = torch.tensor(numpy.load(stress_file))[0:n_samples,:]\n",
    "    stress = torch.index_select(stress, 1, torch.LongTensor([0,4,8,1,5,2]))\n",
    "\n",
    "    num_eroor_displ[e] = (torch.linalg.vector_norm(num_displ - displ)/torch.linalg.vector_norm(num_displ)).item()\n",
    "    num_error_stress[e] = (torch.linalg.vector_norm(num_stress - stress)/torch.linalg.vector_norm(num_stress)).item()\n",
    "\n",
    "\n",
    "\n",
    "\n"
   ]
  },
  {
   "cell_type": "markdown",
   "metadata": {},
   "source": [
    "# Table 2: Fixed mesh"
   ]
  },
  {
   "cell_type": "code",
   "execution_count": 9,
   "metadata": {},
   "outputs": [
    {
     "name": "stdout",
     "output_type": "stream",
     "text": [
      "Level:  1\n",
      "     FEM :  0.1062 0.4194 0.062\n",
      "     L-BFGS:  0.1062 0.4194 2.164\n",
      "     Adam + L-BFGS:  0.1061 0.4194 8.799\n",
      "\n",
      "Level:  2\n",
      "     FEM :  0.0664 0.3217 0.109\n",
      "     single-level, L-BFGS:  0.0664 0.3218 6.468\n",
      "     single-level, Adam + L-BFGS:  0.0664 0.3218 22.823\n",
      "     multi-level, L-BFGS:  0.0664 0.3218 9.472\n",
      "     multi-level, Adam + L-BFGS:  0.0664 0.3218 28.292\n",
      "\n",
      "Level:  3\n",
      "     FEM :  0.0227 0.1889 0.682\n",
      "     single-level, L-BFGS:  0.0227 0.1889 46.714\n",
      "     single-level, Adam + L-BFGS:  0.0227 0.1889 108.696\n",
      "     multi-level, L-BFGS:  0.0227 0.1889 58.197\n",
      "     multi-level, Adam + L-BFGS:  0.0227 0.1889 102.74\n",
      "\n",
      "Level:  4\n",
      "     FEM :  0.0062 0.11 5.809\n",
      "     single-level, L-BFGS:  0.0062 0.11 515.266\n",
      "     single-level, Adam + L-BFGS:  0.0064 0.11 739.592\n",
      "     multi-level, L-BFGS:  0.0063 0.11 171.457\n",
      "     multi-level, Adam + L-BFGS:  0.0063 0.11 347.136\n",
      "\n",
      "Level:  5\n",
      "     FEM :  0.0007 0.0667 101.365\n",
      "     single-level, L-BFGS:  0.0043 0.0667 6022.36\n",
      "     single-level, Adam + L-BFGS:  0.0012 0.0667 17041.401\n",
      "     multi-level, L-BFGS:  0.0011 0.0667 1726.93\n",
      "     multi-level, Adam + L-BFGS:  0.0011 0.0667 2515.695\n",
      "\n"
     ]
    }
   ],
   "source": [
    "\n",
    "for e in range(len(element_sizes_list[0])):\n",
    "    if e==0:\n",
    "        print(\"Level: \", e+1)\n",
    "        print(\"     FEM : \", numpy.round(num_eroor_displ[e], decimals=4), numpy.round(num_error_stress[e], decimals=4), num_times[e] )\n",
    "        print(\"     L-BFGS: \",        numpy.round(error_displ[1][0,e],decimals=4), numpy.round(error_stress[1][0,e],decimals=4), numpy.round(training_time[1][0,e],decimals=3))\n",
    "        print(\"     Adam + L-BFGS: \", numpy.round(error_displ[1][1,e],decimals=4), numpy.round(error_stress[1][1,e],decimals=4), numpy.round(training_time[1][1,e],decimals=3))\n",
    "        print()\n",
    "    else:\n",
    "        print(\"Level: \", e+1)\n",
    "        print(\"     FEM : \", numpy.round(num_eroor_displ[e], decimals=4), numpy.round(num_error_stress[e], decimals=4), num_times[e] )\n",
    "        print(\"     single-level, L-BFGS: \",        numpy.round(error_displ[1][0,e],decimals=4), numpy.round(error_stress[1][0,e],decimals=4), numpy.round(training_time[1][0,e],decimals=3))\n",
    "        print(\"     single-level, Adam + L-BFGS: \", numpy.round(error_displ[1][1,e],decimals=4), numpy.round(error_stress[1][1,e],decimals=4), numpy.round(training_time[1][1,e],decimals=3))\n",
    "        print(\"     multi-level, L-BFGS: \",         numpy.round(error_displ[0][0,e],decimals=4), numpy.round(error_stress[0][0,e],decimals=4), numpy.round(training_time[0][0,e],decimals=3))\n",
    "        print(\"     multi-level, Adam + L-BFGS: \",  numpy.round(error_displ[0][1,e],decimals=4), numpy.round(error_stress[0][1,e],decimals=4), numpy.round(training_time[0][1,e],decimals=3))\n",
    "        print()\n",
    "  \n",
    "\n",
    "\n",
    "\n",
    "\n",
    "\n",
    "\n"
   ]
  },
  {
   "cell_type": "markdown",
   "metadata": {},
   "source": [
    "# Table 3: r-adaptive mesh"
   ]
  },
  {
   "cell_type": "code",
   "execution_count": 10,
   "metadata": {},
   "outputs": [
    {
     "name": "stdout",
     "output_type": "stream",
     "text": [
      "Level:  1\n",
      "     FEM :  0.1062 0.4194 0.062\n",
      "     L-BFGS:  0.1062 0.4191 3.774\n",
      "     Adam + L-BFGS:  0.1062 0.4191 10.946\n",
      "\n",
      "Level:  2\n",
      "     FEM :  0.0664 0.3217 0.109\n",
      "     single-level, L-BFGS:  0.0641 0.321 80.557\n",
      "     single-level, Adam + L-BFGS:  0.0637 0.3111 46.237\n",
      "     multi-level, L-BFGS:  0.0627 0.3115 26.873\n",
      "     multi-level, Adam + L-BFGS:  0.0637 0.3111 46.237\n",
      "\n",
      "Level:  3\n",
      "     FEM :  0.0227 0.1889 0.682\n",
      "     single-level, L-BFGS:  0.1386 0.237 1086.93\n",
      "     single-level, Adam + L-BFGS:  0.0215 0.1664 106.09\n",
      "     multi-level, L-BFGS:  0.0206 0.1673 144.599\n",
      "     multi-level, Adam + L-BFGS:  0.0215 0.1664 106.09\n",
      "\n"
     ]
    }
   ],
   "source": [
    "for e in range(len(element_sizes_list[0])):\n",
    "    if e==0:\n",
    "        print(\"Level: \", e+1)\n",
    "        print(\"     FEM : \", numpy.round(num_eroor_displ[e], decimals=4), numpy.round(num_error_stress[e], decimals=4), num_times[e] )\n",
    "        print(\"     L-BFGS: \",        numpy.round(error_displ[2][0,e],decimals=4), numpy.round(error_stress[2][0,e],decimals=4), numpy.round(training_time[2][0,e],decimals=3))\n",
    "        print(\"     Adam + L-BFGS: \", numpy.round(error_displ[2][1,e],decimals=4), numpy.round(error_stress[2][1,e],decimals=4), numpy.round(training_time[2][1,e],decimals=3))\n",
    "        print()\n",
    "    elif e>0 and e<3:\n",
    "        print(\"Level: \", e+1)\n",
    "        print(\"     FEM : \", numpy.round(num_eroor_displ[e], decimals=4), numpy.round(num_error_stress[e], decimals=4), num_times[e] )\n",
    "        print(\"     single-level, L-BFGS: \",        numpy.round(error_displ[2][0,e],decimals=4), numpy.round(error_stress[2][0,e],decimals=4), numpy.round(training_time[2][0,e],decimals=3))\n",
    "        print(\"     single-level, Adam + L-BFGS: \", numpy.round(error_displ[3][1,e],decimals=4), numpy.round(error_stress[3][1,e],decimals=4), numpy.round(training_time[3][1,e],decimals=3))\n",
    "        print(\"     multi-level, L-BFGS: \",         numpy.round(error_displ[3][0,e],decimals=4), numpy.round(error_stress[3][0,e],decimals=4), numpy.round(training_time[3][0,e],decimals=3))\n",
    "        print(\"     multi-level, Adam + L-BFGS: \",  numpy.round(error_displ[3][1,e],decimals=4), numpy.round(error_stress[3][1,e],decimals=4), numpy.round(training_time[3][1,e],decimals=3))\n",
    "        print()\n",
    "\n"
   ]
  }
 ],
 "metadata": {
  "kernelspec": {
   "display_name": "neurom_1",
   "language": "python",
   "name": "python3"
  },
  "language_info": {
   "codemirror_mode": {
    "name": "ipython",
    "version": 3
   },
   "file_extension": ".py",
   "mimetype": "text/x-python",
   "name": "python",
   "nbconvert_exporter": "python",
   "pygments_lexer": "ipython3",
   "version": "3.12.7"
  }
 },
 "nbformat": 4,
 "nbformat_minor": 2
}
